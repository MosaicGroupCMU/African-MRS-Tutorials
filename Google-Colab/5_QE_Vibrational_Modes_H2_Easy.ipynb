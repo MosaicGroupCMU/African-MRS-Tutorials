{
  "cells": [
    {
      "cell_type": "markdown",
      "metadata": {
        "id": "view-in-github",
        "colab_type": "text"
      },
      "source": [
        "<a href=\"https://colab.research.google.com/github/MosaicGroupCMU/African-MRS-Tutorials/blob/main/Google-Colab/5_QE_Vibrational_Modes_H2_Easy.ipynb\" target=\"_parent\"><img src=\"https://colab.research.google.com/assets/colab-badge.svg\" alt=\"Open In Colab\"/></a>"
      ]
    },
    {
      "cell_type": "markdown",
      "source": [
        "# Install Quantum ESPRESSO and ASE\n",
        "\n",
        "**Run the cell below at the start of today's class to install QE and ASE.**\n",
        "\n",
        "NOTE: Quantum ESPRESSO installation takes ~8 minutes. ASE installation takes ~3 minutes."
      ],
      "metadata": {
        "id": "N3mjN4ZgtAHo"
      }
    },
    {
      "cell_type": "code",
      "source": [
        "# eliminate text output during installation\n",
        "%%capture\n",
        "\n",
        "# clone Quantum ESPRESSO git file - may take ~5 mins\n",
        "# (the exclamation mark means that the command is run under Linux)\n",
        "!git clone https://github.com/QEF/q-e.git\n",
        "\n",
        "# install mathematical libraries to peform fast Fourier transforms\n",
        "!apt-get install -y libfftw3-3 libfftw3-dev libfftw3-doc\n",
        "\n",
        "# run configuration\n",
        "%cd q-e\n",
        "!DFLAGS='-D__FFTW3 ' FFT_LIBS='-lfftw3' ./configure\n",
        "# install executables required for this workbook - may take ~3 mins\n",
        "!make pw\n",
        "!make ph\n",
        "!make dynmat\n",
        "!make matdyn\n",
        "!make q2r\n",
        "!make plotband\n",
        "\n",
        "# install the Atomic simulation environment - may take ~3 mins\n",
        "# ! apt install ase\n",
        "! pip install git+https://gitlab.com/ase/ase"
      ],
      "metadata": {
        "id": "eCRpzGBPtQLX"
      },
      "execution_count": null,
      "outputs": []
    },
    {
      "cell_type": "markdown",
      "metadata": {
        "id": "0jCOYZN6webm"
      },
      "source": [
        "---\n",
        "# Vibrational modes of molecules\n",
        "\n",
        "In this tutorial, you will lean how to calculate the vibrational frequencies of molecules from first principles, using molecular hydrogen as an example.\n",
        "\n",
        "Contributors: [Lorenzo Bastonero](https://github.com/bastonero), [Jessica Wen](https://github.com/JessicaWen-PhD)\n",
        "\n",
        "This easy workbook is designed for people who are unfamiliar with Python and terminal commands.\n",
        "\n",
        "If this notebook is too easy for you, there is a [medium-level workbook]() designed for people who have done Python and worked with terminal commands before, but are unfamiliar with Quantum ESPRESSO; if you have already dabbled in some Quantum ESPRESSO, you can try the [hard version]() of the workbook."
      ]
    },
    {
      "cell_type": "markdown",
      "metadata": {
        "id": "63asZhEcwebo"
      },
      "source": [
        "# The harmonic approximation\n",
        "\n",
        "Atoms in molecules and solids vibrate around their _equilibrium_ positions.\n",
        "\n",
        "![n2harmonicoscillation.png](https://upload.wikimedia.org/wikipedia/commons/a/aa/N2ground.png)"
      ]
    },
    {
      "cell_type": "markdown",
      "source": [
        "# Setup\n",
        "\n",
        "This part installs libraries for numerical calculations and plotting."
      ],
      "metadata": {
        "id": "1yAY5ejq4gID"
      }
    },
    {
      "cell_type": "code",
      "source": [
        "import os\n",
        "import numpy as np\n",
        "from pathlib import Path\n",
        "import matplotlib.pyplot as plt"
      ],
      "metadata": {
        "id": "knPqVW7t4mvp"
      },
      "execution_count": null,
      "outputs": []
    },
    {
      "cell_type": "markdown",
      "source": [
        "This part uploads the pseudopotentials needed for our calculations."
      ],
      "metadata": {
        "id": "MpjczVtf4vG0"
      }
    },
    {
      "cell_type": "code",
      "source": [
        "# eliminate text output during installation\n",
        "%%capture\n",
        "\n",
        "# create pseudopotentials folder and navigate into it\n",
        "%mkdir -p /content/q-e/pseudopotentials\n",
        "%cd /content/q-e/pseudopotentials/\n",
        "\n",
        "# download the H pseudopotential file from the GitHub\n",
        "! wget https://raw.githubusercontent.com/MosaicGroupCMU/African-MRS-Tutorials/refs/heads/main/Google-Colab/H.UPF\n",
        "\n",
        "# navigate to main directory named '/content/'\n",
        "%cd ../..\n",
        "\n",
        "# clean up some files\n",
        "! rm -rf sample_data"
      ],
      "metadata": {
        "id": "F-FAZiHE4wqr"
      },
      "execution_count": null,
      "outputs": []
    },
    {
      "cell_type": "markdown",
      "metadata": {
        "id": "trifgFZWwebq"
      },
      "source": [
        "## $H_2$ vibrational mode: finite differences of forces"
      ]
    },
    {
      "cell_type": "markdown",
      "metadata": {
        "id": "yQydcx2lwebq"
      },
      "source": [
        "### Step 1: find the _equilibrium_ geometry."
      ]
    },
    {
      "cell_type": "code",
      "execution_count": null,
      "metadata": {
        "id": "4W9gnjCowebq"
      },
      "outputs": [],
      "source": [
        "# Importing required libraries\n",
        "from ase import Atoms\n",
        "from ase.visualize import view\n",
        "\n",
        "# Step 1: Define H2 molecule with bond length\n",
        "# H-H bond length is given as 0.74 angstroms in the literature.\n",
        "bond_length = _________\n",
        "\n",
        "# Create an H2 molecule with two hydrogen atoms\n",
        "h2_molecule = Atoms('H2', positions=[[_________, _________, _________], [_________, _________, _________]])\n",
        "\n",
        "# Step 2: Visualize the molecule\n",
        "view(_________, viewer='x3d')\n",
        "# hint: try rotating the molecule and zooming in and out!"
      ]
    },
    {
      "cell_type": "code",
      "source": [
        "# Optional output: Print details of the H2 molecule\n",
        "print(\"H2 Molecule Information:\")\n",
        "print(\"Atomic Positions (in Angstrom):\")\n",
        "print(h2_molecule.get_positions())\n",
        "print(\"Atomic Numbers:\", h2_molecule.get_atomic_numbers())\n",
        "print(\"Bond Length:\", bond_length)"
      ],
      "metadata": {
        "id": "sONJtSiYN7pC"
      },
      "execution_count": null,
      "outputs": []
    },
    {
      "cell_type": "markdown",
      "source": [
        "Fill out the base input file (remember definitions can be found [here](https://www.ecosia.org/search?q=quantum+espresso+input+file&addon=chrome&addonversion=6.0.4&method=topbar&addon=opensearch))."
      ],
      "metadata": {
        "id": "XxFWfq0VOQu7"
      }
    },
    {
      "cell_type": "code",
      "source": [
        "# create calculation folder and navigate into it\n",
        "%mkdir -p /content/hydrogen\n",
        "%cd /content/hydrogen/\n",
        "\n",
        "# create input and write it into the file h2.scf.in\n",
        "qe_input = \"\"\"\n",
        "&control\n",
        "  prefix='h2',\n",
        "  calculation='_________',\n",
        "  verbosity='high',\n",
        "  pseudo_dir = '_________',\n",
        "  outdir='/content/_________/'\n",
        "  tstress=false,\n",
        "  tprnfor=false,\n",
        "  restart_mode='from_scratch',\n",
        "/\n",
        "&system\n",
        "  occupations='smearing',\n",
        "  smearing='_________', ! try using the Marzari-Vanderbilt-DeVita-Payne cold smearing (see PRL 82, 3296 (1999))\n",
        "  degauss=0.01,\n",
        "  ecutwfc = _________,\n",
        "  ecutrho = _________,\n",
        "  ibrav = 1,\n",
        "  celldm(1) = 20,\n",
        "  nat = _________,\n",
        "  ntyp = _________,\n",
        "/\n",
        "&electrons\n",
        "  conv_thr = 1e-6,\n",
        "/\n",
        "ATOMIC_SPECIES\n",
        " _________  1.00784  _________\n",
        "ATOMIC_POSITIONS (angstrom)\n",
        " _________ _________ _________ _________\n",
        " _________ _________ _________ _________\n",
        "K_POINTS (automatic)\n",
        "  1 1 1 0 0 0\n",
        "\"\"\"\n",
        "\n",
        "with open(\"_________\", \"w\") as f:\n",
        "    f.write(_________)\n",
        "\n",
        "# print the content of the input file (under Linux)\n",
        "! cat _________"
      ],
      "metadata": {
        "id": "fUbDog_EOSDB"
      },
      "execution_count": null,
      "outputs": []
    },
    {
      "cell_type": "markdown",
      "metadata": {
        "id": "fRx7J_B4webr"
      },
      "source": [
        "Calculate the potential energy surface for different distances of the atoms. We use a similar process to exercise 1 (on finding the minimum energy for different lattice parameters of silicon)."
      ]
    },
    {
      "cell_type": "code",
      "source": [
        "from ase import io\n",
        "\n",
        "# create a list for atomic distances to be tested\n",
        "distances = np.arange(_________) # try from 0.3 to 2.3 angstroms\n",
        "\n",
        "# find the second hydrogen in the \"atomic positions\" line in the input file\n",
        "distance_index = qe_input.find('_________') + _________\n",
        "\n",
        "total_energies = []\n",
        "for distance in distances:\n",
        "  # update the input file with the new atomic distance\n",
        "  new_input_file = qe_input[:_________] + \"%.2f\" % _________ + qe_input[_________+_________:]\n",
        "\n",
        "  # overwrite the input file\n",
        "  with open(\"_________\", \"w\") as f:\n",
        "    f.write(_________)\n",
        "\n",
        "  ! cat _________\n",
        "  ! /content/q-e/bin/_________  -in _________ > _________ # run the DFT input file\n",
        "\n",
        "  output = io.read(\"/content/hydrogen/_________\") # read the output file\n",
        "\n",
        "  total_energies.append(output._________()) # record the calculated total energy\n",
        "\n",
        "energy0 = min(_________)\n",
        "print(\"The minimum energy is: \", _________, \" eV\")"
      ],
      "metadata": {
        "id": "45y5q6HfW4h0"
      },
      "execution_count": null,
      "outputs": []
    },
    {
      "cell_type": "markdown",
      "source": [
        "Plot the energy variation over different atomic distances."
      ],
      "metadata": {
        "id": "7oZGosbxhMkn"
      }
    },
    {
      "cell_type": "code",
      "execution_count": null,
      "metadata": {
        "id": "6R_ietXIwebs"
      },
      "outputs": [],
      "source": [
        "fig,ax = plt.subplots()\n",
        "ax.plot(_________, _________)\n",
        "ax.set_xlabel('_________') # don't forget units!\n",
        "ax.set_ylabel('_________')\n",
        "plt.show()"
      ]
    },
    {
      "cell_type": "markdown",
      "metadata": {
        "id": "jmPjg2oqwebs"
      },
      "source": [
        "Perform a `relax` calculation using `pw.x`. First, we create another input file. Since we are relaxing the structure, we need to allow the ions (the core of the hydrogen atoms) to move.\n",
        "\n",
        "There are different algorithms that allow this to occur - we will use the BFGS algorithm. You can read more about the BFGS algorithm [here](https://paulino.princeton.edu/courses/cee8813H/2020/class_notes/4_9_20/Online4_2_Newton%20&%20Quasi-Newton_Algorithms.pdf)."
      ]
    },
    {
      "cell_type": "code",
      "source": [
        "# create input and write it into the file h2.relax.in\n",
        "relax_input = \"\"\"\n",
        "&control\n",
        "  prefix='h2',\n",
        "  calculation='_________',\n",
        "  verbosity='high',\n",
        "  pseudo_dir = '_________',\n",
        "  outdir='_________'\n",
        "  tstress=false,\n",
        "  tprnfor=false,\n",
        "  restart_mode='from_scratch',\n",
        "/\n",
        "&system\n",
        "  occupations='smearing',\n",
        "  smearing='_________', ! try using the Marzari-Vanderbilt-DeVita-Payne cold smearing (see PRL 82, 3296 (1999))\n",
        "  degauss=0.01,\n",
        "  ecutwfc = _________,\n",
        "  ecutrho = _________,\n",
        "  ibrav = 1,\n",
        "  celldm(1) = 20,\n",
        "  nat = _________,\n",
        "  ntyp = _________,\n",
        "/\n",
        "&electrons\n",
        "  conv_thr = 1e-6,\n",
        "/\n",
        "&ions\n",
        "  ion_dynamics = '_________',\n",
        "/\n",
        "ATOMIC_SPECIES\n",
        " _________  1.00784  _________\n",
        "ATOMIC_POSITIONS (angstrom)\n",
        " _________ _________ _________ _________\n",
        " _________ _________ _________ _________\n",
        "K_POINTS (automatic)\n",
        "  1 1 1 0 0 0\n",
        "\"\"\"\n",
        "\n",
        "with open(\"_________\", \"w\") as f:\n",
        "    f.write(_________)\n",
        "\n",
        "# print the content of the input file (under Linux)\n",
        "! cat _________"
      ],
      "metadata": {
        "id": "M_UzVOi85uzD"
      },
      "execution_count": null,
      "outputs": []
    },
    {
      "cell_type": "markdown",
      "source": [
        "Now run the `relax` calculation with `pw.x` to produce h2.relax.out."
      ],
      "metadata": {
        "id": "3HXZEINh7Dd1"
      }
    },
    {
      "cell_type": "code",
      "source": [
        "! _________  -in _________ > _________ # run the DFT input file\n",
        "! cat _________"
      ],
      "metadata": {
        "id": "vV-DvSSy7MDJ"
      },
      "execution_count": null,
      "outputs": []
    },
    {
      "cell_type": "code",
      "source": [
        "output = io.read(\"/content/hydrogen/_________\") # read the output file\n",
        "print(\"The total energy is: \", output._________(), \" eV\")\n",
        "\n",
        "final_h1 = output.get_positions()[_________]\n",
        "final_h2 = output.get_positions()[_________]\n",
        "final_distance = np.linalg.norm(_________)\n",
        "# final_distance = output.get_all_distances()[0][1]\n",
        "print(\"The interatomic distance is \", _________, \" angstroms\")\n",
        "print(\"Forces acting on atoms \", output._________(), \" eV/Angstrom\")"
      ],
      "metadata": {
        "id": "NDpV5_JdMsxC"
      },
      "execution_count": null,
      "outputs": []
    },
    {
      "cell_type": "markdown",
      "metadata": {
        "id": "7ATEG925webt"
      },
      "source": [
        "- How do these results compare to the potential energy surface?\n",
        "- Does it change the result if you start from a different point?\n",
        "- When does it apply?"
      ]
    },
    {
      "cell_type": "markdown",
      "metadata": {
        "id": "nX5wBkhhwebt"
      },
      "source": [
        "### Step 2: compute forces on displaced atoms.\n",
        "\n",
        "For $H_2$ we only need to displace one atom in the direction along the bond, since this diatomic molecule has only this degree of freedom.\n",
        "\n",
        "Something to think about: what about the $H_2O$ molecule instead? (We will explore this in the `6_QE_Vibrational_Modes_H2O` exercise."
      ]
    },
    {
      "cell_type": "code",
      "source": [
        "from ase.io import read\n",
        "from ase import Atoms\n",
        "\n",
        "# create a base input, where we can replace one of the atomic positions\n",
        "qe_input = \"\"\"\n",
        "&control\n",
        "  prefix='h2',\n",
        "  calculation='_________',\n",
        "  verbosity='high',\n",
        "  pseudo_dir = '_________',\n",
        "  outdir='_________'\n",
        "  tstress=false,\n",
        "  tprnfor=_________, ! need to set this to true to get forces\n",
        "  restart_mode='from_scratch',\n",
        "/\n",
        "&system\n",
        "  occupations='_________',\n",
        "  smearing='_________',\n",
        "  degauss=_________,\n",
        "  ecutwfc = _________,\n",
        "  ecutrho = _________,\n",
        "  assume_isolated='_________', ! assume clusters are isolated: see doi:10.1063/1.477923\n",
        "  ibrav = 1,\n",
        "  celldm(1) = 20,\n",
        "  nat = _________,\n",
        "  ntyp = _________,\n",
        "/\n",
        "&electrons\n",
        "  conv_thr = 1.0e-18,\n",
        "/\n",
        "ATOMIC_SPECIES\n",
        " _________  _________  _________\n",
        "ATOMIC_POSITIONS (angstrom)\n",
        " _________ _________ _________ _________\n",
        " _________ _________ _________ _________\n",
        "K_POINTS (automatic)\n",
        "  1 1 1 0 0 0\n",
        "\"\"\""
      ],
      "metadata": {
        "id": "ArmoesP6SOcK"
      },
      "execution_count": null,
      "outputs": []
    },
    {
      "cell_type": "markdown",
      "source": [
        "Replace of of the atomic positions with the desired distance for which we want to find the forces."
      ],
      "metadata": {
        "id": "DjxQuMPTi-9U"
      }
    },
    {
      "cell_type": "code",
      "source": [
        "d0 = _________ # relaxed distance, in angstroms\n",
        "delta = _________ # displaced distance from relaxed positions, in angstroms\n",
        "new_distance = _________ # total distance, in angstroms\n",
        "\n",
        "# find the second hydrogen in the \"atomic positions\" line in the input file\n",
        "distance_index = _________.find('_________') + _________\n",
        "\n",
        "# update the input file with the new atomic distance\n",
        "new_input_file = _________[:_________] + \"%.5f\" % _________ + _________[_________+_________:]\n",
        "\n",
        "# overwrite the input file\n",
        "with open(\"_________\", \"w\") as f:\n",
        "  f.write(_________)\n",
        "\n",
        "! cat _________"
      ],
      "metadata": {
        "id": "f3KO8S9sf55t"
      },
      "execution_count": null,
      "outputs": []
    },
    {
      "cell_type": "code",
      "source": [
        "! _________  -in _________ > _________ # run the DFT input file\n",
        "\n",
        "displaced_h2 = io._________(\"_________\") # read the output file\n",
        "\n",
        "forces = _________._________() # extract force\n",
        "print(\"Forces acting on atoms: \", _________, \" eV/Angstrom\")"
      ],
      "metadata": {
        "id": "zZVt-BH8gtOh"
      },
      "execution_count": null,
      "outputs": []
    },
    {
      "cell_type": "code",
      "execution_count": null,
      "metadata": {
        "id": "Md7l-i8Lwebt"
      },
      "outputs": [],
      "source": [
        "plt.plot(_________, total_energies)\n",
        "plt.plot(_________, _________, marker='o', c='black') # mark the minimum energy and distance\n",
        "plt.plot(_________, _________._________(), marker='o', c='red') # mark the displaced energy and distance\n",
        "plt.xlim(0.2,2.0)\n",
        "plt.ylabel(\"_________\") # don't forget units!\n",
        "plt.xlabel(\"_________\")"
      ]
    },
    {
      "cell_type": "markdown",
      "metadata": {
        "id": "8gvZfq0Twebu"
      },
      "source": [
        "### Step 3: calculate the _force constant_"
      ]
    },
    {
      "cell_type": "markdown",
      "metadata": {
        "id": "1ejE8OC5webu"
      },
      "source": [
        "The force constant _C_ of a material is defined as the second order derivate with respect to atomic positions of the total energy.\n",
        "\n",
        "For the $H_2$ molecule this means:\n",
        "$\n",
        "C = \\frac{\\partial^2 E}{\\partial d^2}\n",
        "= - \\frac{\\partial F}{\\partial d}\n",
        "= - \\lim_{\\delta d \\rightarrow 0} \\frac{F(d_0+\\delta d) -F(d_0)}{\\delta d}\n",
        "\\approx - \\frac{F(d_0+\\Delta d) -F(d_0)}{\\Delta d}\n",
        "\\approx - \\frac{F(d_0+\\Delta d)}{\\Delta d}\n",
        "$"
      ]
    },
    {
      "cell_type": "code",
      "execution_count": null,
      "metadata": {
        "id": "ViCPuPaMwebu"
      },
      "outputs": [],
      "source": [
        "d0 = _________ # angstroms\n",
        "delta = 0.0025 # angstroms\n",
        "new_distance = _________ # angstroms\n",
        "\n",
        "# find the second hydrogen in the \"atomic positions\" line in the input file\n",
        "distance_index = _________._________('_________') + _________\n",
        "\n",
        "# update the input file with the new atomic distance\n",
        "new_input_file = _________[:_________] + \"%.5f\" % _________ + _________[_________+_________:]\n",
        "\n",
        "# overwrite the input file\n",
        "with open(\"_________\", \"w\") as f:\n",
        "  f.write(_________)\n",
        "\n",
        "! _________  -in _________ > _________ # run the DFT input file\n",
        "\n",
        "displaced_h2 = io._________(\"_________\") # read the output file"
      ]
    },
    {
      "cell_type": "code",
      "source": [
        "forces_1 = displaced_h2._________() # extract force\n",
        "force_constant = - _________[_________][_________] / _________ # apply simplified force constant equation\n",
        "print(\"The force constant is :\", _________, \" eV/Angstrom^2\")"
      ],
      "metadata": {
        "id": "7nEgFpIMmxPx"
      },
      "execution_count": null,
      "outputs": []
    },
    {
      "cell_type": "markdown",
      "metadata": {
        "id": "fGATdMdTwebu"
      },
      "source": [
        "### Step 4: calculate the vibrational _frequency_\n",
        "\n",
        "In the classic harmonic model, atoms are subjected to the dynamics described by: $F = m \\ddot{d} = - C~d$\n",
        "\n",
        "The time solution is: $d(t) = A \\sin(\\omega t + \\phi)$, where $\\omega = \\sqrt{\\frac{C}{m}}$.\n",
        "\n",
        "Let's calculae the oscillation frequency $\\omega$ for the $H_2$ molecule!"
      ]
    },
    {
      "cell_type": "code",
      "execution_count": null,
      "metadata": {
        "id": "SkAF5imuwebu"
      },
      "outputs": [],
      "source": [
        "mass = 1 # atomic mass units\n",
        "frequency = np._________(_________ / _________)\n",
        "print(\"The oscillation frequency is: \", _________, \" (eV/(Angstrom^2 * AMU))^(1/2)\")"
      ]
    },
    {
      "cell_type": "markdown",
      "metadata": {
        "id": "n5XqJ0A8webu"
      },
      "source": [
        "Let's convert the angold frequency units to THz"
      ]
    },
    {
      "cell_type": "code",
      "execution_count": null,
      "metadata": {
        "id": "qK5FY9bzwebu"
      },
      "outputs": [],
      "source": [
        "ev_to_joule = 1.60217733e-19\n",
        "amu_to_kg = 1.6605402e-27\n",
        "angstrom_to_m = 1.0e-10\n",
        "hz_to_thz = 1.0e-12\n",
        "\n",
        "conversion_factor = _________ * np._________(_________/_________) / _________ / (2.0*np._________)\n",
        "print(\"The conversion is: \", _________)"
      ]
    },
    {
      "cell_type": "code",
      "execution_count": null,
      "metadata": {
        "id": "0HFCVjHUwebu"
      },
      "outputs": [],
      "source": [
        "print(\"The oscillation frequency is: \", _________ * _________, \" THz\")"
      ]
    },
    {
      "cell_type": "code",
      "execution_count": null,
      "metadata": {
        "id": "UPKkaj3jwebu"
      },
      "outputs": [],
      "source": [
        "thz_to_invcm = 33.3564095198152\n",
        "print(\"The oscillation frequency is: \", _________ * _________ * _________, \" cm^(-1)\")"
      ]
    },
    {
      "cell_type": "markdown",
      "metadata": {
        "id": "ByOemyjRwebv"
      },
      "source": [
        "## $H_2$ vibrational mode: density-functional perturbation theory"
      ]
    },
    {
      "cell_type": "markdown",
      "metadata": {
        "id": "p9AyzReHwebv"
      },
      "source": [
        "### Step 1: compute the ground-state using DFT\n",
        "\n",
        "This step should account also for the structural optimization, meaning forces on all atoms and stress tensor should be close to zero.\n",
        "\n",
        "A DFT calculation is then needed to provide the ground-state charge density for the DFPT calculation."
      ]
    },
    {
      "cell_type": "code",
      "execution_count": null,
      "metadata": {
        "id": "-DwcE5yEwebv"
      },
      "outputs": [],
      "source": [
        "# update the input file with the relaxed atomic distance\n",
        "new_input_file = _________[:_________] + \"%.5f\" % _________ + _________[_________+_________:]\n",
        "\n",
        "# overwrite the input file\n",
        "with open(\"_________\", \"w\") as f:\n",
        "  f.write(_________)\n",
        "\n",
        "! _________  -in _________ > _________ # run the DFT input file\n",
        "\n",
        "ground_state = io._________(\"_________\") # read the output file\n",
        "\n",
        "ground_state_energy = _________._________() # eV\n",
        "print('The ground state energy is ', _________, ' eV')"
      ]
    },
    {
      "cell_type": "markdown",
      "metadata": {
        "id": "pN_Mxz-Jwebv"
      },
      "source": [
        "### Step 2: compute the _dynamical matrix_ via DFPT\n",
        "\n",
        "Run the density-functional perturbation theory calculation to compute the dynamical matrix."
      ]
    },
    {
      "cell_type": "markdown",
      "metadata": {
        "id": "LtZ6h8v0webv"
      },
      "source": [
        "Define the inputs using plain string text and write to `h2.ph.in`."
      ]
    },
    {
      "cell_type": "code",
      "execution_count": null,
      "metadata": {
        "id": "zU8Wl2bpwebv"
      },
      "outputs": [],
      "source": [
        "ph_inputs = \"\"\"\n",
        "&INPUTPH\n",
        "  tr2_ph=1.0e-21,\n",
        "  prefix='h2',\n",
        "  verbosity='high',\n",
        "  ldisp=.false.\n",
        "  qplot=.false.\n",
        "  alpha_mix(1)=0.4\n",
        "/\n",
        "  0.0, 0.0, 0.0\n",
        "\"\"\"\n",
        "\n",
        "with open('_________', 'w+') as handle:\n",
        "    handle.write(_________)"
      ]
    },
    {
      "cell_type": "markdown",
      "metadata": {
        "id": "Dm1yGX9Qwebv"
      },
      "source": [
        "Run the process using the `ph.x` executable to produce h2.ph.out."
      ]
    },
    {
      "cell_type": "code",
      "execution_count": null,
      "metadata": {
        "id": "oPE8PRHIwebv"
      },
      "outputs": [],
      "source": [
        "! _________  < _________ > _________ # run the ph.x executable"
      ]
    },
    {
      "cell_type": "markdown",
      "metadata": {
        "id": "bV1vQKfJwebv"
      },
      "source": [
        "Read the results using ASE."
      ]
    },
    {
      "cell_type": "code",
      "execution_count": null,
      "metadata": {
        "id": "J0nKG5Yywebv"
      },
      "outputs": [],
      "source": [
        "from ase.io.espresso import read_espresso_ph\n",
        "\n",
        "with open('_________', 'r') as handle:\n",
        "    ph_results = read_espresso_ph(_________)\n",
        "\n",
        "ph_results[1]['freqs'][-1] * thz_to_invcm"
      ]
    },
    {
      "cell_type": "markdown",
      "metadata": {
        "id": "EzILl_dnwebw"
      },
      "source": [
        "How does it compare with the value compute via finite differences?\n",
        "\n",
        "Why are they different?\n",
        "\n",
        "How does it compare with the experimental value 4161 $\\mathrm{cm}^{-1}$?\n",
        "(see _B. P. Stoicheff. 1957. HIGH RESOLUTION RAMAN SPECTROSCOPY OF GASES: IX. SPECTRA OF H2, HD, AND D2. Canadian Journal of Physics. 35(6): 730-741. https://doi.org/10.1139/p57-079_)"
      ]
    },
    {
      "cell_type": "markdown",
      "metadata": {
        "id": "4YN4dIqowebw"
      },
      "source": [
        "### Solution to discrepancy of finite differences and DFPT\n",
        "\n",
        "The issue is that we did not use the correct formula! In fact, the calculation of frequencies involves a diagonalization of a (3N,3N) matrix. Look at the effect by diagonalizing the correct matrix, and then try to explain what should you modify in the previous section and why."
      ]
    },
    {
      "cell_type": "code",
      "execution_count": null,
      "metadata": {
        "id": "9UaryTU-webw"
      },
      "outputs": [],
      "source": [
        "from tabulate import tabulate\n",
        "\n",
        "C = np.zeros((6,6))\n",
        "C[2,5] = C[5,2] = C[2,2] = C[5,5] = _________\n",
        "\n",
        "# Print the matrix as a nicely formatted table\n",
        "print(tabulate(C, tablefmt=\"fancy_grid\", floatfmt=\".3f\"))"
      ]
    },
    {
      "cell_type": "markdown",
      "metadata": {
        "id": "2ErAsU8fwebw"
      },
      "source": [
        "Calculate the eigenvalues of the matrix using Numpy."
      ]
    },
    {
      "cell_type": "code",
      "execution_count": null,
      "metadata": {
        "id": "NruN4aBnwebw"
      },
      "outputs": [],
      "source": [
        "np.sqrt(np.linalg.eigvals(C)) * thz_to_invcm * conversion_factor"
      ]
    },
    {
      "cell_type": "markdown",
      "metadata": {
        "id": "5JoIn9K8webw"
      },
      "source": [
        "How does it compare with the force constants previously computed?\n",
        "\n",
        "What are the other eigenvalues corresponding to?\n",
        "\n",
        "Why are they zero?"
      ]
    }
  ],
  "metadata": {
    "kernelspec": {
      "display_name": "amrs",
      "language": "python",
      "name": "python3"
    },
    "language_info": {
      "codemirror_mode": {
        "name": "ipython",
        "version": 3
      },
      "file_extension": ".py",
      "mimetype": "text/x-python",
      "name": "python",
      "nbconvert_exporter": "python",
      "pygments_lexer": "ipython3",
      "version": "3.9.20"
    },
    "colab": {
      "provenance": [],
      "include_colab_link": true
    }
  },
  "nbformat": 4,
  "nbformat_minor": 0
}