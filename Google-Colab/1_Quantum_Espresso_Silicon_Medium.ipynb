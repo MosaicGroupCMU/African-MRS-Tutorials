{
  "nbformat": 4,
  "nbformat_minor": 0,
  "metadata": {
    "colab": {
      "provenance": [],
      "gpuType": "T4",
      "include_colab_link": true
    },
    "kernelspec": {
      "name": "python3",
      "display_name": "Python 3"
    }
  },
  "cells": [
    {
      "cell_type": "markdown",
      "metadata": {
        "id": "view-in-github",
        "colab_type": "text"
      },
      "source": [
        "<a href=\"https://colab.research.google.com/github/MosaicGroupCMU/African-MRS-Tutorials/blob/main/Google-Colab/1_Quantum_Espresso_Silicon_Medium.ipynb\" target=\"_parent\"><img src=\"https://colab.research.google.com/assets/colab-badge.svg\" alt=\"Open In Colab\"/></a>"
      ]
    },
    {
      "cell_type": "markdown",
      "source": [
        "# Introduction to electronic structure optimization of silicon using Quantum ESPRESSO\n",
        "\n",
        "Contributors: [Seda Oturak](https://github.com/sedaoturak), [Ismaila Dabo](https://scholar.google.com/citations?user=rN299m0AAAAJ&hl=en), [Jessica Wen](https://github.com/JessicaWen-PhD), [Cierra Chandler](https://github.com/Cierra-Chandler), [Henry Eya](https://github.com/Henrynweya)\n",
        "\n",
        "\n"
      ],
      "metadata": {
        "id": "xXmQhmO_D_f2"
      }
    },
    {
      "cell_type": "markdown",
      "source": [
        "### Structure of the class\n",
        "\n",
        "1.   Introduction to Quantum Mechanics\n",
        "2.   Schrödinger Equation\n",
        "3.   Density-Functional Theory (DFT)\n",
        "4.   Application of DFT to Single-Particle Calculations\n",
        "5.   Hands-on Workshop\n",
        "\n",
        "\n",
        "\n",
        "### How to use these workbooks\n",
        "\n",
        "*   Work in pairs and help others!\n",
        "*   Fill in the blanks and run code blocks to see if it works.\n",
        "*   Answers will be shared after the class.\n",
        "*   This medium level workbook is designed for people who have some more experience with Python (including using matplotlib and numpy libraries) and using the terminal, but who might not have seen QuantumESPRESSO before.\n",
        "*   If this intermediate level is too challenging for you, you can switch to the [easy difficulty Google Colab workbook](https://github.com/MosaicGroupCMU/African-MRS-Tutorials/blob/358659230a55be893b7ae11a3cd4e862fc486342/Google-Colab/1_Quantum_Espresso_Silicon_Easy.ipynb).\n",
        "*   If this intermediate level is too easy for you, you can switch to the hard difficulty worksheet where you can run QuantumESPRESSO on your own computer."
      ],
      "metadata": {
        "id": "6BmQcNOVmlVd"
      }
    },
    {
      "cell_type": "markdown",
      "metadata": {
        "id": "IJD9ZrhUbG8g"
      },
      "source": [
        "# Install libraries, environment, and Quantum ESPRESSO"
      ]
    },
    {
      "cell_type": "markdown",
      "source": [
        "This part installs libraries for numerical calculations and plotting."
      ],
      "metadata": {
        "id": "vqsBj38YseB6"
      }
    },
    {
      "cell_type": "code",
      "source": [
        "# load plotting libraries\n",
        "import matplotlib.pyplot as plt\n",
        "\n",
        "# load numerical libraries\n",
        "import numpy as np"
      ],
      "metadata": {
        "id": "ujaO0qfTsRsV"
      },
      "execution_count": null,
      "outputs": []
    },
    {
      "cell_type": "markdown",
      "source": [
        "Quantum ESPRESSO is a plane wave code, which uses Fourier transforms to solve equations in plane wave space. This part installs libraries for fast Fourier transforms (FFTs)."
      ],
      "metadata": {
        "id": "HHMMhkfL__p1"
      }
    },
    {
      "cell_type": "code",
      "metadata": {
        "id": "7imWdEV1V-Fg"
      },
      "source": [
        "# eliminate text output during installation\n",
        "%%capture\n",
        "\n",
        "# install mathematical libraries to peform fast Fourier transforms\n",
        "# (the exclamation mark means that the command is run under Linux)\n",
        "! apt-get install -y libfftw3-3 libfftw3-dev libfftw3-doc"
      ],
      "execution_count": null,
      "outputs": []
    },
    {
      "cell_type": "markdown",
      "source": [
        "The Atomic Simulation Environment (ASE) is a set of tools for running, visualizing, and analyzing simulations. This part installs ASE."
      ],
      "metadata": {
        "id": "E5v-b5UXKltX"
      }
    },
    {
      "cell_type": "code",
      "source": [
        "# eliminate text output during installation\n",
        "%%capture\n",
        "\n",
        "# install the Atomic simulation environment\n",
        "# ! apt install ase\n",
        "! pip install git+https://gitlab.com/ase/ase"
      ],
      "metadata": {
        "id": "STM7dA3yKJb2"
      },
      "execution_count": null,
      "outputs": []
    },
    {
      "cell_type": "markdown",
      "source": [
        "Compiling Quantum ESPRESSO from scratch would take a long time. This part uploads pre-compiled executable files (`.x` extension) and additional files containing the pseudopotentials."
      ],
      "metadata": {
        "id": "3oJbUd4y2Sww"
      }
    },
    {
      "cell_type": "code",
      "source": [
        "# eliminate text output during installation\n",
        "%%capture\n",
        "\n",
        "# navigate to main directory named '/content/'\n",
        "%cd /content/\n",
        "\n",
        "# download the pre-compiled files in compressed format (under Linux)\n",
        "#! wget 'https://docs.google.com/uc?export=download&id=1kw_CJMjP6ggDZXDNp5phAqCPpoe2WXCA' -O qe-lite.tgz\n",
        "!gdown 'https://drive.google.com/uc?export=download&id=13l-Kiyg-F6aYb5lF8M3RsE1hSnLRdGna' -O qe-lite.tgz\n",
        "\n",
        "# unpack the compressed files (under Linux)\n",
        "! tar -xvzf qe-lite.tgz\n",
        "\n",
        "# clean up some files\n",
        "! rm -rf sample_data qe-lite.tgz"
      ],
      "metadata": {
        "id": "vLD7ypmk2SVm"
      },
      "execution_count": null,
      "outputs": []
    },
    {
      "cell_type": "markdown",
      "source": [
        "# Prepare Quantum ESPRESSO input file"
      ],
      "metadata": {
        "id": "4yG2DhuXKDeU"
      }
    },
    {
      "cell_type": "markdown",
      "source": [
        "This is where we start setting up the data and information for our QuantumESPRESSO calculations.\n",
        "\n",
        "We first need to start with the Self-Consistent Field (SCF) calculations. The parameters in the QuantumESPRESSO input file requires some playing around to achieve the best trade-off between accuracy and run-time.\n",
        "\n",
        "The calculation is for a unit cell of diamond silicon. The definition of the input parameters of the `pw.x` executable can be found at `www.quantum-espresso.org/Doc/INPUT_PW.html`."
      ],
      "metadata": {
        "id": "fmd4tSeW9rxK"
      }
    },
    {
      "cell_type": "code",
      "source": [
        "# create calculation folder and navigate into it\n",
        "%________ -p /content/________\n",
        "%________ /content/________/\n",
        "\n",
        "# create input and write it into the file si.scf.in\n",
        "________ = \"\"\"\n",
        "&________\n",
        "  prefix='________',\n",
        "  pseudo_dir = '________',\n",
        "  outdir='/content/________/'\n",
        "/\n",
        "&________\n",
        "  ibrav = ________,\n",
        "  celldm(1) = ________,\n",
        "  nat = ________,\n",
        "  ntyp = ________,\n",
        "  ecutwfc = ________,\n",
        "  ecutrho = ________,\n",
        "/\n",
        "&electrons\n",
        "  conv_thr = ________,\n",
        "/\n",
        "ATOMIC_SPECIES\n",
        " ________  ________  ________\n",
        "ATOMIC_POSITIONS alat\n",
        " ________ ________ ________ ________\n",
        " ________ ________ ________ ________\n",
        "K_POINTS ________\n",
        "   ________\n",
        "CELL_PARAMETERS\n",
        "  ________\n",
        "\"\"\"\n",
        "\n",
        "with open(________) as f:\n",
        "    f.________(________)\n",
        "\n",
        "# print the content of the input file (under Linux)\n",
        "________"
      ],
      "metadata": {
        "id": "tTUnqAgSKF0i"
      },
      "execution_count": null,
      "outputs": []
    },
    {
      "cell_type": "markdown",
      "source": [
        "Use [ASE tools](https://wiki.fysik.dtu.dk/ase/ase/io/formatoptions.html#ase.io.espresso.read_espresso_in) to extract information from Quantum ESPRESSO input and visualize the crystal."
      ],
      "metadata": {
        "id": "ruEqTitAWQ-j"
      }
    },
    {
      "cell_type": "code",
      "source": [
        "import ase.io.espresso\n",
        "from ase import Atoms\n",
        "from ase.visualize import view\n",
        "from ase.build import make_supercell\n",
        "from ase.build import bulk\n",
        "\n",
        "# extract unit cell information from input file using ASE\n",
        "input_file = ase.io.espresso.________('________')\n",
        "si = Atoms(________)\n",
        "\n",
        "# create a supercell (3 × 3 × 3) using ASE\n",
        "multiplier = np.________(3) * ________\n",
        "si_supercell = ________(________,________)\n",
        "\n",
        "# visualize the supercell\n",
        "view(________, ________='x3d')"
      ],
      "metadata": {
        "id": "oaciRbpOSxm3"
      },
      "execution_count": null,
      "outputs": []
    },
    {
      "cell_type": "markdown",
      "source": [
        "HINT: if you're getting an AttributeError where the 'NoneType' object has no attribute 'append', it's probably because you're not quite formatting your input file correctly. For example, you might be missing commas."
      ],
      "metadata": {
        "id": "4MI8t5G7uHwj"
      }
    },
    {
      "cell_type": "markdown",
      "metadata": {
        "id": "RDx8cJlddYA6"
      },
      "source": [
        "# Run Quantum ESPRESSO using input file"
      ]
    },
    {
      "cell_type": "markdown",
      "source": [
        "Make sure that the pseudopotential file is present in the working directory. It's time to start the self-consistent field calculation, which is often the longest part of any calculations you do. This should produce the potential energy."
      ],
      "metadata": {
        "id": "mMsTodVQuYaf"
      }
    },
    {
      "cell_type": "markdown",
      "source": [
        "### What is the Self-Consistent Field (SCF) calculation?\n",
        "\n",
        "The SCF calculation is an iterative computational method used to solve the many-body Schrödinger equation for electrons in atoms and molecules.\n",
        "\n",
        "It starts with an initial guess for the electron distribution and iteratively refines it until convergence is reached. Each electron is treated as if it moves in the average field created by all other electrons, simplifying the complex many-body problem (mean-field approximation).\n",
        "\n",
        "The calculation aims to minimise the total energy of the system with respect to the electron density, thus solving for molecular orbitals and their energies by using (in this case) plane wave basis sets to represent the electron wavefunctions.\n",
        "\n",
        "The iteration stops when the change in energy or electron density between successive steps become sufficiently small (given by the convergence threshold)."
      ],
      "metadata": {
        "id": "W_5FQBhBLCCh"
      }
    },
    {
      "cell_type": "markdown",
      "source": [
        "### What are the pseudopotential files used for?\n",
        "\n",
        "The pseudopotential files replace the full electron system with an effective potential that accounts for the core electrons, so that we don't need to calculate where every single electron in the system goes. This reduces computational complexity. Well-designed pseudopotentials aim to balance computational efficiency with accuracy across different chemical environments.\n",
        "\n",
        "You can read more about choosing pseudopotentials on the [VASP wiki](https://www.vasp.at/wiki/index.php/Choosing_pseudopotentials)."
      ],
      "metadata": {
        "id": "mFy_ZRKQLEAY"
      }
    },
    {
      "cell_type": "code",
      "metadata": {
        "id": "WTOSK0QvZ0s8"
      },
      "source": [
        "# run the pw.x executable using si.scf.in to create si.scf.out\n",
        "________\n",
        "\n",
        "# print the content of the output file (under Linux)\n",
        "________"
      ],
      "execution_count": null,
      "outputs": []
    },
    {
      "cell_type": "code",
      "source": [
        "# first method: extract total energies in rydberg during the self-consistent-field calculation (under Linux)\n",
        "________"
      ],
      "metadata": {
        "id": "nAwPVzJe9tdd"
      },
      "execution_count": null,
      "outputs": []
    },
    {
      "cell_type": "code",
      "source": [
        "# define physical constants for unit conversion\n",
        "from scipy.constants import physical_constants\n",
        "ha_in_ev = physical_constants[\"________\"][0] # extract the Hartree energy in eV from physical_constants package\n",
        "ry_in_ev = ________ * ________.\n",
        "\n",
        "# second method: extract total energy at the end of the self-consistent calculation (using ASE)\n",
        "output = ase.io.read(\"________\")\n",
        "total_energy = ________.________()\n",
        "print(\"Energy = %.8f Ry \" % ________) # total energy in Rydberg constant\n",
        "print(\"Energy = %.8f eV \" % ( ________ ) ) # total energy in Hartrees"
      ],
      "metadata": {
        "id": "mH7bL06aJoQU"
      },
      "execution_count": null,
      "outputs": []
    },
    {
      "cell_type": "markdown",
      "source": [
        "# Convergence test with respect to the cutoff energy\n",
        "\n",
        "Convergence tests are an important part of any DFT calculation. We do convergence tests for the cutoff energy and the k-point sampling.\n",
        "\n",
        "You can read more about convergence tests in this [Choudhary and Tavazza, 2020](https://pmc.ncbi.nlm.nih.gov/articles/PMC7066999/) paper."
      ],
      "metadata": {
        "id": "manDJrzjQWeT"
      }
    },
    {
      "cell_type": "markdown",
      "source": [
        "### About Cutoff Energy\n",
        "\n",
        "The wavefunctions of electrons we use in these DFT calculations are Kohn-Sham wavefunctions, and we can theoretically create these wavefunctions by summing an infinite number of plane waves.\n",
        "\n",
        "However, we are not able to compute an infinite number of plane waves, so we use the cutoff energy to specify the maximum kinetic energy of the plane waves used (i.e. we truncate the infinite expansion of the Kohn-Sham wavefunction into plane waves, thus ignoring all plane waves with energy above this threshold). Setting a higher cutoff energy increases the size of the basis set (plane waves) used to represent electronic wavefunctions, and controls the number of plane waves included in the calculation.\n",
        "\n",
        "Higher cutoff energies generally lead to more accurate results (because you are using more plane waves) but also increases computational time. For most systems, a cutoff of 25-40 Ry (340-544 eV) may be sufficient, but this can vary widely.\n"
      ],
      "metadata": {
        "id": "gGODA-Wnupnc"
      }
    },
    {
      "cell_type": "markdown",
      "source": [
        "### About Convergence Tests\n",
        "\n",
        "Convergence tests achieve several goals:\n",
        "\n",
        "1.   Accuracy: they make sure that the properties we calculated are sufficiently accurate and not affected by numerical artifacts.\n",
        "2.   Property convergence: we want to find the point at which the properties we care about (e.g. total energy, bond lengths, electronic structure, etc.) are stabilised with increasing cutoff energy or k-point density.\n",
        "3.   System-specific optimisation: we can account for the unique characteristics of different materials, such as band gap, crystal structure, and chemical composition.\n",
        "4.   Validation of results: convergence tests provide confidence in the calculated results by demonstrating that further increases in cutoff energy or k-point density don't significantly change the outcomes.\n",
        "\n",
        "Convergence tests allow us to establish a balance between accuracy and computational cost, which ensures that our DFT calculations can produce reliable and reproducible results for the properties we are investigating.\n",
        "\n",
        "You can read more about convergence tests on [HJK Group at MIT's Convergence 101 post](https://hjkgrp.mit.edu/tutorials/2012-04-17-convergence-101/).\n"
      ],
      "metadata": {
        "id": "C1JYpKvJ_3ne"
      }
    },
    {
      "cell_type": "code",
      "source": [
        "# create a list for cutoff energies to be tested\n",
        "cutoff_energies = ________ # try e.g. values from 12 to 44 in increments of 4\n",
        "\n",
        "# find the \"cutoff energy\" line in the input file\n",
        "wfc_index = qe_input.find('________') + ________\n",
        "rho_index = qe_input.find('________') + ________\n",
        "\n",
        "total_energies = ________\n",
        "for (n, cutoff_ratio) in enumerate([4,8,10]):\n",
        "  for cutoff in cutoff_energies:\n",
        "    # update the input file with the new cutoff energy\n",
        "    new_input_file = (________)\n",
        "\n",
        "    # overwrite the input file\n",
        "    ________\n",
        "\n",
        "    # run the DFT input file\n",
        "    ________\n",
        "\n",
        "    # read the output file\n",
        "    ________\n",
        "\n",
        "    ________ # record the calculated total energy into total_energies"
      ],
      "metadata": {
        "id": "CnIKktP3QpeR"
      },
      "execution_count": null,
      "outputs": []
    },
    {
      "cell_type": "code",
      "source": [
        "# plot convergence graph of cutoff energies. Remember to include units in the axes labels!\n",
        "________"
      ],
      "metadata": {
        "id": "djzmRSCwRL3T"
      },
      "execution_count": null,
      "outputs": []
    },
    {
      "cell_type": "markdown",
      "source": [
        "# Convergence test with respect to the k-point sampling"
      ],
      "metadata": {
        "id": "rg6-Yu_Gc38U"
      }
    },
    {
      "cell_type": "markdown",
      "source": [
        "The k-point sampling density specifies how many points in the [Brillouin zone](https://eng.libretexts.org/Bookshelves/Materials_Science/Supplemental_Modules_(Materials_Science)/Electronic_Properties/Brillouin_Zones) are used to calculate the property we are investigating (essentially by providing an efficient means of integrating periodic functions of the wave vector in the Brillouin zone).\n",
        "\n",
        "This is usually done by taking a grid of k-points, often generated by methods like [Monkhorst-Pack sampling](https://journals.aps.org/prb/abstract/10.1103/PhysRevB.13.5188)\n",
        "\n",
        "From [Choudhary and Tavazza, 2020](https://pmc.ncbi.nlm.nih.gov/articles/PMC7066999/):\n",
        "\n",
        "> The total energy of the system is the most important output of a DFT calculation, and it is obtained by numerically integrating the Hamiltonian over the Brillouin zone. The k-points are a generic way to discretize such as integral. The quality of the results heavily depends on the number of these points on the mesh-grid as well as the method generating the mesh-grid itself used in such integration. The number of points can be arbitrarily increased to increase the precision of calculations. However, the higher the number of irreducible k-points, the higher the computational cost. Therefore, finding the optimum number of k-points to determine the total energy within a specified tolerance (i.e. “converging” on the k-point mesh) is extremely important."
      ],
      "metadata": {
        "id": "Epb73LQU__UG"
      }
    },
    {
      "cell_type": "code",
      "source": [
        "# initialize input file with appropriate cutoffs\n",
        "qe_input = \"\"\"\n",
        "________\n",
        "\"\"\"\n",
        "\n",
        "# write the above to an input file\n",
        "________\n",
        "\n",
        "# print the content of the input file (under Linux)\n",
        "________\n",
        "\n",
        "# create a list for k points to be tested\n",
        "kpoints = ________ # enter kpoints limits\n",
        "# find the \"k points\" line in the input file\n",
        "lat_cons_index = qe_input.find('________') + ________\n",
        "\n",
        "total_energies = ________\n",
        "\n",
        "for k in kpoints:\n",
        "  # update the input file with the new k points\n",
        "  new_input_file = qe_input[:________] + str(k).ljust(2) + str(k).ljust(2) + str(k).ljust(2) + qe_input[________+8:]\n",
        "\n",
        "  # overwrite the input file\n",
        "  ________\n",
        "\n",
        "  # run the DFT input file\n",
        "  ________\n",
        "\n",
        "  # read the output file\n",
        "  ________\n",
        "\n",
        "  ________.append(________.get_total_energy()) # record the calculated total energy in total_energies"
      ],
      "metadata": {
        "id": "hXmkze0SdQt2"
      },
      "execution_count": null,
      "outputs": []
    },
    {
      "cell_type": "code",
      "source": [
        "# plot convergence graph. Don't forget units on the axes labels!\n",
        "________"
      ],
      "metadata": {
        "id": "MGzJCNJyfKeT"
      },
      "execution_count": null,
      "outputs": []
    },
    {
      "cell_type": "markdown",
      "source": [
        "# Lattice parameter\n",
        "\n",
        "We can now use an appropriate cutoff energy and k-point sampling found from the convergence tests to find the energetically favourable lattice parameter by iterating the self-consistent field calculation over many lattice parameters."
      ],
      "metadata": {
        "id": "RyEyrTmnSHdh"
      }
    },
    {
      "cell_type": "code",
      "source": [
        "# initialize input file with appropriate cutoffs and k-point sampling\n",
        "qe_input = \"\"\"\n",
        "________\n",
        "\"\"\"\n",
        "\n",
        "# write the above to an input file\n",
        "________\n",
        "\n",
        "# print the content of the input file (under Linux)\n",
        "________\n",
        "\n",
        "# create a list for lattice constants to be tested\n",
        "lattice_constants = ________ # try from 9.5 to 11.1 bohr in increments of 0.1 bohr\n",
        "\n",
        "# find the \"lattice constant\" line in the input file\n",
        "lat_cons_index = ________\n",
        "\n",
        "total_energies = []\n",
        "for constant in lattice_constants:\n",
        "  # update the input file with the new lattice constant\n",
        "  new_input_file = ________\n",
        "\n",
        "  # overwrite the input file\n",
        "  ________\n",
        "\n",
        "  # run the DFT input file\n",
        "  ________\n",
        "\n",
        "  # read the output file\n",
        "  ________\n",
        "\n",
        "  ________ # record the calculated total energy to total_energies"
      ],
      "metadata": {
        "id": "16nINjxzSLic"
      },
      "execution_count": null,
      "outputs": []
    },
    {
      "cell_type": "code",
      "source": [
        "# plot potential energy curve and label the axes. Don't forget units!\n",
        "________"
      ],
      "metadata": {
        "id": "LUtiUgmiTMe2"
      },
      "execution_count": null,
      "outputs": []
    }
  ]
}