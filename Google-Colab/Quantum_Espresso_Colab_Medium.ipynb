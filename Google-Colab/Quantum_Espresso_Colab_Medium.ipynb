{
 "cells": [
  {
   "cell_type": "markdown",
   "metadata": {
    "colab_type": "text",
    "id": "view-in-github"
   },
   "source": [
    "<a href=\"https://colab.research.google.com/github/MosaicGroupCMU/African-MRS-Tutorials/blob/main/Quantum_Espresso_Colab.ipynb\" target=\"_parent\"><img src=\"https://colab.research.google.com/assets/colab-badge.svg\" alt=\"Open In Colab\"/></a>"
   ]
  },
  {
   "cell_type": "markdown",
   "metadata": {},
   "source": [
    "Before start of session: Click the button in the first code block below to do the following:\n",
    "\n",
    "\n",
    "1.   Install QuantumESPRESSO binary\n",
    "2.   Install ASE (Atomic Simulation Environment)"
   ]
  },
  {
   "cell_type": "markdown",
   "metadata": {
    "id": "IJD9ZrhUbG8g"
   },
   "source": [
    "# Install the Quantum Espresso Binary"
   ]
  },
  {
   "cell_type": "markdown",
   "metadata": {
    "id": "HHMMhkfL__p1"
   },
   "source": [
    "The latest release of Quantum ESPRESSO is alreay precompiled will all executables including pw, dos, and projwfc. Install the necessary libraries for QE and unzip the binary.\n",
    "\n",
    "ASE (Atomic Simulation Environment) is used for preparing input files, reading output files, and visualization."
   ]
  },
  {
   "cell_type": "code",
   "execution_count": 1,
   "metadata": {
    "id": "7imWdEV1V-Fg"
   },
   "outputs": [],
   "source": [
    "%%capture\n",
    "#Install FFT libraries (3, dev, and doc) for Quantum Espresso\n",
    "_______\n",
    "\n",
    "#Get and unzip precompiled Quantum ESPRESSO 7.4 (qe_7.4-binary.tar.gz) from https://pennstateoffice365-my.sharepoint.com/:u:/g/personal/ixd4_psu_edu/EWAIoSdna3ZLjyjF5XahuIMBf-N0KtVSqLq6w9wmBmx2gw?download=1\n",
    "_______\n",
    "\n",
    "!tar -xzvf qe_7.4-binary.tar.gz\n",
    "# computation time ~2 minutes\n",
    "\n",
    "# install ASE\n",
    "_______ #computation time ~30 seconds"
   ]
  },
  {
   "cell_type": "markdown",
   "metadata": {},
   "source": [
    "# How to use this workbook\n",
    "\n",
    "*   Work in pairs and help others!\n",
    "*   Fill in the blanks and run code blocks to see if it works.\n",
    "*   Answers will be shared after the class.\n",
    "*   If this intermediate level is too challenging for you, you can switch to the intro difficulty Google Colab workbook.\n",
    "*   If this intermediate level is too easy for you, you can try the hard difficulty worksheet where you can run QuantumESPRESSO on your own computer."
   ]
  },
  {
   "cell_type": "markdown",
   "metadata": {
    "id": "M4TVSZEPcogl"
   },
   "source": [
    "# Si\n",
    "\n",
    "Create a folder named \"silicon\" to download and keep all the files needed including the input files and pseudopotential files.\n",
    "\n",
    "After creating the folder, upload the pseudopotential file in this folder."
   ]
  },
  {
   "cell_type": "code",
   "execution_count": 3,
   "metadata": {
    "colab": {
     "base_uri": "https://localhost:8080/"
    },
    "id": "r90LCXv1ZydE",
    "outputId": "601be903-041b-43f3-ef3a-5e5b8af7637b"
   },
   "outputs": [],
   "source": [
    "# Navigate into your folder.\n",
    "_______\n",
    "_______"
   ]
  },
  {
   "cell_type": "markdown",
   "metadata": {
    "id": "4yG2DhuXKDeU"
   },
   "source": [
    "### Prepare the input file\n",
    "\n",
    "This is where we start setting up the data and information for our QuantumESPRESSO calculations.\n",
    "\n",
    "We first need to start with the Self-Consistent Field (SCF) calculations.\n",
    "\n",
    "The parameters in the QuantumESPRESSO input file requires some playing around to achieve the best trade-off between accuracy and run-time. To see what each bit of the QE input files do, see here: https://www.quantum-espresso.org/Doc/INPUT_PW.html.\n",
    "\n",
    "We most often use Marzari-Vanderbilt-DeVita-Payne cold smearing (see [PRL 82, 3296 (1999)](https://journals.aps.org/prl/abstract/10.1103/PhysRevLett.82.3296))."
   ]
  },
  {
   "cell_type": "code",
   "execution_count": 4,
   "metadata": {
    "id": "tTUnqAgSKF0i"
   },
   "outputs": [],
   "source": [
    "qe_input = \"\"\"\n",
    "&control\n",
    "  prefix='silicon',\n",
    "  ! this is a comment: you can comment out variables\n",
    "  ! set pseudo_dir and outdir to suitable directories\n",
    "  _______\n",
    "/\n",
    "&system\n",
    "  _______, _______, nat = 2, ntyp = 1,\n",
    "  _______,\n",
    "  ! set the Bravais lattice, lattice parameter, and energy cutoff parameters.\n",
    "/\n",
    "&electrons\n",
    "/\n",
    "ATOMIC_SPECIES\n",
    " _______\n",
    "! identify the atomic species, Z, and the pseudopotential file.\n",
    "ATOMIC_POSITIONS alat\n",
    " _______\n",
    "! set the atomic positions in the lattice.\n",
    "K_POINTS automatic\n",
    "   _______\n",
    "! set the k-points.\n",
    "\"\"\"\n",
    "\n",
    "# We write the input script\n",
    "_______"
   ]
  },
  {
   "cell_type": "markdown",
   "metadata": {
    "id": "ruEqTitAWQ-j"
   },
   "source": [
    "### Visualize the silicon atoms\n",
    "\n",
    "Now we will visualize the structure of silicon."
   ]
  },
  {
   "cell_type": "code",
   "execution_count": 5,
   "metadata": {
    "colab": {
     "base_uri": "https://localhost:8080/",
     "height": 186
    },
    "id": "oaciRbpOSxm3",
    "outputId": "56c9a8f9-755c-4d49-d20a-8a8ba3729f10"
   },
   "outputs": [],
   "source": [
    "import ase.io.espresso\n",
    "from ase import Atoms\n",
    "from ase.visualize import view\n",
    "input_file = ase.io.espresso.read_espresso_in('_______')\n",
    "\n",
    "atoms = _______(_______)\n",
    "view(_______,viewer='x3d')"
   ]
  },
  {
   "cell_type": "markdown",
   "metadata": {},
   "source": [
    "Hint: if you're getting an AttributeError where the 'NoneType' object has no attribute 'append', it's probably because you're not quite formatting your input file correctly. (E.g. be careful with comments!)"
   ]
  },
  {
   "cell_type": "markdown",
   "metadata": {},
   "source": [
    "Now we visualise the structure of silicon with matplotlib."
   ]
  },
  {
   "cell_type": "code",
   "execution_count": 6,
   "metadata": {
    "colab": {
     "base_uri": "https://localhost:8080/",
     "height": 428
    },
    "id": "2YOlbDl3S-ai",
    "outputId": "543ffcc0-47e9-4c72-943d-7d6b99103f52"
   },
   "outputs": [],
   "source": [
    "import matplotlib.pyplot as plt\n",
    "from ase.visualize.plot import plot_atoms\n",
    "\n",
    "fig, ax = plt.subplots()\n",
    "plot_atoms(_______, ax, radii=0.3, rotation=('45x,45y,90z'))\n",
    "ax.set_title(atoms.get_chemical_formula())\n",
    "ax.set_axis_off()\n",
    "_______"
   ]
  },
  {
   "cell_type": "markdown",
   "metadata": {
    "id": "RDx8cJlddYA6"
   },
   "source": [
    "### Run the DFT code\n",
    "\n",
    "It's time to start the self-consistent field calculation, which might take up to 4 minutes. This should produce the potential energy. Fill in the blank and run the code, then read the text below.\n",
    "\n",
    "Note: Check the directories for pseudopotential file and output file!"
   ]
  },
  {
   "cell_type": "markdown",
   "metadata": {},
   "source": [
    "##### What's happening here?\n",
    "\n",
    "As mentioned in Prof. Dabo's lecture, DFT uses an iterative method called the \"self-consistent field\" (SCF) method. SCF finds the ground-state electron density by calculating the energy difference when the electron density is slightly perturbed.\n",
    "\n",
    "If the energy reaches a global minimum and achieves convergence, the calculation is finished. Convergence is determined when the difference between the previous and the current energy is within less than a specific value (convergence threshold)."
   ]
  },
  {
   "cell_type": "code",
   "execution_count": 7,
   "metadata": {
    "id": "WTOSK0QvZ0s8"
   },
   "outputs": [],
   "source": [
    "_______"
   ]
  },
  {
   "cell_type": "markdown",
   "metadata": {
    "id": "7CvqvzNsdfTe"
   },
   "source": [
    "# See the output file"
   ]
  },
  {
   "cell_type": "code",
   "execution_count": 8,
   "metadata": {
    "colab": {
     "base_uri": "https://localhost:8080/"
    },
    "id": "xiIzqeKbanJu",
    "outputId": "9d92f649-0c91-407e-a659-1c506cfbaf0a"
   },
   "outputs": [],
   "source": [
    "_______"
   ]
  },
  {
   "cell_type": "code",
   "execution_count": 9,
   "metadata": {
    "colab": {
     "base_uri": "https://localhost:8080/"
    },
    "id": "nAwPVzJe9tdd",
    "outputId": "54dee74c-a175-416a-f10c-b51fd6aa8b8c"
   },
   "outputs": [],
   "source": [
    "_______"
   ]
  },
  {
   "cell_type": "markdown",
   "metadata": {},
   "source": [
    "Get the total energy using an ase.io function."
   ]
  },
  {
   "cell_type": "code",
   "execution_count": 10,
   "metadata": {
    "colab": {
     "base_uri": "https://localhost:8080/"
    },
    "id": "IBqyzjpaBNbm",
    "outputId": "9d8ad34f-74e2-4673-df24-9de6179f2fa4"
   },
   "outputs": [],
   "source": [
    "import ase.io\n",
    "output = _______\n",
    "output._______()"
   ]
  },
  {
   "cell_type": "markdown",
   "metadata": {
    "id": "manDJrzjQWeT"
   },
   "source": [
    "### Convergence test"
   ]
  },
  {
   "cell_type": "markdown",
   "metadata": {},
   "source": [
    "Computers determine when convergence is achieved during the calculation by stopping the calculation when the energy difference between the previous step and the current step is less than the convergence threshold. This means that setting smaller threshold values will produce more accurate results, but will take longer to calculate.\n",
    "\n",
    "Because we have limited computational resources when doing DFT calculations, we need to trade off between accuracy and efficiency by finding the best values for energy cutoffs and k spacings. As a result, you need to find the best settings for a particular model by doing a convergence test.\n",
    "\n",
    "Here is an example of how you can perform a convergence test for the cutoff energy:"
   ]
  },
  {
   "cell_type": "code",
   "execution_count": 11,
   "metadata": {
    "id": "CnIKktP3QpeR"
   },
   "outputs": [],
   "source": [
    "import numpy as np\n",
    "# create a list for cutoff energies to be tested\n",
    "cutoff_energies = _______\n",
    "# find cutoff energy value in the \"cutoff energy\" line in the input file\n",
    "cutoff_index = _______\n",
    "\n",
    "total_energies = []\n",
    "for cutoff in cutoff_energies:\n",
    "  # update the input file with the new cutoff energy\n",
    "  new_input_file = _______\n",
    "  # overwrite the input file\n",
    "  _______\n",
    "\n",
    "  # run the DFT input file\n",
    "  _______\n",
    "\n",
    "  # read the output file\n",
    "  output = _______\n",
    "\n",
    "  _______ # record the calculated total energy into a list\n",
    "\n",
    "# computation time: ~14 seconds"
   ]
  },
  {
   "cell_type": "markdown",
   "metadata": {},
   "source": [
    "Now we can plot where our DFT calculation stopped over these different cutoff energies. Remember to add axes labels to the plot."
   ]
  },
  {
   "cell_type": "code",
   "execution_count": 12,
   "metadata": {
    "colab": {
     "base_uri": "https://localhost:8080/",
     "height": 472
    },
    "id": "djzmRSCwRL3T",
    "outputId": "03b736fc-62f6-4a6b-ef01-0a9d1f9f713b"
   },
   "outputs": [],
   "source": [
    "import matplotlib.pyplot as plt\n",
    "fig,ax = plt.subplots()\n",
    "\n",
    "ax.plot(_______, _______,'o-')\n",
    "_______"
   ]
  },
  {
   "cell_type": "markdown",
   "metadata": {
    "id": "RyEyrTmnSHdh"
   },
   "source": [
    "### Lattice parameter\n",
    "\n",
    "We can find the energies of different starting lattice parameters to determine the size of the relaxed unit cell."
   ]
  },
  {
   "cell_type": "code",
   "execution_count": 13,
   "metadata": {
    "id": "16nINjxzSLic"
   },
   "outputs": [],
   "source": [
    "import numpy as np\n",
    "# create a list for lattice constants to be tested\n",
    "lattice_constants = _______\n",
    "# find the lattice constant in the \"lattice constant\" line in the input file\n",
    "lat_cons_index = _______\n",
    "\n",
    "total_energies = []\n",
    "for constant in lattice_constants:\n",
    "  # update the input file with the new lattice constant\n",
    "  new_input_file = _______\n",
    "  # overwrite the input file\n",
    "  _______\n",
    "\n",
    "  _______ # run the DFT input file\n",
    "\n",
    "  output = _______ # read the output file\n",
    "\n",
    "  _______ # record the calculated total energy into a list\n",
    "\n",
    "# computation time: 10 seconds"
   ]
  },
  {
   "cell_type": "markdown",
   "metadata": {},
   "source": [
    "We can plot the calculated energy for each lattice parameter. Again, remember to add axes labels to the plot."
   ]
  },
  {
   "cell_type": "code",
   "execution_count": 14,
   "metadata": {
    "colab": {
     "base_uri": "https://localhost:8080/",
     "height": 467
    },
    "id": "LUtiUgmiTMe2",
    "outputId": "3fbdace0-ed9c-4dbe-a522-77a6513d39ba"
   },
   "outputs": [],
   "source": [
    "fig,ax = plt.subplots()\n",
    "\n",
    "_______"
   ]
  },
  {
   "cell_type": "markdown",
   "metadata": {
    "id": "rg6-Yu_Gc38U"
   },
   "source": [
    "### k-points\n",
    "\n",
    "Now we can perform a convergence test for the k-points at the relaxed lattice constant."
   ]
  },
  {
   "cell_type": "code",
   "execution_count": 16,
   "metadata": {
    "id": "hXmkze0SdQt2"
   },
   "outputs": [],
   "source": [
    "import numpy as np\n",
    "# create a list for k-points to be tested\n",
    "kpoints = _______ # enter kpoints limits\n",
    "# find the k-point value in the \"k-points\" line in the input file\n",
    "lat_cons_index = _______\n",
    "\n",
    "total_energies = []\n",
    "for k in kpoints:\n",
    "  # update the input file with the new lattice constant\n",
    "  new_input_file = _______\n",
    "  # overwrite the input file\n",
    "  _______\n",
    "\n",
    "  _______ # run the DFT input file\n",
    "\n",
    "  _______ # read the output file\n",
    "\n",
    "  _______ # record the calculated total energy\n",
    "\n",
    "# computation time: 10 seconds"
   ]
  },
  {
   "cell_type": "markdown",
   "metadata": {},
   "source": [
    "Again, let's plot where our DFT calculation stopped at different k-point thresholds."
   ]
  },
  {
   "cell_type": "code",
   "execution_count": 17,
   "metadata": {
    "colab": {
     "base_uri": "https://localhost:8080/",
     "height": 468
    },
    "id": "MGzJCNJyfKeT",
    "outputId": "46c60f62-4049-476a-df84-4d510d47b537"
   },
   "outputs": [],
   "source": [
    "fig,ax = plt.subplots()\n",
    "\n",
    "_______"
   ]
  },
  {
   "cell_type": "code",
   "execution_count": null,
   "metadata": {
    "id": "C6t6n5m4QT9I"
   },
   "outputs": [],
   "source": []
  }
 ],
 "metadata": {
  "colab": {
   "gpuType": "T4",
   "include_colab_link": true,
   "provenance": []
  },
  "kernelspec": {
   "display_name": "Python 3",
   "name": "python3"
  }
 },
 "nbformat": 4,
 "nbformat_minor": 0
}
