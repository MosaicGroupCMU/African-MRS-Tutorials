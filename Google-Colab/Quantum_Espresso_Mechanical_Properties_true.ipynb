{
  "nbformat": 4,
  "nbformat_minor": 0,
  "metadata": {
    "colab": {
      "provenance": [],
      "gpuType": "T4",
      "include_colab_link": true
    },
    "kernelspec": {
      "name": "python3",
      "display_name": "Python 3"
    }
  },
  "cells": [
    {
      "cell_type": "markdown",
      "metadata": {
        "id": "view-in-github",
        "colab_type": "text"
      },
      "source": [
        "<a href=\"https://colab.research.google.com/github/MosaicGroupCMU/African-MRS-Tutorials/blob/main/Google-Colab/Quantum_Espresso_Mechanical_Properties_true.ipynb\" target=\"_parent\"><img src=\"https://colab.research.google.com/assets/colab-badge.svg\" alt=\"Open In Colab\"/></a>"
      ]
    },
    {
      "cell_type": "markdown",
      "source": [
        "# Calculating Mechanical Properties in QuantumESPRESSO\n",
        "\n",
        "In this Google Colab workbook, we will use QuantumESPRESSO to calculate and visualise the electronic band structure of silicon. As always, there will be an [easy](https://github.com/MosaicGroupCMU/African-MRS-Tutorials/blob/4dc8b2cd702c39bd1b037300cae69a3b335cb526/Google-Colab/QE_Silicon_Electron_Bands_Easy.ipynb), medium, and hard version of this workbook.\n",
        "\n",
        "Prerequisite: `Quantum_Espresso_Silicon.ipynb`\n",
        "\n",
        "Contributors: [Seda Oturak](https://github.com/sedaoturak), [Ismaila Dabo](https://scholar.google.com/citations?user=rN299m0AAAAJ&hl=en),\n",
        " [Simon Gelin](https://scholar.google.com/citations?user=d1BSrxoAAAAJ&hl=en), [Jessica Wen](https://github.com/JessicaWen-PhD), [Cierra Chandler](https://github.com/Cierra-Chandler), [Henry Eya](https://github.com/Henrynweya)"
      ],
      "metadata": {
        "id": "Lde67kgksW7w"
      }
    },
    {
      "cell_type": "markdown",
      "metadata": {
        "id": "IJD9ZrhUbG8g"
      },
      "source": [
        "# Install libraries, environment, and Quantum ESPRESSO"
      ]
    },
    {
      "cell_type": "markdown",
      "source": [
        "This part installs libraries for numerical calculations and plotting."
      ],
      "metadata": {
        "id": "vqsBj38YseB6"
      }
    },
    {
      "cell_type": "code",
      "source": [
        "# load plotting libraries\n",
        "import matplotlib.pyplot as plt\n",
        "\n",
        "# load numerical libraries\n",
        "import numpy as np"
      ],
      "metadata": {
        "id": "ujaO0qfTsRsV"
      },
      "execution_count": 1,
      "outputs": []
    },
    {
      "cell_type": "markdown",
      "source": [
        "Quantum ESPRESSO is a plane wave code, which uses Fourier transforms to solve equations in plane wave space. This part installs libraries for fast Fourier transforms (FFTs)."
      ],
      "metadata": {
        "id": "HHMMhkfL__p1"
      }
    },
    {
      "cell_type": "code",
      "metadata": {
        "id": "7imWdEV1V-Fg"
      },
      "source": [
        "# eliminate text output during installation\n",
        "%%capture\n",
        "\n",
        "# install mathematical libraries to peform fast Fourier transforms\n",
        "# (the exclamation mark means that the command is run under Linux)\n",
        "! apt-get install -y libfftw3-3 libfftw3-dev libfftw3-doc"
      ],
      "execution_count": 2,
      "outputs": []
    },
    {
      "cell_type": "markdown",
      "source": [
        "The Atomic Simulation Environment (ASE) is a set of tools for running, visualizing, and analyzing simulations. This part installs ASE."
      ],
      "metadata": {
        "id": "E5v-b5UXKltX"
      }
    },
    {
      "cell_type": "code",
      "source": [
        "# eliminate text output during installation\n",
        "%%capture\n",
        "\n",
        "# install the Atomic simulation environment\n",
        "# ! apt install ase\n",
        "! pip install git+https://gitlab.com/ase/ase"
      ],
      "metadata": {
        "id": "STM7dA3yKJb2"
      },
      "execution_count": 3,
      "outputs": []
    },
    {
      "cell_type": "markdown",
      "source": [
        "Compiling Quantum ESPRESSO from scratch would take a long time. This part uploads pre-compiled executable files (`.x` extension) and additional files containing the pseudopotentials."
      ],
      "metadata": {
        "id": "3oJbUd4y2Sww"
      }
    },
    {
      "cell_type": "code",
      "source": [
        "# eliminate text output during installation\n",
        "%%capture\n",
        "!pip install gdown\n",
        "\n",
        "# navigate to main directory named '/content/'\n",
        "%cd /content/\n",
        "\n",
        "# download the pre-compiled files in compressed format (under Linux)\n",
        "#! wget 'https://docs.google.com/uc?export=download&id=1kw_CJMjP6ggDZXDNp5phAqCPpoe2WXCA' -O qe-lite.tgz\n",
        "!gdown 'https://drive.google.com/uc?export=download&id=13l-Kiyg-F6aYb5lF8M3RsE1hSnLRdGna' -O qe-lite.tgz\n",
        "\n",
        "\n",
        "# unpack the compressed files (under Linux)\n",
        "!tar -xvf qe-lite.tgz\n",
        "\n",
        "# clean up some files\n",
        "! rm -rf sample_data qe-lite.tgz"
      ],
      "metadata": {
        "id": "vLD7ypmk2SVm"
      },
      "execution_count": 4,
      "outputs": []
    },
    {
      "cell_type": "markdown",
      "source": [
        "# Prepare Quantum ESPRESSO input file"
      ],
      "metadata": {
        "id": "4yG2DhuXKDeU"
      }
    },
    {
      "cell_type": "markdown",
      "source": [
        "The type of calculation we will be using is a variable-cell\n",
        " relaxation also known as **vc-relax**. This type of calculation allows both the atoms and the lattice parameters shift to find the optimal state, while a **relax** calculation only allows for the atomic coordinates.  \n",
        "\n",
        "We will be using the unit cell of diamond silicon.\n",
        "\n",
        "\n",
        "The definition of the input parameters of the `pw.x` executable can be found at `www.quantum-espresso.org/Doc/INPUT_PW.html`."
      ],
      "metadata": {
        "id": "fmd4tSeW9rxK"
      }
    },
    {
      "cell_type": "code",
      "source": [
        "# create calculation folder and navigate into it\n",
        "%mkdir -p /content/aluminum\n",
        "%cd /content/aluminum/\n",
        "\n",
        "# create input and write it into the file si.scf.in\n",
        "qe_input = \"\"\"\n",
        "&control\n",
        "  prefix='aluminum',\n",
        "  calculation='vc-relax',\n",
        "  tstress = .true., ! stress tensor\n",
        "  tprnfor = .true., ! print forces\n",
        "  pseudo_dir = '/content/qe-lite/pseudopotentials',\n",
        "  outdir='/content/aluminum/'\n",
        "/\n",
        "&system\n",
        "  ibrav = 0,\n",
        "  celldm(1) = 4.05,\n",
        "  nat = 1,\n",
        "  ntyp = 1,\n",
        "  ecutwfc = 50.0,\n",
        "  ecutrho = 400.0,\n",
        "  occupations = 'smearing',          !metallic system\n",
        "  smearing = 'cold',                  !metallic system\n",
        "  degauss = 0.01,\n",
        "/\n",
        "&electrons\n",
        "  conv_thr = 1e-8,\n",
        "/\n",
        "&ions\n",
        "  ion_dynamics = 'bfgs' !\n",
        "/\n",
        "&cell\n",
        "  cell_dynamics = 'bfgs',\n",
        "  press = 0.001,\n",
        "  press_conv_thr = 0.5\n",
        "/\n",
        "ATOMIC_SPECIES\n",
        "Al  26.9815385  Al.UPF\n",
        "\n",
        "ATOMIC_POSITIONS (angstrom)\n",
        "Al 0.00 0.00 0.00\n",
        "\n",
        "K_POINTS automatic\n",
        "   4 4 4 0 0 0\n",
        "CELL_PARAMETERS (alat)\n",
        " 1.0  0.00  0.00\n",
        " 0.00  1.0  0.00\n",
        " 0.00  0.00  1.0\n",
        "\"\"\"\n",
        "\n",
        "\n",
        "with open(\"al.vc-relax.in\", \"w\") as f:\n",
        "    f.write(qe_input)\n",
        "\n",
        "# print the content of the input file (under Linux)\n",
        "! cat al.vc-relax.in"
      ],
      "metadata": {
        "id": "tTUnqAgSKF0i",
        "colab": {
          "base_uri": "https://localhost:8080/"
        },
        "outputId": "e9815699-16ce-49b5-b96c-040a72624e5c"
      },
      "execution_count": 13,
      "outputs": [
        {
          "output_type": "stream",
          "name": "stdout",
          "text": [
            "/content/aluminum\n",
            "\n",
            "&control\n",
            "  prefix='aluminum',\n",
            "  calculation='vc-relax',\n",
            "  tstress = .true., ! stress tensor\n",
            "  tprnfor = .true., ! print forces\n",
            "  pseudo_dir = '/content/qe-lite/pseudopotentials',\n",
            "  outdir='/content/aluminum/'\n",
            "/\n",
            "&system\n",
            "  ibrav = 0,\n",
            "  celldm(1) = 4.05,\n",
            "  nat = 1,\n",
            "  ntyp = 1,\n",
            "  ecutwfc = 50.0,\n",
            "  ecutrho = 400.0,\n",
            "  occupations = 'smearing',          !metallic system\n",
            "  smearing = 'cold',                  !metallic system\n",
            "  degauss = 0.01,\n",
            "/\n",
            "&electrons\n",
            "  conv_thr = 1e-8,\n",
            "/\n",
            "&ions\n",
            "  ion_dynamics = 'bfgs' !\n",
            "/\n",
            "&cell\n",
            "  cell_dynamics = 'bfgs',\n",
            "  press = 0.001,\n",
            "  press_conv_thr = 0.5\n",
            "/\n",
            "ATOMIC_SPECIES\n",
            "Al  26.9815385  Al.UPF\n",
            "\n",
            "ATOMIC_POSITIONS (angstrom)\n",
            "Al 0.00 0.00 0.00\n",
            "\n",
            "K_POINTS automatic\n",
            "   4 4 4 0 0 0\n",
            "CELL_PARAMETERS (alat)\n",
            " 1.0  0.00  0.00\n",
            " 0.00  1.0  0.00\n",
            " 0.00  0.00  1.0\n"
          ]
        }
      ]
    },
    {
      "cell_type": "markdown",
      "source": [
        "Notice that we add additional cards/sections to our input file. Since we are optimizing the positions and lattice parameters, we need to enable the:\n",
        "\n",
        "\n",
        "*   Ions card (for optimizing the atomic positions)\n",
        "*   Cell card (for optimizing the cell parameters)\n",
        "\n",
        "In the Cell card, we can set the target pressure of the cell as well as the pressure convergence threshold.\n"
      ],
      "metadata": {
        "id": "ruEqTitAWQ-j"
      }
    },
    {
      "cell_type": "code",
      "source": [
        "import ase.io.espresso\n",
        "from ase import Atoms\n",
        "from ase.visualize import view\n",
        "from ase.build import make_supercell\n",
        "from ase.build import bulk\n",
        "\n",
        "# extract unit cell information from input file using ASE\n",
        "input_file = ase.io.espresso.read_espresso_in('al.vc-relax.in')\n",
        "al = Atoms(input_file)\n",
        "\n",
        "# create a supercell (3 × 3 × 3) using ASE\n",
        "multiplier = np.identity(3) * 1\n",
        "al_supercell = make_supercell(al,multiplier)\n",
        "\n",
        "# visualize the supercell\n",
        "view(al_supercell, viewer='x3d')"
      ],
      "metadata": {
        "id": "oaciRbpOSxm3",
        "colab": {
          "base_uri": "https://localhost:8080/",
          "height": 402
        },
        "outputId": "27d13c2a-1d36-4c52-80a6-4df2f1296aac"
      },
      "execution_count": 14,
      "outputs": [
        {
          "output_type": "execute_result",
          "data": {
            "text/plain": [
              "<IPython.core.display.HTML object>"
            ],
            "text/html": [
              "<html>\n",
              "    <head>\n",
              "        <title>ASE atomic visualization</title>\n",
              "        <link rel=\"stylesheet\" type=\"text/css\"             href=\"https://www.x3dom.org/release/x3dom.css\"></link>\n",
              "        <script type=\"text/javascript\"             src=\"https://www.x3dom.org/release/x3dom.js\"></script>\n",
              "    </head>\n",
              "    <body>\n",
              "        <X3D width=\"400px\"; height=\"300px\";>\n",
              "\n",
              "<!--Inserting Generated X3D Scene-->\n",
              "<scene>\n",
              "  <viewpoint position=\"0 0 4.2863353876636845\">\n",
              "    <group/>\n",
              "  </viewpoint>\n",
              "  <transform translation=\"-1.0715838469159211 -1.0715838469159211 -1.0715838469159211\">\n",
              "    <group>\n",
              "      <group>\n",
              "        <transform translation=\"0 0 0\">\n",
              "          <shape>\n",
              "            <appearance>\n",
              "              <material diffuseColor=\"0 0 0\"/>\n",
              "            </appearance>\n",
              "            <lineset vertexCount=\"5\">\n",
              "              <coordinate point=\"0 0 0 2.1431676938318422 0.0 0.0 2.1431676938318422 2.1431676938318422 0.0 0.0 2.1431676938318422 0.0 0 0 0\"/>\n",
              "            </lineset>\n",
              "          </shape>\n",
              "        </transform>\n",
              "        <transform translation=\"0.0 0.0 2.1431676938318422\">\n",
              "          <shape>\n",
              "            <appearance>\n",
              "              <material diffuseColor=\"0 0 0\"/>\n",
              "            </appearance>\n",
              "            <lineset vertexCount=\"5\">\n",
              "              <coordinate point=\"0 0 0 2.1431676938318422 0.0 0.0 2.1431676938318422 2.1431676938318422 0.0 0.0 2.1431676938318422 0.0 0 0 0\"/>\n",
              "            </lineset>\n",
              "          </shape>\n",
              "        </transform>\n",
              "        <transform translation=\"0 0 0\">\n",
              "          <shape>\n",
              "            <appearance>\n",
              "              <material diffuseColor=\"0 0 0\"/>\n",
              "            </appearance>\n",
              "            <lineset vertexCount=\"5\">\n",
              "              <coordinate point=\"0 0 0 2.1431676938318422 0.0 0.0 2.1431676938318422 0.0 2.1431676938318422 0.0 0.0 2.1431676938318422 0 0 0\"/>\n",
              "            </lineset>\n",
              "          </shape>\n",
              "        </transform>\n",
              "        <transform translation=\"0.0 2.1431676938318422 0.0\">\n",
              "          <shape>\n",
              "            <appearance>\n",
              "              <material diffuseColor=\"0 0 0\"/>\n",
              "            </appearance>\n",
              "            <lineset vertexCount=\"5\">\n",
              "              <coordinate point=\"0 0 0 2.1431676938318422 0.0 0.0 2.1431676938318422 0.0 2.1431676938318422 0.0 0.0 2.1431676938318422 0 0 0\"/>\n",
              "            </lineset>\n",
              "          </shape>\n",
              "        </transform>\n",
              "      </group>\n",
              "      <group>\n",
              "        <transform translation=\"0.0 0.0 0.0\">\n",
              "          <shape>\n",
              "            <appearance>\n",
              "              <material diffuseColor=\"0.749 0.651 0.651\"/>\n",
              "            </appearance>\n",
              "            <sphere radius=\"1.21\"/>\n",
              "          </shape>\n",
              "        </transform>\n",
              "      </group>\n",
              "    </group>\n",
              "  </transform>\n",
              "</scene>\n",
              "<!--End of Inserted Scene-->\n",
              "\n",
              "        </X3D>\n",
              "    </body>\n",
              "</html>\n",
              "\n"
            ]
          },
          "metadata": {},
          "execution_count": 14
        }
      ]
    },
    {
      "cell_type": "markdown",
      "source": [
        "# Lattice parameter"
      ],
      "metadata": {
        "id": "RyEyrTmnSHdh"
      }
    },
    {
      "cell_type": "markdown",
      "source": [
        "#Structure Optimizaton"
      ],
      "metadata": {
        "id": "1CcjWShA2T4s"
      }
    },
    {
      "cell_type": "markdown",
      "source": [
        "# Stress-Strain Behaviour"
      ],
      "metadata": {
        "id": "I4xkUs383IMK"
      }
    },
    {
      "cell_type": "markdown",
      "source": [
        "In this section, we will\n"
      ],
      "metadata": {
        "id": "A7db42tlAST2"
      }
    },
    {
      "cell_type": "code",
      "source": [
        "import re\n",
        "\n",
        "# create a list for cell dimensions to be tested\n",
        "lattice_constants = np.arange(9.5,11.1,0.1)\n",
        "\n",
        "# find the \"lattice constant\" line in the input file\n",
        "lat_cons_index = qe_input.find('celldm(1) =') + 11\n",
        "\n",
        "total_energies = []\n",
        "total_strain = []\n",
        "total_stress = []\n",
        "\n",
        "for constant in lattice_constants:\n",
        "  # update the input file with the new lattice constant\n",
        "  new_input_file = qe_input[:lat_cons_index] + \" %.2f\" % constant + qe_input[lat_cons_index+5:]\n",
        "\n",
        "  # overwrite the input file\n",
        "  with open(\"al.vc-relax.in\", \"w\") as f:\n",
        "    f.write(new_input_file)\n",
        "\n",
        "  ! cat al.vc-relax.in\n",
        "  ! /content/qe-lite/bin/pw.x  -in al.vc-relax.in > al.vc-relax.out # run the DFT input file\n",
        "\n",
        "  output = ase.io.read(\"/content/aluminum/al.vc-relax.out\") # read the output file\n",
        "\n",
        "  total_energies.append(output.get_total_energy()) # record the calculated total energy\n",
        "\n",
        "  #Calculate the strain from the output\n",
        "  input = ase.io.read(\"/content/aluminum/al.vc-relax.in\")\n",
        "\n",
        "  lattice_initial = input.cell.cellpar()[0] # initial lattice parameters\n",
        "  lattice_final = output.cell.cellpar()[0] # final lattice parameters\n",
        "\n",
        "  total_strain.append((lattice_final - lattice_initial)/lattice_initial)\n",
        "\n",
        "  #Get the strain from the output file\n",
        "\n",
        "  file_path = \"/content/aluminum/al.vc-relax.out\"\n",
        "\n",
        "  # Open the file and read content\n",
        "  with open(file_path, 'r') as file:\n",
        "        content = file.read()\n",
        "\n",
        "    # Regular expression to match the total stress matrix block\n",
        "  stress_pattern = r\"total\\s+stress\\s+\\(Ry/bohr\\*\\*3\\)\\s+\\(kbar\\)[\\s\\S]+?(-?\\d+\\.\\d+)\\s+(-?\\d+\\.\\d+)\\s+(-?\\d+\\.\\d+)\"\n",
        "\n",
        "    # Search for the total stress matrix\n",
        "  matches = re.findall(stress_pattern, content)\n",
        "\n",
        "  if matches:\n",
        "        last_match = matches[-1]  # Get the last match (total stress matrix)\n",
        "\n",
        "        # Extract the diagonal stress values from the last match\n",
        "        stress_diagonal = float(last_match[1])\n",
        "\n",
        "        total_stress.append(stress_diagonal)\n"
      ],
      "metadata": {
        "id": "Ygb-jg-0BSlR",
        "outputId": "ddf57f8a-32e4-47c6-9f86-816ebc664005",
        "colab": {
          "base_uri": "https://localhost:8080/",
          "height": 1000
        }
      },
      "execution_count": 15,
      "outputs": [
        {
          "output_type": "stream",
          "name": "stdout",
          "text": [
            "\n",
            "&control\n",
            "  prefix='aluminum',\n",
            "  calculation='vc-relax',\n",
            "  tstress = .true., ! stress tensor\n",
            "  tprnfor = .true., ! print forces\n",
            "  pseudo_dir = '/content/qe-lite/pseudopotentials',\n",
            "  outdir='/content/aluminum/'\n",
            "/\n",
            "&system\n",
            "  ibrav = 0,\n",
            "  celldm(1) = 9.50,\n",
            "  nat = 1,\n",
            "  ntyp = 1,\n",
            "  ecutwfc = 50.0,\n",
            "  ecutrho = 400.0,\n",
            "  occupations = 'smearing',          !metallic system\n",
            "  smearing = 'cold',                  !metallic system\n",
            "  degauss = 0.01,\n",
            "/\n",
            "&electrons\n",
            "  conv_thr = 1e-8,\n",
            "/\n",
            "&ions\n",
            "  ion_dynamics = 'bfgs' !\n",
            "/\n",
            "&cell\n",
            "  cell_dynamics = 'bfgs',\n",
            "  press = 0.001,\n",
            "  press_conv_thr = 0.5\n",
            "/\n",
            "ATOMIC_SPECIES\n",
            "Al  26.9815385  Al.UPF\n",
            "\n",
            "ATOMIC_POSITIONS (angstrom)\n",
            "Al 0.00 0.00 0.00\n",
            "\n",
            "K_POINTS automatic\n",
            "   4 4 4 0 0 0\n",
            "CELL_PARAMETERS (alat)\n",
            " 1.0  0.00  0.00\n",
            " 0.00  1.0  0.00\n",
            " 0.00  0.00  1.0\n",
            "^C\n"
          ]
        },
        {
          "output_type": "error",
          "ename": "StopIteration",
          "evalue": "",
          "traceback": [
            "\u001b[0;31m---------------------------------------------------------------------------\u001b[0m",
            "\u001b[0;31mStopIteration\u001b[0m                             Traceback (most recent call last)",
            "\u001b[0;32m<ipython-input-15-6c111b2a72c5>\u001b[0m in \u001b[0;36m<cell line: 13>\u001b[0;34m()\u001b[0m\n\u001b[1;32m     22\u001b[0m   \u001b[0mget_ipython\u001b[0m\u001b[0;34m(\u001b[0m\u001b[0;34m)\u001b[0m\u001b[0;34m.\u001b[0m\u001b[0msystem\u001b[0m\u001b[0;34m(\u001b[0m\u001b[0;34m' /content/qe-lite/bin/pw.x  -in al.vc-relax.in > al.vc-relax.out # run the DFT input file'\u001b[0m\u001b[0;34m)\u001b[0m\u001b[0;34m\u001b[0m\u001b[0;34m\u001b[0m\u001b[0m\n\u001b[1;32m     23\u001b[0m \u001b[0;34m\u001b[0m\u001b[0m\n\u001b[0;32m---> 24\u001b[0;31m   \u001b[0moutput\u001b[0m \u001b[0;34m=\u001b[0m \u001b[0mase\u001b[0m\u001b[0;34m.\u001b[0m\u001b[0mio\u001b[0m\u001b[0;34m.\u001b[0m\u001b[0mread\u001b[0m\u001b[0;34m(\u001b[0m\u001b[0;34m\"/content/aluminum/al.vc-relax.out\"\u001b[0m\u001b[0;34m)\u001b[0m \u001b[0;31m# read the output file\u001b[0m\u001b[0;34m\u001b[0m\u001b[0;34m\u001b[0m\u001b[0m\n\u001b[0m\u001b[1;32m     25\u001b[0m \u001b[0;34m\u001b[0m\u001b[0m\n\u001b[1;32m     26\u001b[0m   \u001b[0mtotal_energies\u001b[0m\u001b[0;34m.\u001b[0m\u001b[0mappend\u001b[0m\u001b[0;34m(\u001b[0m\u001b[0moutput\u001b[0m\u001b[0;34m.\u001b[0m\u001b[0mget_total_energy\u001b[0m\u001b[0;34m(\u001b[0m\u001b[0;34m)\u001b[0m\u001b[0;34m)\u001b[0m \u001b[0;31m# record the calculated total energy\u001b[0m\u001b[0;34m\u001b[0m\u001b[0;34m\u001b[0m\u001b[0m\n",
            "\u001b[0;32m/usr/local/lib/python3.10/dist-packages/ase/io/formats.py\u001b[0m in \u001b[0;36mread\u001b[0;34m(filename, index, format, parallel, do_not_split_by_at_sign, **kwargs)\u001b[0m\n\u001b[1;32m    807\u001b[0m                            **kwargs))\n\u001b[1;32m    808\u001b[0m     \u001b[0;32melse\u001b[0m\u001b[0;34m:\u001b[0m\u001b[0;34m\u001b[0m\u001b[0;34m\u001b[0m\u001b[0m\n\u001b[0;32m--> 809\u001b[0;31m         return next(_iread(filename, slice(index, None), format, io,\n\u001b[0m\u001b[1;32m    810\u001b[0m                            parallel=parallel, **kwargs))\n\u001b[1;32m    811\u001b[0m \u001b[0;34m\u001b[0m\u001b[0m\n",
            "\u001b[0;31mStopIteration\u001b[0m: "
          ]
        }
      ]
    },
    {
      "cell_type": "code",
      "source": [
        "# plot potential energy curve\n",
        "\n",
        "from scipy.signal import savgol_filter\n",
        "\n",
        "#smoothed_stresses = savgol_filter(total_stress, window_length=12, polyorder=2)\n",
        "\n",
        "fig,ax = plt.subplots()\n",
        "#ax.plot(total_strain, smoothed_stresses,'o-')\n",
        "ax.plot(total_strain, total_stress,'o-')\n",
        "ax.set_xlabel('Strain, (%)')\n",
        "ax.set_ylabel('Stress, (Ry/bohr**3)')\n",
        "plt.show()"
      ],
      "metadata": {
        "id": "fKYQ0A7f1nDh",
        "outputId": "44e95e93-f8af-44c5-b61a-9ae8632380fb",
        "colab": {
          "base_uri": "https://localhost:8080/",
          "height": 465
        }
      },
      "execution_count": null,
      "outputs": [
        {
          "output_type": "display_data",
          "data": {
            "text/plain": [
              "<Figure size 640x480 with 1 Axes>"
            ],
            "image/png": "[encoded data removed]"
          },
          "metadata": {}
        }
      ]
    },
    {
      "cell_type": "code",
      "source": [
        "# plot potential energy curve\n",
        "\n",
        "from scipy.signal import savgol_filter\n",
        "\n",
        "#smoothed_stresses = savgol_filter(total_stress, window_length=12, polyorder=2)\n",
        "\n",
        "fig,ax = plt.subplots()\n",
        "#ax.plot(total_strain, smoothed_stresses,'o-')\n",
        "ax.plot(total_strain, total_stress,'o-')\n",
        "ax.set_xlabel('Strain, (%)')\n",
        "ax.set_ylabel('Stress, (Ry/bohr**3)')\n",
        "plt.show()"
      ],
      "metadata": {
        "id": "j8m78PxfYW-1",
        "outputId": "cb645c07-f26c-402e-a14e-b0f99352e4c5",
        "colab": {
          "base_uri": "https://localhost:8080/",
          "height": 465
        }
      },
      "execution_count": null,
      "outputs": [
        {
          "output_type": "display_data",
          "data": {
            "text/plain": [
              "<Figure size 640x480 with 1 Axes>"
            ],
            "image/png": "[encoded data removed]"
          },
          "metadata": {}
        }
      ]
    },
    {
      "cell_type": "markdown",
      "source": [
        "https://www.researchgate.net/publication/235538043/figure/fig5/AS:667591676796932@1536177667406/Stress-strain-curves-for-the-SiC-and-Si-structures-obtained-from-the-rod-tension-tests-v.png\n",
        "\n",
        "```\n",
        "# This is formatted as code\n",
        "```\n",
        "\n"
      ],
      "metadata": {
        "id": "MCp5NcTxnpM6"
      }
    },
    {
      "cell_type": "markdown",
      "source": [
        "#Elastic Constant\n",
        "\n",
        "Young's Modulus\n",
        "Poisson's Ratio\n",
        "Shear Modulus\n",
        "Bulk Modulus"
      ],
      "metadata": {
        "id": "dX46TtPq3DEK"
      }
    },
    {
      "cell_type": "code",
      "source": [],
      "metadata": {
        "id": "yCsYVr6_y6Wg"
      },
      "execution_count": null,
      "outputs": []
    },
    {
      "cell_type": "markdown",
      "source": [
        "# Bulk Modulus\n",
        "\n",
        "The bulk modulus, *K* , is a measure of a material to bulk compression. It is usually positive"
      ],
      "metadata": {
        "id": "0hlhbmOqytDf"
      }
    },
    {
      "cell_type": "code",
      "source": [],
      "metadata": {
        "id": "9rSmeKU83n3o"
      },
      "execution_count": null,
      "outputs": []
    },
    {
      "cell_type": "markdown",
      "source": [
        "## Further considerations\n",
        "\n",
        "In these calculations, LDA or GGA are commonly used as the exchange-correction functionals. However, these severely underestimate band gaps (i.e. experimental band gap values are generally much higher). According to [pranabdas](https://pranabdas.github.io/espresso/hands-on/bands/), this difference can be attributed to:\n",
        "\n",
        "1. Approximations used in the exchange correction functional, and\n",
        "2. A derivative discontinuity term, originating from the density functional being discontinuous with the total number of electrons in the system.\n",
        "\n",
        "The second point is the larger contributor to the error. Many different techniques have been developed that partially address this problem, such as the GW approximation, which you can specify in the input file.\n",
        "\n",
        "\"Strategies to improve band gap prediction at moderate to low computational cost now been developed by several groups, including [Chan and Ceder](https://doi.org/10.1103/PhysRevLett.105.196403) (delta-sol), [Heyd et al.](https://doi.org/10.1063/1.2085170) (hybrid functionals), and [Setyawan et al.](https://doi.org/10.1021/co200012w) (empirical fits).\" -- see the [QuantumESPRESSO tutorial by pranabdas on GitHub](https://pranabdas.github.io/espresso/hands-on/bands/)."
      ],
      "metadata": {
        "id": "Mf8UZBFuxrwQ"
      }
    }
  ]
}