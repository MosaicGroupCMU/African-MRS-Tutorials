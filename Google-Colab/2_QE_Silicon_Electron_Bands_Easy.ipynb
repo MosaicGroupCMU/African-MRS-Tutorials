{
  "nbformat": 4,
  "nbformat_minor": 0,
  "metadata": {
    "colab": {
      "provenance": [],
      "include_colab_link": true
    },
    "kernelspec": {
      "name": "python3",
      "display_name": "Python 3"
    },
    "language_info": {
      "name": "python"
    }
  },
  "cells": [
    {
      "cell_type": "markdown",
      "metadata": {
        "id": "view-in-github",
        "colab_type": "text"
      },
      "source": [
        "<a href=\"https://colab.research.google.com/github/MosaicGroupCMU/African-MRS-Tutorials/blob/main/Google-Colab/2_QE_Silicon_Electron_Bands_Easy.ipynb\" target=\"_parent\"><img src=\"https://colab.research.google.com/assets/colab-badge.svg\" alt=\"Open In Colab\"/></a>"
      ]
    },
    {
      "cell_type": "markdown",
      "source": [
        "# Calculating Electronic Band Structures in Quantum ESPRESSO\n",
        "\n",
        "In this Google Colab workbook, we will use Quantum ESPRESSO to calculate and visualise the electronic band structure of silicon. As always, there will be an easy, [medium](https://github.com/MosaicGroupCMU/African-MRS-Tutorials/blob/abc5d7b730fa8fa7af5be40a0fec0e4b1af868b1/Google-Colab/QE_Silicon_Electron_Bands_Medium.ipynb), and [hard](https://github.com/MosaicGroupCMU/African-MRS-Tutorials/blob/96f29da396eeb012e13067b1013e33d1c6c7f7a1/Google-Colab/2_QE_Silicon_Electron_Bands_Hard.md) version of this workbook.\n",
        "\n",
        "Prerequisite: `1_Quantum_Espresso_Silicon.ipynb`\n",
        "\n",
        "Contributors: [Seda Oturak](https://github.com/sedaoturak), [Ismaila Dabo](https://scholar.google.com/citations?user=rN299m0AAAAJ&hl=en), [Jessica Wen](https://github.com/JessicaWen-PhD), [Cierra Chandler](https://github.com/Cierra-Chandler), [Henry Eya](https://github.com/Henrynweya)\n"
      ],
      "metadata": {
        "id": "4MVOV01qEKzD"
      }
    },
    {
      "cell_type": "markdown",
      "source": [
        "## Install libraries, environment, and Quantum ESPRESSO\n",
        "\n",
        "This part installs libraries for numerical calculations and plotting."
      ],
      "metadata": {
        "id": "iTv2dk_8Eq8B"
      }
    },
    {
      "cell_type": "code",
      "metadata": {
        "id": "fb_F5SOIwZ9b"
      },
      "source": [
        "# load plotting libraries\n",
        "import matplotlib.pyplot as plt\n",
        "\n",
        "# load numerical libraries\n",
        "import numpy as np"
      ],
      "execution_count": null,
      "outputs": []
    },
    {
      "cell_type": "markdown",
      "source": [
        "Quantum ESPRESSO is a plane wave code, which uses Fourier transforms to solve equations in plane wave space. This part installs libraries for fast Fourier transforms (FFTs)."
      ],
      "metadata": {
        "id": "3IYCaUWwFNMG"
      }
    },
    {
      "cell_type": "code",
      "source": [
        "# eliminate text output during installation\n",
        "%%capture\n",
        "\n",
        "# install mathematical libraries to peform fast Fourier transforms\n",
        "# (the exclamation mark means that the command is run under Linux)\n",
        "! apt-get install -y libfftw3-3 libfftw3-dev libfftw3-doc"
      ],
      "metadata": {
        "id": "13F5JkHVFQ_m"
      },
      "execution_count": null,
      "outputs": []
    },
    {
      "cell_type": "markdown",
      "source": [
        "The Atomic Simulation Environment (ASE) is a set of tools for running, visualizing, and analyzing simulations. This part installs ASE."
      ],
      "metadata": {
        "id": "9IgVFcvvFRoz"
      }
    },
    {
      "cell_type": "code",
      "source": [
        "# eliminate text output during installation\n",
        "%%capture\n",
        "\n",
        "# install the Atomic simulation environment\n",
        "# ! apt install ase\n",
        "! pip install git+https://gitlab.com/ase/ase"
      ],
      "metadata": {
        "id": "Wnf-cPM8FT8r"
      },
      "execution_count": null,
      "outputs": []
    },
    {
      "cell_type": "markdown",
      "source": [
        "Compiling Quantum ESPRESSO from scratch would take a long time. This part uploads pre-compiled executable files (`.x` extension) and additional files containing the pseudopotentials."
      ],
      "metadata": {
        "id": "QbNFwLXoFWQI"
      }
    },
    {
      "cell_type": "code",
      "source": [
        "# eliminate text output during installation\n",
        "%%capture\n",
        "\n",
        "# navigate to main directory named '/content/'\n",
        "%cd /content/\n",
        "\n",
        "# download the pre-compiled files in compressed format (under Linux)\n",
        "#! wget 'https://docs.google.com/uc?export=download&id=1kw_CJMjP6ggDZXDNp5phAqCPpoe2WXCA' -O qe-lite.tgz\n",
        "!gdown 'https://drive.google.com/uc?export=download&id=13l-Kiyg-F6aYb5lF8M3RsE1hSnLRdGna' -O qe-lite.tgz\n",
        "\n",
        "# unpack the compressed files (under Linux)\n",
        "! tar -xvzf qe-lite.tgz\n",
        "\n",
        "# clean up some files\n",
        "! rm -rf sample_data qe-lite.tgz"
      ],
      "metadata": {
        "id": "Iz-JwbCkFVxj"
      },
      "execution_count": null,
      "outputs": []
    },
    {
      "cell_type": "markdown",
      "source": [
        "\n",
        "Now we have installed all the libraries and executables, we can get started on our calculations."
      ],
      "metadata": {
        "id": "RZVCHgMsILAv"
      }
    },
    {
      "cell_type": "markdown",
      "source": [
        "---\n",
        "## How to Calculate Electronic Band Structure with Quantum ESPRESSO\n",
        "\n",
        "Quantum ESPRESSO provides us with all the tools that we need to calculate and plot the band structure. We follow the below steps:\n",
        "1. Create an input file for `pw.x` and run a self-consistent field (SCF) calculation, like we did in `1_Quantum_Espresso_Silicon.ipynb`.\n",
        "2. Run `pw.x` with calculation mode set to `bands`.\n",
        "3. Use the `bands.x` utility to post-process the calculation data we got from step 2 into a more usable format.\n",
        "4. Plot the band structure with `plotband.x`.\n",
        "5. Analyse the generated band structure file to interpret the electronic properties of the material."
      ],
      "metadata": {
        "id": "-Tfsgu0MISbp"
      }
    },
    {
      "cell_type": "markdown",
      "source": [
        "## How does the calculation work?\n",
        "\n",
        "The `bands` calculation in the `pw.x` program is *non self-consistent* so we need to read out the ground state electron density, Hartree, exchange, and correlation potentials that we found in the SCF calculation.\n",
        "\n",
        "The `pw.x` program finds the Kohn-Sham eigenfunction and eigenvalues without updating the Kohn-Sham Hamiltonian each time it iterates (hence why it is NOT a self-consistent calculation).\n",
        "\n",
        "We need to specify the k-points at which the Eigenvalues will be calculated. A reminder that you can use the [See-K-path tool by Materials Cloud](https://www.materialscloud.org/work/tools/seekpath) to visualise the K-path. If you're advanced, you can use [XCrysDen](http://www.xcrysden.org/) to select a path in k-space.\n",
        "\n",
        "We can specify `nbnd` so that it doesn't just do the default (which is when it calculates half the number of valence electrons, i.e. only the occupied ground state bands) - we are usually also interested in the unoccupied bands above the Fermi energy. The number of occupied bands can be found in the `scf` output as the number of Kohn-Sham states.\n",
        "\n",
        "Explanation from the [Quantum ESPRESSO tutorial by pranabdas on GitHub](https://pranabdas.github.io/espresso/hands-on/bands/)."
      ],
      "metadata": {
        "id": "vEaLPjwCJUnE"
      }
    },
    {
      "cell_type": "markdown",
      "source": [
        "---\n",
        "## Prepare Quantum ESPRESSO input file\n",
        "\n",
        "First, we want to create a calculation folder and navigate into it. This is a good habit to get into because when we want to run lots of calculations, we want to keep them organised."
      ],
      "metadata": {
        "id": "RS-jXh2jFgsb"
      }
    },
    {
      "cell_type": "code",
      "source": [
        "# create calculation folder and navigate into it\n",
        "%mkdir -p /content/________\n",
        "%cd /content/________/"
      ],
      "metadata": {
        "id": "qnl1po3zGXUV"
      },
      "execution_count": null,
      "outputs": []
    },
    {
      "cell_type": "markdown",
      "source": [
        "The calculation is for a unit cell of diamond silicon. Remember that the definition of the input parameters of the `pw.x` executable can be found at `www.quantum-espresso.org/Doc/INPUT_PW.html`.\n",
        "\n",
        "We can use the optimal cutoff energies and k-points that we found for silicon in the convergence tests during the `1_Quantum_Espresso_Silicon.ipynb` workbook.\n",
        "\n",
        "It might also be useful to use this paper, [(Herman, 1972)](https://ieeexplore.ieee.org/document/4055356), as a reference."
      ],
      "metadata": {
        "id": "AHRhd_h4F7PH"
      }
    },
    {
      "cell_type": "code",
      "source": [
        "# create input and write it into the file si.scf.in\n",
        "qe_input = \"\"\"\n",
        "&control\n",
        "  prefix='________',\n",
        "  pseudo_dir = '/content/qe-lite/pseudopotentials',\n",
        "  outdir='/content/________/',\n",
        "  verbosity='high',\n",
        "  calculation='________',\n",
        "  restart_mode='from_scratch'\n",
        "/\n",
        "&system\n",
        "  ibrav = 0,\n",
        "  celldm(1) = ________,\n",
        "  nat = ________,\n",
        "  ntyp = ________,\n",
        "  ecutwfc = ________,\n",
        "  ecutrho = ________,\n",
        "  nbnd=________,\n",
        "  ! if you don't specify nbnd, it will default to half the number of electrons, which only gives you up to the Fermi energy\n",
        "  ! occupations='smearing', smearing='mp', degauss=0.02,\n",
        "  ! if you add smearing to the calculation, you need to specify the smearing parameters.\n",
        "  ! smearing will mean that the calculations of the bands that electrons occupy will be less accurate, so it will produce the Fermi energy but not the lowest occupied/highest unoccupied states.\n",
        "/\n",
        "&electrons\n",
        "  conv_thr = 1e-8,\n",
        "/\n",
        "ATOMIC_SPECIES\n",
        " Si  ________  ________\n",
        "ATOMIC_POSITIONS alat\n",
        " Si ________ ________ ________\n",
        " Si ________ ________ ________\n",
        "K_POINTS automatic\n",
        "   4 4 4 1 1 1\n",
        "CELL_PARAMETERS\n",
        "  0.0 0.5 0.5\n",
        "  0.5 0.0 0.5\n",
        "  0.5 0.5 0.0\n",
        "\"\"\"\n",
        "\n",
        "# write qe_input into the input file, si.scf.in\n",
        "with open(\"________\", \"w\") as f:\n",
        "    f.write(________)\n",
        "\n",
        "# print the content of the input file (under Linux)\n",
        "! cat ________"
      ],
      "metadata": {
        "id": "9-UwBptgFzzE"
      },
      "execution_count": null,
      "outputs": []
    },
    {
      "cell_type": "markdown",
      "source": [
        "In the previous workbook, we visualised the silicon crystal. Here, we'll dive straight into the self-consistent field (SCF) calculation."
      ],
      "metadata": {
        "id": "U0Xui7X0GkE8"
      }
    },
    {
      "cell_type": "code",
      "source": [
        "# run the pw.x executable using si.scf.in to create si.scf.out\n",
        "! /content/qe-lite/bin/pw.x < ________ > ________\n",
        "\n",
        "# print the content of the output file (under Linux)\n",
        "! cat ________"
      ],
      "metadata": {
        "id": "vRfxObQgG5A2"
      },
      "execution_count": null,
      "outputs": []
    },
    {
      "cell_type": "markdown",
      "source": [
        "## Electronic band structure calculation input file\n",
        "\n",
        "Now we can run the `bands` calculation. To begin, we need to create a band structure calculation input file."
      ],
      "metadata": {
        "id": "aFMgjZU1IFcN"
      }
    },
    {
      "cell_type": "code",
      "source": [
        "# Create a new input file for the band structure calculation\n",
        "band_input = \"\"\"\n",
        "&control\n",
        "  prefix='________',\n",
        "  pseudo_dir = '/content/qe-lite/pseudopotentials',\n",
        "  outdir='/content/________/',\n",
        "  calculation='________'\n",
        "/\n",
        "&system\n",
        "  ibrav = 0,\n",
        "  celldm(1) = ________,\n",
        "  nat = ________,\n",
        "  ntyp = ________,\n",
        "  ecutwfc = ________,\n",
        "  ecutrho = ________,\n",
        "  nbnd = ________,\n",
        "  ! occupations='smearing', smearing='mp', degauss=0.02\n",
        "/\n",
        "&electrons\n",
        "  conv_thr = 1e-8,\n",
        "  mixing_beta = 0.6\n",
        "/\n",
        "ATOMIC_SPECIES\n",
        " Si  ________  ________\n",
        "ATOMIC_POSITIONS alat\n",
        " Si ________ ________ ________\n",
        " Si ________ ________ ________\n",
        "K_POINTS crystal_b\n",
        "5\n",
        "  0.0000 0.5000 0.0000 20  !L\n",
        "  0.0000 0.0000 0.0000 30  !G\n",
        "  -0.500 0.0000 -0.500 10  !X\n",
        "  -0.375 0.2500 -0.375 30  !U\n",
        "  0.0000 0.0000 0.0000 20  !G\n",
        "CELL_PARAMETERS\n",
        "  0.0 0.5 0.5\n",
        "  0.5 0.0 0.5\n",
        "  0.5 0.5 0.0\n",
        "\"\"\"\n",
        "\n",
        "# create the band structure input file si.bands.in from band_input\n",
        "with open(\"________\", \"w\") as f:\n",
        "    f.write(________)\n",
        "\n",
        "# Print the content of the band structure input file (under Linux)\n",
        "! cat ________"
      ],
      "metadata": {
        "id": "WfCIUu93JzLL"
      },
      "execution_count": null,
      "outputs": []
    },
    {
      "cell_type": "markdown",
      "source": [
        "## Electronic band structure calculation\n",
        "\n",
        "Run the `pw.x` executable with the input file from the previous step."
      ],
      "metadata": {
        "id": "xU8CrsNTJ7J9"
      }
    },
    {
      "cell_type": "code",
      "source": [
        "# Run the pw.x executable in the bands calculation mode using si.bands.in to create si.bands.out\n",
        "! /content/qe-lite/bin/pw.x < ________ > ________\n",
        "\n",
        "# Print the content of the band structure output file (under Linux)\n",
        "! cat ________"
      ],
      "metadata": {
        "id": "vZ_z0CuPKLUK"
      },
      "execution_count": null,
      "outputs": []
    },
    {
      "cell_type": "markdown",
      "source": [
        "## Post-processing and visualisation\n",
        "\n",
        "Now that we have done the `bands` calculation, we can use the `bands.x` executable to do our post-processing of the data."
      ],
      "metadata": {
        "id": "TdFfKmtjKMKE"
      }
    },
    {
      "cell_type": "code",
      "source": [
        "# Input file for the `bands.x` executable\n",
        "band_pp = \"\"\"\n",
        "&bands\n",
        "  prefix='________',\n",
        "  outdir='/content/________/',\n",
        "  filband='si_bands.dat'\n",
        "/\n",
        "\"\"\"\n",
        "\n",
        "with open(\"pp.si.bands.in\", \"w\") as f:\n",
        "    f.write(________)\n",
        "\n",
        "# Print the content of the band structure input file (under Linux)\n",
        "! cat ________"
      ],
      "metadata": {
        "id": "y89-0-gbKWwL"
      },
      "execution_count": null,
      "outputs": []
    },
    {
      "cell_type": "markdown",
      "source": [
        "Run `bands.x` with our post-processing input file."
      ],
      "metadata": {
        "id": "Uqzl09zDKfZD"
      }
    },
    {
      "cell_type": "code",
      "source": [
        "# Run the bands.x executable using pp.si.bands.in to create pp.si.bands.out\n",
        "! /content/qe-lite/bin/bands.x < ________ > ________\n",
        "\n",
        "# Print the content of the band structure output file (under Linux)\n",
        "! cat ________"
      ],
      "metadata": {
        "id": "RIbHji6nKja3"
      },
      "execution_count": null,
      "outputs": []
    },
    {
      "cell_type": "markdown",
      "source": [
        "Visualise the calculated band structure with `plotband.x`, either by running it interactively through typing `plotband.x` in your terminal or by providing an input file.\n",
        "\n",
        "We will first use `plotband.x`. Here's a hint for what you should put in the terminal prompts.\n",
        "\n",
        "\n",
        "```\n",
        "     Input file > si_bands.dat\n",
        "Reading    8 bands at     91 k-points\n",
        "Range:   -6.4340   12.6300eV  Emin, Emax, [firstk, lastk] > -6, 16\n",
        "high-symmetry point:  0.5000-0.5000 0.5000   x coordinate   0.0000\n",
        "high-symmetry point:  0.0000 0.0000 0.0000   x coordinate   0.8660\n",
        "high-symmetry point:  0.0000-1.0000 0.0000   x coordinate   1.8660\n",
        "high-symmetry point:  0.2500-1.0000 0.2500   x coordinate   2.2196\n",
        "high-symmetry point:  0.0000 0.0000 0.0000   x coordinate   3.2802\n",
        "output file (gnuplot/xmgr) > si_bands.gnuplot\n",
        "bands in gnuplot/xmgr format written to file si_bands.gnuplot                                                                                                                                                                                                                                                \n",
        "output file (ps) > si_bands.ps\n",
        "Efermi > 6.6416\n",
        "deltaE, reference E (for tics) 4, 0\n",
        "bands in PostScript format written to file si_bands.ps   \n",
        "```\n"
      ],
      "metadata": {
        "id": "FdEAikc7Kq8H"
      }
    },
    {
      "cell_type": "code",
      "source": [
        "# Use plotband.x on the si_bands.dat file to create the band diagrom in the output file si_bands.ps.\n",
        "! /content/qe-lite/bin/________"
      ],
      "metadata": {
        "id": "4I6Ttku2KuQG"
      },
      "execution_count": null,
      "outputs": []
    },
    {
      "cell_type": "markdown",
      "source": [
        "We will now try an alternative way with matplotlib and numpy.\n",
        "\n",
        "Most of the processing is converting the si_bands.dat.gnu data into x-y data that we can plot with any software. The data in si_bands.dat.gnu is formatted relatively predictably, so we can go band-by-band and extract the data into energy vs k-point data.\n",
        "\n",
        "This process stores the lowest band energy first, then the next lowest, and so on until all the bands in the band structure have been extracted.\n",
        "\n",
        "Explanation from [Levi Lentz's Band Diagram Tutorial for Quantum Espresso](https://blog.levilentz.com/band-diagram-tutorial-for-quantum-espresso/)."
      ],
      "metadata": {
        "id": "qxQ8O-FYLLf8"
      }
    },
    {
      "cell_type": "code",
      "source": [
        "# We can use your favourite plotting program to make the plots.\n",
        "# Here, we'll once again use Python's matplotlib to plot the band structure.\n",
        "plt.rcParams[\"figure.dpi\"]=150\n",
        "plt.rcParams[\"figure.facecolor\"]=\"white\"\n",
        "plt.rcParams[\"figure.figsize\"]=(8, 6)\n",
        "\n",
        "# load data\n",
        "data = np.loadtxt('/content/________/si_bands.dat.gnu')\n",
        "\n",
        "k = np.unique(data[:, 0])\n",
        "bands = np.reshape(data[:, 1], (-1, len(k)))\n",
        "\n",
        "for band in range(len(________)):\n",
        "    plt.plot(k, ________[________, ________], linewidth=1, alpha=0.5, color='k')\n",
        "plt.xlim(________, ________)\n",
        "\n",
        "# Fermi energy\n",
        "plt.axhline(6.6416, linestyle=(0, (5, 5)), linewidth=0.75, color='k', alpha=0.5)\n",
        "# High symmetry k-points (check bands_pp.out)\n",
        "plt.axvline(0.8660, linewidth=0.75, color='k', alpha=0.5)\n",
        "plt.axvline(1.8660, linewidth=0.75, color='k', alpha=0.5)\n",
        "plt.axvline(2.2196, linewidth=0.75, color='k', alpha=0.5)\n",
        "# text labels\n",
        "plt.xticks(ticks= [0, 0.8660, 1.8660, 2.2196, 3.2802], \\\n",
        "           labels=['L', '$\\Gamma$', 'X', 'U', '$\\Gamma$'])\n",
        "plt.ylabel(\"Energy (eV)\")\n",
        "plt.text(2.3, 5.6, 'Fermi energy')\n",
        "plt.________"
      ],
      "metadata": {
        "id": "lQohpGuZLOdq"
      },
      "execution_count": null,
      "outputs": []
    },
    {
      "cell_type": "markdown",
      "source": [
        "The high-symmetry points like those labelled on our diagram (Γ, X, U, L) can be found in the post-processing output file (`pp.si.bands.out`).\n",
        "\n",
        "We can use the plot to determine the band gap value, but we can be more accurate by finding the difference between the highest occupied level and the lowest unoccupied level from the scf calculation output."
      ],
      "metadata": {
        "id": "5hElQMJfU7D5"
      }
    },
    {
      "cell_type": "code",
      "source": [
        "# Band gap calculation\n",
        "! ________ -e \"________\" ________"
      ],
      "metadata": {
        "id": "zWe-_G_BVAzN"
      },
      "execution_count": null,
      "outputs": []
    },
    {
      "cell_type": "code",
      "source": [
        "# calculate the band gap from the values found from the SCF calculation output\n",
        "bandgap = ________ - ________;\n",
        "print(\"Band gap = \", ________, \"eV\")"
      ],
      "metadata": {
        "id": "QSudjmRrdFLU"
      },
      "execution_count": null,
      "outputs": []
    },
    {
      "cell_type": "markdown",
      "source": [
        "Now we can find the Fermi energy."
      ],
      "metadata": {
        "id": "M8qlItpHVmBD"
      }
    },
    {
      "cell_type": "code",
      "source": [
        "# Fermi energy\n",
        "________ = ________ ________ ________;\n",
        "print(\"Fermi energy = \", ________, \"eV\")"
      ],
      "metadata": {
        "id": "7FevfiQdVzQZ"
      },
      "execution_count": null,
      "outputs": []
    },
    {
      "cell_type": "markdown",
      "source": [
        "Compare this to the experimental value of the silicon band gap of 1.170 eV [(Bludau, Onton and Heinke, 1974)](https://pubs.aip.org/aip/jap/article-abstract/45/4/1846/507373/Temperature-dependence-of-the-band-gap-of-silicon)."
      ],
      "metadata": {
        "id": "YjPFwJyUdMPM"
      }
    },
    {
      "cell_type": "markdown",
      "source": [
        "## Drawbacks of this method to calculate band gaps\n",
        "\n",
        "In these calculations, LDA or GGA are commonly used as the exchange-correction functionals. However, these severely underestimate band gaps (i.e. experimental band gap values are generally much higher). According to [pranabdas](https://pranabdas.github.io/espresso/hands-on/bands/), this difference can be attributed to:\n",
        "\n",
        "1. Approximations used in the exchange correction functional, and\n",
        "2. A derivative discontinuity term, originating from the density functional being discontinuous with the total number of electrons in the system.\n",
        "\n",
        "The second point is the larger contributor to the error. Many different techniques have been developed that partially address this problem, such as the GW approximation, which you can specify in the input file.\n",
        "\n",
        "\"Strategies to improve band gap prediction at moderate to low computational cost now been developed by several groups, including [Chan and Ceder](https://doi.org/10.1103/PhysRevLett.105.196403) (delta-sol), [Heyd et al.](https://doi.org/10.1063/1.2085170) (hybrid functionals), and [Setyawan et al.](https://doi.org/10.1021/co200012w) (empirical fits).\" -- see the [Quantum ESPRESSO tutorial by pranabdas on GitHub](https://pranabdas.github.io/espresso/hands-on/bands/)."
      ],
      "metadata": {
        "id": "HFvl8PHkVJxK"
      }
    }
  ]
}