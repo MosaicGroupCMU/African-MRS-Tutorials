{
  "nbformat": 4,
  "nbformat_minor": 0,
  "metadata": {
    "colab": {
      "provenance": [],
      "gpuType": "T4",
      "include_colab_link": true
    },
    "kernelspec": {
      "name": "python3",
      "display_name": "Python 3"
    }
  },
  "cells": [
    {
      "cell_type": "markdown",
      "metadata": {
        "id": "view-in-github",
        "colab_type": "text"
      },
      "source": [
        "<a href=\"https://colab.research.google.com/github/MosaicGroupCMU/African-MRS-Tutorials/blob/main/Google-Colab/Quantum_Espresso_H2O.ipynb\" target=\"_parent\"><img src=\"https://colab.research.google.com/assets/colab-badge.svg\" alt=\"Open In Colab\"/></a>"
      ]
    },
    {
      "cell_type": "markdown",
      "source": [
        "# Introduction to geometry optimization of molecular water using Quantum ESPRESSO\n",
        "\n",
        "Contributors: [Seda Oturak](https://github.com/sedaoturak), [Ismaila Dabo](https://scholar.google.com/citations?user=rN299m0AAAAJ&hl=en), [Jessica Wen](https://github.com/JessicaWen-PhD), [Cierra Chandler](https://github.com/Cierra-Chandler), [Henry Eya](https://github.com/Henrynweya)\n",
        "\n"
      ],
      "metadata": {
        "id": "YRXrx6RMqg0r"
      }
    },
    {
      "cell_type": "markdown",
      "metadata": {
        "id": "IJD9ZrhUbG8g"
      },
      "source": [
        "# Step 1: Install libraries, environment, and Quantum ESPRESSO"
      ]
    },
    {
      "cell_type": "markdown",
      "source": [],
      "metadata": {
        "id": "YTJtP2_iiNSw"
      }
    },
    {
      "cell_type": "markdown",
      "source": [
        "This part installs libraries for numerical calculations and plotting."
      ],
      "metadata": {
        "id": "vqsBj38YseB6"
      }
    },
    {
      "cell_type": "code",
      "source": [
        "# load plotting libraries\n",
        "import matplotlib.pyplot as plt\n",
        "\n",
        "# load numerical libraries\n",
        "import numpy as np"
      ],
      "metadata": {
        "id": "ujaO0qfTsRsV"
      },
      "execution_count": 2,
      "outputs": []
    },
    {
      "cell_type": "markdown",
      "source": [
        "Quantum ESPRESSO is a plane wave code, which uses Fourier transforms to solve equations in plane wave space. This part installs libraries for fast Fourier transforms (FFTs)."
      ],
      "metadata": {
        "id": "HHMMhkfL__p1"
      }
    },
    {
      "cell_type": "code",
      "metadata": {
        "id": "7imWdEV1V-Fg"
      },
      "source": [
        "# eliminate text output during installation\n",
        "%%capture\n",
        "\n",
        "# install mathematical libraries to peform fast Fourier transforms\n",
        "# (the exclamation mark means that the command is run under Linux)\n",
        "! apt-get install -y libfftw3-3 libfftw3-dev libfftw3-doc"
      ],
      "execution_count": 3,
      "outputs": []
    },
    {
      "cell_type": "markdown",
      "source": [
        "The Atomic Simulation Environment (ASE) is a set of tools for running, visualizing, and analyzing simulations. This part installs ASE."
      ],
      "metadata": {
        "id": "E5v-b5UXKltX"
      }
    },
    {
      "cell_type": "code",
      "source": [
        "# eliminate text output during installation\n",
        "%%capture\n",
        "\n",
        "# install the Atomic simulation environment\n",
        "# ! apt install ase\n",
        "! pip install git+https://gitlab.com/ase/ase"
      ],
      "metadata": {
        "id": "STM7dA3yKJb2"
      },
      "execution_count": 4,
      "outputs": []
    },
    {
      "cell_type": "markdown",
      "source": [
        "Compiling Quantum ESPRESSO from scratch would take a long time. This part uploads pre-compiled executable files (`.x` extension) and additional files containing the pseudopotentials."
      ],
      "metadata": {
        "id": "3oJbUd4y2Sww"
      }
    },
    {
      "cell_type": "code",
      "source": [
        "# eliminate text output during installation\n",
        "%%capture\n",
        "\n",
        "# navigate to main directory named '/content/'\n",
        "%cd /content/\n",
        "\n",
        "# download the pre-compiled files in compressed format (under Linux)\n",
        "#! wget 'https://docs.google.com/uc?export=download&id=1kw_CJMjP6ggDZXDNp5phAqCPpoe2WXCA' -O qe-lite.tgz\n",
        "!gdown 'https://drive.google.com/uc?export=download&id=13l-Kiyg-F6aYb5lF8M3RsE1hSnLRdGna' -O qe-lite.tgz\n",
        "\n",
        "# unpack the compressed files (under Linux)\n",
        "! tar -xvzf qe-lite.tgz\n",
        "\n",
        "# clean up some files\n",
        "! rm -rf sample_data qe-lite.tgz"
      ],
      "metadata": {
        "id": "vLD7ypmk2SVm"
      },
      "execution_count": 5,
      "outputs": []
    },
    {
      "cell_type": "markdown",
      "source": [
        "# Step 2: Prepare Quantum ESPRESSO input file for SCF"
      ],
      "metadata": {
        "id": "4yG2DhuXKDeU"
      }
    },
    {
      "cell_type": "markdown",
      "source": [
        "The calculation is for a water molecule. The definition of the input parameters of the `pw.x` executable can be found at `www.quantum-espresso.org/Doc/INPUT_PW.html`.\n",
        "\n",
        "Things to note for molecules:\n",
        "1. The molecule should be put in a vacuum\n",
        "2. KPOINTS of 1 1 1 is used"
      ],
      "metadata": {
        "id": "fmd4tSeW9rxK"
      }
    },
    {
      "cell_type": "code",
      "source": [
        "# create calculation folder and navigate into it\n",
        "%mkdir -p /content/water\n",
        "%cd /content/water/\n",
        "\n",
        "# create input and write it into the file h20.scf.in\n",
        "qe_input = \"\"\"\n",
        "&control\n",
        "  prefix='water',\n",
        "  pseudo_dir = '/content/qe-lite/pseudopotentials',\n",
        "  outdir='/content/water'\n",
        "/\n",
        "&system\n",
        "  ibrav = 0,\n",
        "  nat = 3,\n",
        "  ntyp = 2,\n",
        "  ecutwfc = 30.0,\n",
        "  ecutrho = 240.0,\n",
        "  occupations  = 'smearing'\n",
        "  degauss      = 0.001\n",
        "  smearing     = 'marzari-vanderbilt'\n",
        "/\n",
        "&electrons\n",
        "  conv_thr = 1e-8,\n",
        "/\n",
        "ATOMIC_SPECIES\n",
        "O 15.999 O.upf\n",
        "H 1.008 H.upf\n",
        "\n",
        "K_POINTS automatic\n",
        "1 1 1 0 0 0\n",
        "\n",
        "CELL_PARAMETERS angstrom\n",
        "10.00000000000000 0.00000000000000 0.00000000000000\n",
        "0.00000000000000 10.00000000000000 0.00000000000000\n",
        "0.00000000000000 0.00000000000000 10.00000000000000\n",
        "\n",
        "ATOMIC_POSITIONS angstrom\n",
        "O 0.0000000000 0.0000000000 0.2981545000\n",
        "H 0.0000000000 0.7632390000 -0.2981545000\n",
        "H 0.0000000000 -0.7632390000 -0.2981545000\n",
        "\n",
        "\"\"\"\n",
        "\n",
        "with open(\"h20.scf.in\", \"w\") as f:\n",
        "    f.write(qe_input)\n",
        "\n",
        "# print the content of the input file (under Linux)\n",
        "! cat h20.scf.in"
      ],
      "metadata": {
        "id": "tTUnqAgSKF0i",
        "colab": {
          "base_uri": "https://localhost:8080/"
        },
        "outputId": "2729f4c1-fb46-438a-b120-878835b3cf11"
      },
      "execution_count": 46,
      "outputs": [
        {
          "output_type": "stream",
          "name": "stdout",
          "text": [
            "/content/water\n",
            "\n",
            "&control\n",
            "  prefix='water',\n",
            "  pseudo_dir = '/content/qe-lite/pseudopotentials',\n",
            "  outdir='/content/water'\n",
            "/\n",
            "&system\n",
            "  ibrav = 0,\n",
            "  nat = 3,\n",
            "  ntyp = 2,\n",
            "  ecutwfc = 30.0,\n",
            "  ecutrho = 240.0,\n",
            "  occupations  = 'smearing'\n",
            "  degauss      = 0.001\n",
            "  smearing     = 'marzari-vanderbilt'\n",
            "/\n",
            "&electrons\n",
            "  conv_thr = 1e-8,\n",
            "/\n",
            "ATOMIC_SPECIES\n",
            "O 15.999 O.upf\n",
            "H 1.008 H.upf\n",
            "\n",
            "K_POINTS automatic\n",
            "1 1 1 0 0 0\n",
            "\n",
            "CELL_PARAMETERS angstrom\n",
            "10.00000000000000 0.00000000000000 0.00000000000000\n",
            "0.00000000000000 10.00000000000000 0.00000000000000\n",
            "0.00000000000000 0.00000000000000 10.00000000000000\n",
            "\n",
            "ATOMIC_POSITIONS angstrom\n",
            "O 0.0000000000 0.0000000000 0.2981545000\n",
            "H 0.0000000000 0.7632390000 -0.2981545000\n",
            "H 0.0000000000 -0.7632390000 -0.2981545000\n",
            "\n"
          ]
        }
      ]
    },
    {
      "cell_type": "markdown",
      "source": [
        "Use ASE tools to extract information from Quantum ESPRESSO input and visualize the crystal."
      ],
      "metadata": {
        "id": "ruEqTitAWQ-j"
      }
    },
    {
      "cell_type": "code",
      "source": [
        "import ase.io.espresso\n",
        "from ase import Atoms\n",
        "from ase.visualize import view\n",
        "from ase.build import make_supercell\n",
        "from ase.build import bulk\n",
        "\n",
        "# extract unit cell information from input file using ASE\n",
        "input_file = ase.io.espresso.read_espresso_in('h20.scf.in')\n",
        "water = Atoms(input_file)\n",
        "\n",
        "# create a supercell (2 × 2 × 2) using ASE\n",
        "#multiplier = np.identity(3) * 3\n",
        "#water_supercell = make_supercell(water,multiplier)\n",
        "\n",
        "\"\"\"\n",
        "#For non-square array (for example 1 x 2 x 1), you can use the follwoing lines\n",
        "\n",
        "multiplier = np.array([\n",
        "    [3, 0, 0],  # x-dimension unchanged\n",
        "    [0, 2, 0],  # y-dimension scaled by 2\n",
        "    [0, 0, 2]   # z-dimension unchanged\n",
        "])\n",
        "water_supercell = make_supercell(water,multiplier)\n",
        "\"\"\"\n",
        "# visualize the supercell\n",
        "view(water, viewer='x3d')\n",
        "#view(water_supercell, viewer='x3d')"
      ],
      "metadata": {
        "id": "oaciRbpOSxm3",
        "colab": {
          "base_uri": "https://localhost:8080/",
          "height": 317
        },
        "outputId": "c6379ccc-346e-4cef-b3b1-b435f17bae2e"
      },
      "execution_count": 47,
      "outputs": [
        {
          "output_type": "execute_result",
          "data": {
            "text/plain": [
              "<IPython.core.display.HTML object>"
            ],
            "text/html": [
              "<html>\n",
              "    <head>\n",
              "        <title>ASE atomic visualization</title>\n",
              "        <link rel=\"stylesheet\" type=\"text/css\"             href=\"https://www.x3dom.org/release/x3dom.css\"></link>\n",
              "        <script type=\"text/javascript\"             src=\"https://www.x3dom.org/release/x3dom.js\"></script>\n",
              "    </head>\n",
              "    <body>\n",
              "        <X3D width=\"400px\"; height=\"300px\";>\n",
              "\n",
              "<!--Inserting Generated X3D Scene-->\n",
              "<scene>\n",
              "  <viewpoint position=\"0 0 21.526478\">\n",
              "    <group/>\n",
              "  </viewpoint>\n",
              "  <transform translation=\"-5.0 -5.0 -5.0\">\n",
              "    <group>\n",
              "      <group>\n",
              "        <transform translation=\"0 0 0\">\n",
              "          <shape>\n",
              "            <appearance>\n",
              "              <material diffuseColor=\"0 0 0\"/>\n",
              "            </appearance>\n",
              "            <lineset vertexCount=\"5\">\n",
              "              <coordinate point=\"0 0 0 10.0 0.0 0.0 10.0 10.0 0.0 0.0 10.0 0.0 0 0 0\"/>\n",
              "            </lineset>\n",
              "          </shape>\n",
              "        </transform>\n",
              "        <transform translation=\"0.0 0.0 10.0\">\n",
              "          <shape>\n",
              "            <appearance>\n",
              "              <material diffuseColor=\"0 0 0\"/>\n",
              "            </appearance>\n",
              "            <lineset vertexCount=\"5\">\n",
              "              <coordinate point=\"0 0 0 10.0 0.0 0.0 10.0 10.0 0.0 0.0 10.0 0.0 0 0 0\"/>\n",
              "            </lineset>\n",
              "          </shape>\n",
              "        </transform>\n",
              "        <transform translation=\"0 0 0\">\n",
              "          <shape>\n",
              "            <appearance>\n",
              "              <material diffuseColor=\"0 0 0\"/>\n",
              "            </appearance>\n",
              "            <lineset vertexCount=\"5\">\n",
              "              <coordinate point=\"0 0 0 10.0 0.0 0.0 10.0 0.0 10.0 0.0 0.0 10.0 0 0 0\"/>\n",
              "            </lineset>\n",
              "          </shape>\n",
              "        </transform>\n",
              "        <transform translation=\"0.0 10.0 0.0\">\n",
              "          <shape>\n",
              "            <appearance>\n",
              "              <material diffuseColor=\"0 0 0\"/>\n",
              "            </appearance>\n",
              "            <lineset vertexCount=\"5\">\n",
              "              <coordinate point=\"0 0 0 10.0 0.0 0.0 10.0 0.0 10.0 0.0 0.0 10.0 0 0 0\"/>\n",
              "            </lineset>\n",
              "          </shape>\n",
              "        </transform>\n",
              "      </group>\n",
              "      <group>\n",
              "        <transform translation=\"0.0 0.0 0.2981545\">\n",
              "          <shape>\n",
              "            <appearance>\n",
              "              <material diffuseColor=\"1.0 0.051 0.051\"/>\n",
              "            </appearance>\n",
              "            <sphere radius=\"0.66\"/>\n",
              "          </shape>\n",
              "        </transform>\n",
              "        <transform translation=\"0.0 0.763239 -0.2981545\">\n",
              "          <shape>\n",
              "            <appearance>\n",
              "              <material diffuseColor=\"1.0 1.0 1.0\"/>\n",
              "            </appearance>\n",
              "            <sphere radius=\"0.31\"/>\n",
              "          </shape>\n",
              "        </transform>\n",
              "        <transform translation=\"0.0 -0.763239 -0.2981545\">\n",
              "          <shape>\n",
              "            <appearance>\n",
              "              <material diffuseColor=\"1.0 1.0 1.0\"/>\n",
              "            </appearance>\n",
              "            <sphere radius=\"0.31\"/>\n",
              "          </shape>\n",
              "        </transform>\n",
              "      </group>\n",
              "    </group>\n",
              "  </transform>\n",
              "</scene>\n",
              "<!--End of Inserted Scene-->\n",
              "\n",
              "        </X3D>\n",
              "    </body>\n",
              "</html>\n",
              "\n"
            ]
          },
          "metadata": {},
          "execution_count": 47
        }
      ]
    },
    {
      "cell_type": "markdown",
      "source": [
        "#Center the molecule"
      ],
      "metadata": {
        "id": "EaPC0ZRhohMk"
      }
    },
    {
      "cell_type": "code",
      "source": [
        "# Modify the ATOMIC_POSITIONS section to add 5 to each coordinate\n",
        "lines = qe_input.splitlines()\n",
        "modified_lines = []\n",
        "inside_atomic_positions = False\n",
        "\n",
        "for line in lines:\n",
        "    if line.strip().startswith(\"ATOMIC_POSITIONS\"):\n",
        "        inside_atomic_positions = True\n",
        "        modified_lines.append(line)\n",
        "    elif inside_atomic_positions:\n",
        "        if line.strip() == \"\":  # Exit the section on blank line\n",
        "            inside_atomic_positions = False\n",
        "            modified_lines.append(line)\n",
        "        else:\n",
        "            parts = line.split()\n",
        "            if len(parts) == 4:  # Ensure it has atomic symbol + 3 coordinates\n",
        "                symbol = parts[0]\n",
        "                coords = [float(c) + 5 for c in parts[1:]]\n",
        "                modified_lines.append(f\"{symbol} {coords[0]:.10f} {coords[1]:.10f} {coords[2]:.10f}\")\n",
        "            else:\n",
        "                modified_lines.append(line)\n",
        "    else:\n",
        "        modified_lines.append(line)\n",
        "\n",
        "# Join modified lines back into a single string\n",
        "qe_input_modified = \"\\n\".join(modified_lines)\n",
        "\n",
        "# Write the modified input into the file h20.scf.in\n",
        "with open(\"h20.scf.in\", \"w\") as file:\n",
        "    file.write(qe_input_modified)\n",
        "\n",
        "# Print the modified content (optional, for verification)\n",
        "#print(h20_scf_modified)\n",
        "!cat h20.scf.in"
      ],
      "metadata": {
        "id": "jtUb4ycoopKA",
        "outputId": "704caa14-d5d5-4731-f48e-b4239d0a50b0",
        "colab": {
          "base_uri": "https://localhost:8080/"
        }
      },
      "execution_count": 44,
      "outputs": [
        {
          "output_type": "stream",
          "name": "stdout",
          "text": [
            "\n",
            "&control\n",
            "  prefix='water',\n",
            "  pseudo_dir = '/content/qe-lite/pseudopotentials',\n",
            "  outdir='/content/water'\n",
            "/\n",
            "&system\n",
            "  ibrav = 0,\n",
            "  nat = 3,\n",
            "  ntyp = 2,\n",
            "  ecutwfc = 30.0,\n",
            "  ecutrho = 240.0,\n",
            "  occupations  = 'smearing'\n",
            "  degauss      = 0.001\n",
            "  smearing     = 'marzari-vanderbilt'\n",
            "/\n",
            "&electrons\n",
            "  conv_thr = 1e-8,\n",
            "/\n",
            "ATOMIC_SPECIES\n",
            "O 15.999 O.upf\n",
            "H 1.008 H.upf\n",
            "\n",
            "K_POINTS automatic\n",
            "1 1 1 0 0 0\n",
            "\n",
            "CELL_PARAMETERS angstrom\n",
            "10.00000000000000 0.00000000000000 0.00000000000000\n",
            "0.00000000000000 10.00000000000000 0.00000000000000\n",
            "0.00000000000000 0.00000000000000 10.00000000000000\n",
            "\n",
            "ATOMIC_POSITIONS angstrom\n",
            "O 5.0000000000 5.0000000000 5.2981545000\n",
            "H 5.0000000000 5.7632390000 4.7018455000\n",
            "H 5.0000000000 4.2367610000 4.7018455000\n"
          ]
        }
      ]
    },
    {
      "cell_type": "code",
      "source": [],
      "metadata": {
        "id": "i7eHTb5wrTDj"
      },
      "execution_count": null,
      "outputs": []
    },
    {
      "cell_type": "markdown",
      "metadata": {
        "id": "RDx8cJlddYA6"
      },
      "source": [
        "# Step 3: Run Quantum ESPRESSO using input file"
      ]
    },
    {
      "cell_type": "code",
      "metadata": {
        "id": "WTOSK0QvZ0s8",
        "colab": {
          "base_uri": "https://localhost:8080/"
        },
        "outputId": "0ccfe9fd-2f26-41cc-adbf-ed65c0bc1c28"
      },
      "source": [
        "# run the pw.x executable using si.scf.in to create si.scf.out\n",
        "! /content/qe-lite/bin/pw.x < h20.scf.in > h20.scf.out\n",
        "\n",
        "# print the content of the output file (under Linux)\n",
        "! cat h20.scf.out"
      ],
      "execution_count": 48,
      "outputs": [
        {
          "output_type": "stream",
          "name": "stdout",
          "text": [
            "\n",
            "     Program PWSCF v.7.4 starts on 14Dec2024 at 10:40:10 \n",
            "\n",
            "     This program is part of the open-source Quantum ESPRESSO suite\n",
            "     for quantum simulation of materials; please cite\n",
            "         \"P. Giannozzi et al., J. Phys.:Condens. Matter 21 395502 (2009);\n",
            "         \"P. Giannozzi et al., J. Phys.:Condens. Matter 29 465901 (2017);\n",
            "         \"P. Giannozzi et al., J. Chem. Phys. 152 154105 (2020);\n",
            "          URL http://www.quantum-espresso.org\", \n",
            "     in publications or presentations arising from this work. More details at\n",
            "     http://www.quantum-espresso.org/quote\n",
            "\n",
            "     Serial version\n",
            "     9298 MiB available memory on the printing compute node when the environment starts\n",
            "\n",
            "     Waiting for input...\n",
            "     Reading input from standard input\n",
            "\n",
            "     Current dimensions of program PWSCF are:\n",
            "     Max number of different atomic species (ntypx) = 10\n",
            "     Max number of k-points (npk) =  40000\n",
            "     Max angular momentum in pseudopotentials (lmaxx) =  4\n",
            "     file O.upf: wavefunction(s)  2P renormalized\n",
            "     Message from routine setup:\n",
            "     using ibrav=0 with symmetry is DISCOURAGED, use correct ibrav instead\n",
            "\n",
            "\n",
            "     G-vector sticks info\n",
            "     --------------------\n",
            "     sticks:   dense  smooth     PW     G-vecs:    dense   smooth      PW\n",
            "     Sum        6817    3397    853               423701   149781   18805\n",
            "\n",
            "     Using Slab Decomposition\n",
            "\n",
            "\n",
            "\n",
            "     bravais-lattice index     =            0\n",
            "     lattice parameter (alat)  =      18.8973  a.u.\n",
            "     unit-cell volume          =    6748.3345 (a.u.)^3\n",
            "     number of atoms/cell      =            3\n",
            "     number of atomic types    =            2\n",
            "     number of electrons       =         8.00\n",
            "     number of Kohn-Sham states=            8\n",
            "     kinetic-energy cutoff     =      30.0000  Ry\n",
            "     charge density cutoff     =     240.0000  Ry\n",
            "     scf convergence threshold =      1.0E-08\n",
            "     mixing beta               =       0.7000\n",
            "     number of iterations used =            8  plain     mixing\n",
            "     Exchange-correlation= PBE\n",
            "                           (   1   4   3   4   0   0   0)\n",
            "\n",
            "     celldm(1)=  18.897261  celldm(2)=   0.000000  celldm(3)=   0.000000\n",
            "     celldm(4)=   0.000000  celldm(5)=   0.000000  celldm(6)=   0.000000\n",
            "\n",
            "     crystal axes: (cart. coord. in units of alat)\n",
            "               a(1) = (   1.000000   0.000000   0.000000 )  \n",
            "               a(2) = (   0.000000   1.000000   0.000000 )  \n",
            "               a(3) = (   0.000000   0.000000   1.000000 )  \n",
            "\n",
            "     reciprocal axes: (cart. coord. in units 2 pi/alat)\n",
            "               b(1) = (  1.000000  0.000000  0.000000 )  \n",
            "               b(2) = (  0.000000  1.000000  0.000000 )  \n",
            "               b(3) = (  0.000000  0.000000  1.000000 )  \n",
            "\n",
            "\n",
            "     PseudoPot. # 1 for O  read from file:\n",
            "     /content/qe-lite/pseudopotentials/O.upf\n",
            "     MD5 check sum: 0234752ac141de4415c5fc33072bef88\n",
            "     Pseudo is Projector augmented-wave + core cor, Zval =  6.0\n",
            "     Generated using \"atomic\" code by A. Dal Corso  v.5.0.99 svn rev. 10869\n",
            "     Shape of augmentation charge: BESSEL\n",
            "     Using radial grid of 1095 points,  4 beta functions with: \n",
            "                l(1) =   0\n",
            "                l(2) =   0\n",
            "                l(3) =   1\n",
            "                l(4) =   1\n",
            "     Q(r) pseudized with 0 coefficients \n",
            "\n",
            "\n",
            "     PseudoPot. # 2 for H  read from file:\n",
            "     /content/qe-lite/pseudopotentials/H.upf\n",
            "     MD5 check sum: f52b6d4d1c606e5624b1dc7b2218f220\n",
            "     Pseudo is Ultrasoft, Zval =  1.0\n",
            "     Generated using \"atomic\" code by A. Dal Corso  v.5.1\n",
            "     Using radial grid of  929 points,  2 beta functions with: \n",
            "                l(1) =   0\n",
            "                l(2) =   0\n",
            "     Q(r) pseudized with 0 coefficients \n",
            "\n",
            "\n",
            "     atomic species   valence    mass     pseudopotential\n",
            "     O                 6.00    15.99900     O ( 1.00)\n",
            "     H                 1.00     1.00800     H ( 1.00)\n",
            "\n",
            "      4 Sym. Ops. (no inversion) found\n",
            "\n",
            "\n",
            "\n",
            "   Cartesian axes\n",
            "\n",
            "     site n.     atom                  positions (alat units)\n",
            "         1        O      tau(   1) = (   0.0000000   0.0000000   0.0298155  )\n",
            "         2        H      tau(   2) = (   0.0000000   0.0763239  -0.0298155  )\n",
            "         3        H      tau(   3) = (   0.0000000  -0.0763239  -0.0298155  )\n",
            "\n",
            "     number of k points=     1  Marzari-Vanderbilt smearing, width (Ry)=  0.0010\n",
            "                       cart. coord. in units 2pi/alat\n",
            "        k(    1) = (   0.0000000   0.0000000   0.0000000), wk =   2.0000000\n",
            "\n",
            "     Dense  grid:   423701 G-vectors     FFT dimensions: (  96,  96,  96)\n",
            "\n",
            "     Smooth grid:   149781 G-vectors     FFT dimensions: (  72,  72,  72)\n",
            "\n",
            "     Estimated max dynamical RAM per process >     545.12 MB\n",
            "\n",
            "     Check: negative core charge=   -0.000001\n",
            "\n",
            "     Initial potential from superposition of free atoms\n",
            "\n",
            "     starting charge       8.0000, renormalised to       8.0000\n",
            "\n",
            "     negative rho (up, down):  2.359E-03 0.000E+00\n",
            "     Starting wfcs are    6 randomized atomic wfcs +    2 random wfcs\n",
            "\n",
            "     total cpu time spent up to now is        3.9 secs\n",
            "\n",
            "     Self-consistent Calculation\n",
            "\n",
            "     iteration #  1     ecut=    30.00 Ry     beta= 0.70\n",
            "     Davidson diagonalization with overlap\n",
            "     ethr =  1.00E-02,  avg # of iterations =  7.0\n",
            "\n",
            "     negative rho (up, down):  3.464E-03 0.000E+00\n",
            "\n",
            "     total cpu time spent up to now is        7.0 secs\n",
            "\n",
            "     total energy              =     -43.80322895 Ry\n",
            "     estimated scf accuracy    <       0.40856669 Ry\n",
            "\n",
            "     iteration #  2     ecut=    30.00 Ry     beta= 0.70\n",
            "     Davidson diagonalization with overlap\n",
            "     ethr =  5.11E-03,  avg # of iterations =  2.0\n",
            "\n",
            "     negative rho (up, down):  2.908E-03 0.000E+00\n",
            "\n",
            "     total cpu time spent up to now is        9.0 secs\n",
            "\n",
            "     total energy              =     -43.89585675 Ry\n",
            "     estimated scf accuracy    <       0.37041931 Ry\n",
            "\n",
            "     iteration #  3     ecut=    30.00 Ry     beta= 0.70\n",
            "     Davidson diagonalization with overlap\n",
            "     ethr =  4.63E-03,  avg # of iterations =  2.0\n",
            "\n",
            "     negative rho (up, down):  2.842E-03 0.000E+00\n",
            "\n",
            "     total cpu time spent up to now is       10.9 secs\n",
            "\n",
            "     total energy              =     -43.96993004 Ry\n",
            "     estimated scf accuracy    <       0.00424009 Ry\n",
            "\n",
            "     iteration #  4     ecut=    30.00 Ry     beta= 0.70\n",
            "     Davidson diagonalization with overlap\n",
            "     ethr =  5.30E-05,  avg # of iterations =  6.0\n",
            "\n",
            "     negative rho (up, down):  2.884E-03 0.000E+00\n",
            "\n",
            "     total cpu time spent up to now is       13.1 secs\n",
            "\n",
            "     total energy              =     -43.97070127 Ry\n",
            "     estimated scf accuracy    <       0.00075070 Ry\n",
            "\n",
            "     iteration #  5     ecut=    30.00 Ry     beta= 0.70\n",
            "     Davidson diagonalization with overlap\n",
            "     ethr =  9.38E-06,  avg # of iterations = 10.0\n",
            "\n",
            "     negative rho (up, down):  2.912E-03 0.000E+00\n",
            "\n",
            "     total cpu time spent up to now is       15.1 secs\n",
            "\n",
            "     total energy              =     -43.97066512 Ry\n",
            "     estimated scf accuracy    <       0.00012596 Ry\n",
            "\n",
            "     iteration #  6     ecut=    30.00 Ry     beta= 0.70\n",
            "     Davidson diagonalization with overlap\n",
            "     ethr =  1.57E-06,  avg # of iterations =  4.0\n",
            "\n",
            "     negative rho (up, down):  2.916E-03 0.000E+00\n",
            "\n",
            "     total cpu time spent up to now is       17.2 secs\n",
            "\n",
            "     total energy              =     -43.97069060 Ry\n",
            "     estimated scf accuracy    <       0.00000195 Ry\n",
            "\n",
            "     iteration #  7     ecut=    30.00 Ry     beta= 0.70\n",
            "     Davidson diagonalization with overlap\n",
            "     ethr =  2.44E-08,  avg # of iterations =  2.0\n",
            "\n",
            "     negative rho (up, down):  2.920E-03 0.000E+00\n",
            "\n",
            "     total cpu time spent up to now is       19.9 secs\n",
            "\n",
            "     total energy              =     -43.97069075 Ry\n",
            "     estimated scf accuracy    <       0.00000027 Ry\n",
            "\n",
            "     iteration #  8     ecut=    30.00 Ry     beta= 0.70\n",
            "     Davidson diagonalization with overlap\n",
            "     ethr =  3.43E-09,  avg # of iterations =  1.0\n",
            "\n",
            "     negative rho (up, down):  2.920E-03 0.000E+00\n",
            "\n",
            "     total cpu time spent up to now is       22.0 secs\n",
            "\n",
            "     total energy              =     -43.97069071 Ry\n",
            "     estimated scf accuracy    <       0.00000012 Ry\n",
            "\n",
            "     iteration #  9     ecut=    30.00 Ry     beta= 0.70\n",
            "     Davidson diagonalization with overlap\n",
            "     ethr =  1.45E-09,  avg # of iterations =  2.0\n",
            "\n",
            "     negative rho (up, down):  2.921E-03 0.000E+00\n",
            "\n",
            "     total cpu time spent up to now is       23.9 secs\n",
            "\n",
            "     End of self-consistent calculation\n",
            "\n",
            "          k = 0.0000 0.0000 0.0000 ( 18805 PWs)   bands (ev):\n",
            "\n",
            "   -25.3364 -12.9705  -9.2311  -7.1082  -0.9867   0.3464   0.7209   1.0344\n",
            "\n",
            "     the Fermi energy is    -5.4903 ev\n",
            "\n",
            "!    total energy              =     -43.97069073 Ry\n",
            "     estimated scf accuracy    <          2.8E-10 Ry\n",
            "     smearing contrib. (-TS)   =       0.00000000 Ry\n",
            "     internal energy E=F+TS    =     -43.97069073 Ry\n",
            "\n",
            "     The total energy is F=E-TS. E is the sum of the following terms:\n",
            "     one-electron contribution =     -62.87701411 Ry\n",
            "     hartree contribution      =      33.01865895 Ry\n",
            "     xc contribution           =      -8.82275158 Ry\n",
            "     ewald contribution        =       4.22683663 Ry\n",
            "     one-center paw contrib.   =      -9.51642062 Ry\n",
            "\n",
            "     convergence has been achieved in   9 iterations\n",
            "\n",
            "     Writing all to output data dir /content/water/water.save/ :\n",
            "     XML data file, charge density, pseudopotentials, collected wavefunctions\n",
            "\n",
            "     init_run     :      3.38s CPU      3.82s WALL (       1 calls)\n",
            "     electrons    :     16.36s CPU     19.96s WALL (       1 calls)\n",
            "\n",
            "     Called by init_run:\n",
            "     wfcinit      :      0.60s CPU      0.61s WALL (       1 calls)\n",
            "     potinit      :      1.04s CPU      1.19s WALL (       1 calls)\n",
            "     hinit0       :      1.13s CPU      1.19s WALL (       1 calls)\n",
            "\n",
            "     Called by electrons:\n",
            "     c_bands      :      2.90s CPU      2.96s WALL (       9 calls)\n",
            "     sum_band     :      4.98s CPU      6.49s WALL (       9 calls)\n",
            "     v_of_rho     :      3.92s CPU      4.49s WALL (      10 calls)\n",
            "     newd         :      3.84s CPU      5.53s WALL (      10 calls)\n",
            "     PAW_pot      :      0.52s CPU      0.54s WALL (      10 calls)\n",
            "     mix_rho      :      0.59s CPU      0.62s WALL (       9 calls)\n",
            "\n",
            "     Called by c_bands:\n",
            "     init_us_2    :      0.10s CPU      0.10s WALL (      19 calls)\n",
            "     cegterg      :      2.82s CPU      2.88s WALL (       9 calls)\n",
            "\n",
            "     Called by *egterg:\n",
            "     cdiaghg      :      0.01s CPU      0.01s WALL (      45 calls)\n",
            "     h_psi        :      3.12s CPU      3.18s WALL (      46 calls)\n",
            "     s_psi        :      0.03s CPU      0.04s WALL (      46 calls)\n",
            "     g_psi        :      0.01s CPU      0.01s WALL (      36 calls)\n",
            "\n",
            "     Called by h_psi:\n",
            "     h_psi:calbec :      0.04s CPU      0.04s WALL (      46 calls)\n",
            "     vloc_psi     :      3.03s CPU      3.09s WALL (      46 calls)\n",
            "     add_vuspsi   :      0.04s CPU      0.04s WALL (      46 calls)\n",
            "\n",
            "     General routines\n",
            "     calbec       :      0.05s CPU      0.05s WALL (      55 calls)\n",
            "     fft          :      2.70s CPU      2.74s WALL (     128 calls)\n",
            "     ffts         :      0.62s CPU      0.63s WALL (      19 calls)\n",
            "     fftw         :      2.53s CPU      2.58s WALL (     514 calls)\n",
            "     interpolate  :      0.78s CPU      0.80s WALL (      10 calls)\n",
            "\n",
            "\n",
            "     PWSCF        :     19.88s CPU     23.97s WALL\n",
            "\n",
            "\n",
            "   This run was terminated on:  10:40:34  14Dec2024            \n",
            "\n",
            "=------------------------------------------------------------------------------=\n",
            "   JOB DONE.\n",
            "=------------------------------------------------------------------------------=\n"
          ]
        }
      ]
    },
    {
      "cell_type": "markdown",
      "source": [
        "#Step 4: Extract the total energy of the system"
      ],
      "metadata": {
        "id": "wfUn-ByGvEI8"
      }
    },
    {
      "cell_type": "code",
      "source": [
        "# First method: xtract total energies in rydberg during the self-consistent-field calculation (under Linux)\n",
        "! grep -e \"total energy  \" -e \"estimated\" h20.scf.out #NOTE: grep is a power comand that can seacrh and list the specified term in a file"
      ],
      "metadata": {
        "id": "nAwPVzJe9tdd",
        "colab": {
          "base_uri": "https://localhost:8080/"
        },
        "outputId": "f9f29d96-0597-47b8-faef-77b3453cab2b"
      },
      "execution_count": 49,
      "outputs": [
        {
          "output_type": "stream",
          "name": "stdout",
          "text": [
            "     total energy              =     -43.80322895 Ry\n",
            "     estimated scf accuracy    <       0.40856669 Ry\n",
            "     total energy              =     -43.89585675 Ry\n",
            "     estimated scf accuracy    <       0.37041931 Ry\n",
            "     total energy              =     -43.96993004 Ry\n",
            "     estimated scf accuracy    <       0.00424009 Ry\n",
            "     total energy              =     -43.97070127 Ry\n",
            "     estimated scf accuracy    <       0.00075070 Ry\n",
            "     total energy              =     -43.97066512 Ry\n",
            "     estimated scf accuracy    <       0.00012596 Ry\n",
            "     total energy              =     -43.97069060 Ry\n",
            "     estimated scf accuracy    <       0.00000195 Ry\n",
            "     total energy              =     -43.97069075 Ry\n",
            "     estimated scf accuracy    <       0.00000027 Ry\n",
            "     total energy              =     -43.97069071 Ry\n",
            "     estimated scf accuracy    <       0.00000012 Ry\n",
            "!    total energy              =     -43.97069073 Ry\n",
            "     estimated scf accuracy    <          2.8E-10 Ry\n"
          ]
        }
      ]
    },
    {
      "cell_type": "code",
      "source": [
        "# define physical constants for unit conversion\n",
        "from scipy.constants import physical_constants\n",
        "ha_in_ev = physical_constants[\"Hartree energy in eV\"][0]\n",
        "ry_in_ev = ha_in_ev / 2.\n",
        "\n",
        "# second method: extract total energy at the end of the self-consistent calculation (using ASE)\n",
        "output = ase.io.read(\"/content/water/h20.scf.out\")\n",
        "total_energy = output.get_total_energy()\n",
        "print(\"Energy = %.8f eV \" % total_energy)\n",
        "print(\"Energy = %.8f Ry \" % ( total_energy / ry_in_ev ) )"
      ],
      "metadata": {
        "id": "mH7bL06aJoQU",
        "colab": {
          "base_uri": "https://localhost:8080/"
        },
        "outputId": "95e57e48-df95-4d20-c6da-32cfbfc86b46"
      },
      "execution_count": 50,
      "outputs": [
        {
          "output_type": "stream",
          "name": "stdout",
          "text": [
            "Energy = -598.25167214 eV \n",
            "Energy = -43.97068688 Ry \n"
          ]
        }
      ]
    }
  ]
}