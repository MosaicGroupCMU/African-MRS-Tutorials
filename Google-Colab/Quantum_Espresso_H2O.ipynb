{
  "nbformat": 4,
  "nbformat_minor": 0,
  "metadata": {
    "colab": {
      "provenance": [],
      "gpuType": "T4",
      "include_colab_link": true
    },
    "kernelspec": {
      "name": "python3",
      "display_name": "Python 3"
    }
  },
  "cells": [
    {
      "cell_type": "markdown",
      "metadata": {
        "id": "view-in-github",
        "colab_type": "text"
      },
      "source": [
        "<a href=\"https://colab.research.google.com/github/MosaicGroupCMU/African-MRS-Tutorials/blob/main/Google-Colab/Quantum_Espresso_H2O.ipynb\" target=\"_parent\"><img src=\"https://colab.research.google.com/assets/colab-badge.svg\" alt=\"Open In Colab\"/></a>"
      ]
    },
    {
      "cell_type": "markdown",
      "source": [
        "# Introduction to geometry optimization of molecular water using Quantum ESPRESSO\n",
        "\n",
        "Contributors: [Seda Oturak](https://github.com/sedaoturak), [Ismaila Dabo](https://scholar.google.com/citations?user=rN299m0AAAAJ&hl=en), [Jessica Wen](https://github.com/JessicaWen-PhD), [Cierra Chandler](https://github.com/Cierra-Chandler), [Henry Eya](https://github.com/Henrynweya)\n",
        "\n"
      ],
      "metadata": {
        "id": "YRXrx6RMqg0r"
      }
    },
    {
      "cell_type": "markdown",
      "metadata": {
        "id": "IJD9ZrhUbG8g"
      },
      "source": [
        "# Install libraries, environment, and Quantum ESPRESSO"
      ]
    },
    {
      "cell_type": "markdown",
      "source": [
        "This part installs libraries for numerical calculations and plotting."
      ],
      "metadata": {
        "id": "vqsBj38YseB6"
      }
    },
    {
      "cell_type": "code",
      "source": [
        "# load plotting libraries\n",
        "import matplotlib.pyplot as plt\n",
        "\n",
        "# load numerical libraries\n",
        "import numpy as np"
      ],
      "metadata": {
        "id": "ujaO0qfTsRsV"
      },
      "execution_count": null,
      "outputs": []
    },
    {
      "cell_type": "markdown",
      "source": [
        "Quantum ESPRESSO is a plane wave code, which uses Fourier transforms to solve equations in plane wave space. This part installs libraries for fast Fourier transforms (FFTs)."
      ],
      "metadata": {
        "id": "HHMMhkfL__p1"
      }
    },
    {
      "cell_type": "code",
      "metadata": {
        "id": "7imWdEV1V-Fg"
      },
      "source": [
        "# eliminate text output during installation\n",
        "%%capture\n",
        "\n",
        "# install mathematical libraries to peform fast Fourier transforms\n",
        "# (the exclamation mark means that the command is run under Linux)\n",
        "! apt-get install -y libfftw3-3 libfftw3-dev libfftw3-doc"
      ],
      "execution_count": null,
      "outputs": []
    },
    {
      "cell_type": "markdown",
      "source": [
        "The Atomic Simulation Environment (ASE) is a set of tools for running, visualizing, and analyzing simulations. This part installs ASE."
      ],
      "metadata": {
        "id": "E5v-b5UXKltX"
      }
    },
    {
      "cell_type": "code",
      "source": [
        "# eliminate text output during installation\n",
        "%%capture\n",
        "\n",
        "# install the Atomic simulation environment\n",
        "# ! apt install ase\n",
        "! pip install git+https://gitlab.com/ase/ase"
      ],
      "metadata": {
        "id": "STM7dA3yKJb2"
      },
      "execution_count": null,
      "outputs": []
    },
    {
      "cell_type": "markdown",
      "source": [
        "Compiling Quantum ESPRESSO from scratch would take a long time. This part uploads pre-compiled executable files (`.x` extension) and additional files containing the pseudopotentials."
      ],
      "metadata": {
        "id": "3oJbUd4y2Sww"
      }
    },
    {
      "cell_type": "code",
      "source": [
        "# eliminate text output during installation\n",
        "%%capture\n",
        "\n",
        "# navigate to main directory named '/content/'\n",
        "%cd /content/\n",
        "\n",
        "# download the pre-compiled files in compressed format (under Linux)\n",
        "! wget 'https://docs.google.com/uc?export=download&id=1kw_CJMjP6ggDZXDNp5phAqCPpoe2WXCA' -O qe-lite.tgz\n",
        "\n",
        "# unpack the compressed files (under Linux)\n",
        "! tar -xvzf qe-lite.tgz\n",
        "\n",
        "# clean up some files\n",
        "! rm -rf sample_data qe-lite.tgz"
      ],
      "metadata": {
        "id": "vLD7ypmk2SVm"
      },
      "execution_count": null,
      "outputs": []
    },
    {
      "cell_type": "markdown",
      "source": [
        "# Prepare Quantum ESPRESSO input file"
      ],
      "metadata": {
        "id": "4yG2DhuXKDeU"
      }
    },
    {
      "cell_type": "markdown",
      "source": [
        "The calculation is for a water molecule. The definition of the input parameters of the `pw.x` executable can be found at `www.quantum-espresso.org/Doc/INPUT_PW.html`."
      ],
      "metadata": {
        "id": "fmd4tSeW9rxK"
      }
    },
    {
      "cell_type": "code",
      "source": [
        "# create calculation folder and navigate into it\n",
        "%mkdir -p /content/water\n",
        "%cd /content/water/\n",
        "\n",
        "# create input and write it into the file h20.scf.in\n",
        "qe_input = \"\"\"\n",
        "&control\n",
        "  prefix='water',\n",
        "  pseudo_dir = '/content/qe-lite/pseudopotentials',\n",
        "  outdir='/content/water'\n",
        "/\n",
        "&system\n",
        "  ibrav = 0,\n",
        "  nat = 3,\n",
        "  ntyp = 2,\n",
        "  ecutwfc = 30.0,\n",
        "  ecutrho = 240.0,\n",
        "  occupations  = 'smearing'\n",
        "  degauss      = 0.001\n",
        "  smearing     = 'marzari-vanderbilt'\n",
        "/\n",
        "&electrons\n",
        "  conv_thr = 1e-8,\n",
        "/\n",
        "ATOMIC_SPECIES\n",
        "O 15.999 O.upf\n",
        "H 1.008 H.upf\n",
        "\n",
        "K_POINTS automatic\n",
        "1 1 1 0 0 0\n",
        "\n",
        "CELL_PARAMETERS angstrom\n",
        "10.00000000000000 0.00000000000000 0.00000000000000\n",
        "0.00000000000000 10.00000000000000 0.00000000000000\n",
        "0.00000000000000 0.00000000000000 10.00000000000000\n",
        "\n",
        "ATOMIC_POSITIONS angstrom\n",
        "O 0.0000000000 0.0000000000 0.2981545000\n",
        "H 0.0000000000 0.7632390000 -0.2981545000\n",
        "H 0.0000000000 -0.7632390000 -0.2981545000\n",
        "\n",
        "\"\"\"\n",
        "\n",
        "with open(\"h20.scf.in\", \"w\") as f:\n",
        "    f.write(qe_input)\n",
        "\n",
        "# print the content of the input file (under Linux)\n",
        "! cat h20.scf.in"
      ],
      "metadata": {
        "id": "tTUnqAgSKF0i"
      },
      "execution_count": null,
      "outputs": []
    },
    {
      "cell_type": "markdown",
      "source": [
        "Use ASE tools to extract information from Quantum ESPRESSO input and visualize the crystal."
      ],
      "metadata": {
        "id": "ruEqTitAWQ-j"
      }
    },
    {
      "cell_type": "code",
      "source": [
        "import ase.io.espresso\n",
        "from ase import Atoms\n",
        "from ase.visualize import view\n",
        "from ase.build import make_supercell\n",
        "from ase.build import bulk\n",
        "\n",
        "# extract unit cell information from input file using ASE\n",
        "input_file = ase.io.espresso.read_espresso_in('h20.scf.in')\n",
        "water = Atoms(input_file)\n",
        "\n",
        "# create a supercell (3 × 3 × 3) using ASE\n",
        "multiplier = np.identity(3) * 3\n",
        "water_supercell = make_supercell(water,multiplier)\n",
        "\n",
        "# visualize the supercell\n",
        "view(water_supercell, viewer='x3d')"
      ],
      "metadata": {
        "id": "oaciRbpOSxm3"
      },
      "execution_count": null,
      "outputs": []
    },
    {
      "cell_type": "markdown",
      "metadata": {
        "id": "RDx8cJlddYA6"
      },
      "source": [
        "# Run Quantum ESPRESSO using input file"
      ]
    },
    {
      "cell_type": "code",
      "metadata": {
        "id": "WTOSK0QvZ0s8"
      },
      "source": [
        "# run the pw.x executable using si.scf.in to create si.scf.out\n",
        "! /content/qe-lite/bin/pw.x < h20.scf.in > h20.scf.out\n",
        "\n",
        "# print the content of the output file (under Linux)\n",
        "! cat h20.scf.out"
      ],
      "execution_count": null,
      "outputs": []
    },
    {
      "cell_type": "code",
      "source": [
        "# first method: extract total energies in rydberg during the self-consistent-field calculation (under Linux)\n",
        "! grep -e \"total energy  \" -e \"estimated\" si.scf.out"
      ],
      "metadata": {
        "id": "nAwPVzJe9tdd"
      },
      "execution_count": null,
      "outputs": []
    },
    {
      "cell_type": "code",
      "source": [
        "# define physical constants for unit conversion\n",
        "from scipy.constants import physical_constants\n",
        "ha_in_ev = physical_constants[\"Hartree energy in eV\"][0]\n",
        "ry_in_ev = ha_in_ev / 2.\n",
        "\n",
        "# second method: extract total energy at the end of the self-consistent calculation (using ASE)\n",
        "output = ase.io.read(\"/content/silicon/si.scf.out\")\n",
        "total_energy = output.get_total_energy()\n",
        "print(\"Energy = %.8f Ry \" % total_energy)\n",
        "print(\"Energy = %.8f eV \" % ( total_energy / ry_in_ev ) )"
      ],
      "metadata": {
        "id": "mH7bL06aJoQU",
        "colab": {
          "base_uri": "https://localhost:8080/"
        },
        "outputId": "542690f4-a1af-4d5d-b1d3-14aea16fd503"
      },
      "execution_count": null,
      "outputs": [
        {
          "output_type": "stream",
          "name": "stdout",
          "text": [
            "Energy = -310.73276472 Ry \n",
            "Energy = -22.83843696 eV \n"
          ]
        }
      ]
    },
    {
      "cell_type": "markdown",
      "source": [
        "# Convergence test with respect to the cutoff energy\n"
      ],
      "metadata": {
        "id": "manDJrzjQWeT"
      }
    },
    {
      "cell_type": "code",
      "source": [
        "# create a list for cutoff energies to be tested\n",
        "cutoff_energies = np.arange(12,44,4)\n",
        "\n",
        "# find the \"cutoff energy\" line in the input file\n",
        "wfc_index = qe_input.find('ecutwfc = ') + 10\n",
        "rho_index = qe_input.find('ecutrho = ') + 10\n",
        "\n",
        "total_energies = [[],[],[]]\n",
        "for (n, cutoff_ratio) in enumerate([4,8,10]):\n",
        "  for cutoff in cutoff_energies:\n",
        "    # update the input file with the new cutoff energy\n",
        "    new_input_file = ( qe_input[:wfc_index] + str(cutoff) + qe_input[wfc_index+4:rho_index]\n",
        "                     + str(cutoff * cutoff_ratio) + qe_input[rho_index+5:] )\n",
        "\n",
        "    # overwrite the input file\n",
        "    with open(\"si.scf.in\", \"w\") as f:\n",
        "      f.write(new_input_file)\n",
        "\n",
        "    ! cat si.scf.in\n",
        "    ! /content/qe-lite/bin/pw.x  < si.scf.in > si.scf.out # run the DFT input file\n",
        "\n",
        "    output = ase.io.read(\"/content/silicon/si.scf.out\") # read the output file\n",
        "\n",
        "    total_energies[n].append(output.get_total_energy()) # record the calculated total energy"
      ],
      "metadata": {
        "id": "CnIKktP3QpeR"
      },
      "execution_count": null,
      "outputs": []
    },
    {
      "cell_type": "code",
      "source": [
        "# plot convergence graph\n",
        "fig,ax = plt.subplots()\n",
        "ax.plot(cutoff_energies, np.transpose(total_energies),'o-')\n",
        "ax.legend(['4','8','10'])\n",
        "ax.set_xlabel('Cutoff Energies (eV)')\n",
        "ax.set_ylabel('Total Energy (eV/atom)')\n",
        "# magnify the y-axis\n",
        "# plt.ylim([-310.74,-310.72])\n",
        "plt.show()"
      ],
      "metadata": {
        "id": "djzmRSCwRL3T"
      },
      "execution_count": null,
      "outputs": []
    },
    {
      "cell_type": "markdown",
      "source": [
        "# Convergence test with respect to the k-point sampling"
      ],
      "metadata": {
        "id": "rg6-Yu_Gc38U"
      }
    },
    {
      "cell_type": "code",
      "source": [
        "# initialize input file with appropriate cutoffs\n",
        "qe_input = \"\"\"\n",
        "&control\n",
        "  prefix='silicon',\n",
        "  pseudo_dir = '/content/qe-lite/pseudopotentials',\n",
        "  outdir='/content/silicon/'\n",
        "/\n",
        "&system\n",
        "  ibrav = 0,\n",
        "  celldm(1) = 10.2,\n",
        "  nat = 2,\n",
        "  ntyp = 1,\n",
        "  ecutwfc = 30.0,\n",
        "  ecutrho = 240.0,\n",
        "/\n",
        "&electrons\n",
        "  conv_thr = 1e-8,\n",
        "/\n",
        "ATOMIC_SPECIES\n",
        " Si  28.086  Si.UPF\n",
        "ATOMIC_POSITIONS alat\n",
        " Si 0.00 0.00 0.00\n",
        " Si 0.25 0.25 0.25\n",
        "K_POINTS automatic\n",
        "   4 4 4 1 1 1\n",
        "CELL_PARAMETERS\n",
        "  0.0 0.5 0.5\n",
        "  0.5 0.0 0.5\n",
        "  0.5 0.5 0.0\n",
        "\"\"\"\n",
        "\n",
        "with open(\"si.scf.in\", \"w\") as f:\n",
        "    f.write(qe_input)\n",
        "\n",
        "# print the content of the input file (under Linux)\n",
        "! cat si.scf.in\n",
        "\n",
        "# create a list for k points to be tested\n",
        "kpoints = np.arange(1,9,1) # enter kpoints limits\n",
        "# find the \"lattice constant\" line in the input file\n",
        "lat_cons_index = qe_input.find('K_POINTS') + 20\n",
        "\n",
        "total_energies = []\n",
        "\n",
        "for k in kpoints:\n",
        "  # update the input file with the new lattice constant\n",
        "  new_input_file = qe_input[:lat_cons_index] + str(k).ljust(2) + str(k).ljust(2) + str(k).ljust(2) + qe_input[lat_cons_index+8:]\n",
        "\n",
        "  # overwrite the input file\n",
        "  with open(\"si.scf.in\", \"w\") as f:\n",
        "    f.write(new_input_file)\n",
        "\n",
        "  ! cat si.scf.in\n",
        "  ! /content/qe-lite/bin/pw.x  -in si.scf.in > si.scf.out # run the DFT input file\n",
        "\n",
        "  output = ase.io.read(\"/content/silicon/si.scf.out\") # read the output file\n",
        "\n",
        "  total_energies.append(output.get_total_energy()) # record the calculated total energy"
      ],
      "metadata": {
        "id": "hXmkze0SdQt2"
      },
      "execution_count": null,
      "outputs": []
    },
    {
      "cell_type": "code",
      "source": [
        "# plot convergence graph\n",
        "fig,ax = plt.subplots()\n",
        "ax.plot(kpoints, total_energies,'o-')\n",
        "ax.set_xlabel('Sampling')\n",
        "ax.set_ylabel('Total Energy (eV)')\n",
        "# magnify the y-axis\n",
        "# plt.ylim([-310.74,-310.73])\n",
        "plt.show()"
      ],
      "metadata": {
        "id": "MGzJCNJyfKeT"
      },
      "execution_count": null,
      "outputs": []
    },
    {
      "cell_type": "markdown",
      "source": [
        "# Lattice parameter"
      ],
      "metadata": {
        "id": "RyEyrTmnSHdh"
      }
    },
    {
      "cell_type": "code",
      "source": [
        "# initialize input file with appropriate cutoffs and k-point sampling\n",
        "qe_input = \"\"\"\n",
        "&control\n",
        "  prefix='silicon',\n",
        "  pseudo_dir = '/content/qe-lite/pseudopotentials',\n",
        "  outdir='/content/silicon/'\n",
        "/\n",
        "&system\n",
        "  ibrav = 0,\n",
        "  celldm(1) = 10.2,\n",
        "  nat = 2,\n",
        "  ntyp = 1,\n",
        "  ecutwfc = 30.0,\n",
        "  ecutrho = 240.0,\n",
        "/\n",
        "&electrons\n",
        "  conv_thr = 1e-8,\n",
        "/\n",
        "ATOMIC_SPECIES\n",
        " Si  28.086  Si.UPF\n",
        "ATOMIC_POSITIONS alat\n",
        " Si 0.00 0.00 0.00\n",
        " Si 0.25 0.25 0.25\n",
        "K_POINTS automatic\n",
        "   5 5 5 1 1 1\n",
        "CELL_PARAMETERS\n",
        "  0.0 0.5 0.5\n",
        "  0.5 0.0 0.5\n",
        "  0.5 0.5 0.0\n",
        "\"\"\"\n",
        "\n",
        "with open(\"si.scf.in\", \"w\") as f:\n",
        "    f.write(qe_input)\n",
        "\n",
        "# print the content of the input file (under Linux)\n",
        "! cat si.scf.in\n",
        "\n",
        "# create a list for lattice constants to be tested\n",
        "lattice_constants = np.arange(9.5,11.1,0.1)\n",
        "\n",
        "# find the \"lattice constant\" line in the input file\n",
        "lat_cons_index = qe_input.find('celldm(1) =') + 11\n",
        "\n",
        "total_energies = []\n",
        "for constant in lattice_constants:\n",
        "  # update the input file with the new lattice constant\n",
        "  new_input_file = qe_input[:lat_cons_index] + \" %.2f\" % constant + qe_input[lat_cons_index+5:]\n",
        "\n",
        "  # overwrite the input file\n",
        "  with open(\"si.scf.in\", \"w\") as f:\n",
        "    f.write(new_input_file)\n",
        "\n",
        "  ! cat si.scf.in\n",
        "  ! /content/qe-lite/bin/pw.x  -in si.scf.in > si.scf.out # run the DFT input file\n",
        "\n",
        "  output = ase.io.read(\"/content/silicon/si.scf.out\") # read the output file\n",
        "\n",
        "  total_energies.append(output.get_total_energy()) # record the calculated total energy"
      ],
      "metadata": {
        "id": "16nINjxzSLic"
      },
      "execution_count": null,
      "outputs": []
    },
    {
      "cell_type": "code",
      "source": [
        "# plot potential energy curve\n",
        "fig,ax = plt.subplots()\n",
        "ax.plot(lattice_constants, total_energies,'o-')\n",
        "ax.set_xlabel('Lattice Constant (bohr)')\n",
        "ax.set_ylabel('Total Energy (eV)')\n",
        "plt.show()"
      ],
      "metadata": {
        "id": "LUtiUgmiTMe2"
      },
      "execution_count": null,
      "outputs": []
    }
  ]
}