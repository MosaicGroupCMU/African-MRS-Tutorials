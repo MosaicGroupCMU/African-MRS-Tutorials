{
 "cells": [
  {
   "cell_type": "markdown",
   "metadata": {},
   "source": [
    "<a href=\"https://colab.research.google.com/github/MosaicGroupCMU/African-MRS-Tutorials/blob/main/Google-Colab/Answers/7_QE_Vibration_in_Solids.ipynb\" target=\"_parent\"><img src=\"https://colab.research.google.com/assets/colab-badge.svg\" alt=\"Open In Colab\"/></a>"
   ]
  },
  {
   "cell_type": "markdown",
   "metadata": {},
   "source": [
    "# Vibrational modes of extended systems"
   ]
  },
  {
   "cell_type": "code",
   "execution_count": null,
   "metadata": {},
   "outputs": [],
   "source": [
    "! apt install quantum-espresso\n",
    "! pip install ase\n",
    "! cd /content/  \n",
    "! gdown 'https://drive.google.com/uc?export=download&id=13l-Kiyg-F6aYb5lF8M3RsE1hSnLRdGna' -O qe-lite.tgz\n",
    "! tar -xvzf qe-lite.tgz\n",
    "! rm -rf sample_data qe-lite.tgz"
   ]
  },
  {
   "cell_type": "code",
   "execution_count": 1,
   "metadata": {},
   "outputs": [],
   "source": [
    "import os\n",
    "import numpy as np\n",
    "from pathlib import Path\n",
    "import matplotlib.pyplot as plt\n",
    "from ase.io import read\n",
    "from ase.calculators.espresso import EspressoProfile, Espresso\n",
    "\n",
    "pseudo_dir = Path('/content/qe-lite/pseudopotentials/')\n",
    "qepath     = Path('')\n",
    "pwx        = Path(qepath, 'pw.x')\n",
    "phx        = Path(qepath, 'ph.x')\n",
    "dynmatx    = Path(qepath, 'dynmat.x')\n",
    "matdynx    = Path(qepath, 'matdyn.x')\n",
    "q2rx       = Path(qepath, 'q2r.x')\n",
    "plotbandx  = Path(qepath, 'plotband.x')\n",
    "\n",
    "profile = EspressoProfile(\n",
    "    command=f'{pwx} -in PREFIX.pwi > PREFIX.pwo', \n",
    "    pseudo_dir=pseudo_dir,\n",
    ")"
   ]
  },
  {
   "cell_type": "markdown",
   "metadata": {},
   "source": [
    "## Silicon: vibration in solids (phonons)"
   ]
  },
  {
   "cell_type": "markdown",
   "metadata": {},
   "source": [
    "### Step 1: define the structure"
   ]
  },
  {
   "cell_type": "code",
   "execution_count": 2,
   "metadata": {},
   "outputs": [],
   "source": [
    "from ase.build import bulk\n",
    "\n",
    "si = bulk('Si')"
   ]
  },
  {
   "cell_type": "markdown",
   "metadata": {},
   "source": [
    "### Step 2: relax atomic positions and lattice vectors"
   ]
  },
  {
   "cell_type": "code",
   "execution_count": 3,
   "metadata": {},
   "outputs": [
    {
     "ename": "CalledProcessError",
     "evalue": "Command '['pw.x', '-in', 'PREFIX.pwi', '>', 'PREFIX.pwo', '-in', 'espresso.pwi']' returned non-zero exit status 1.",
     "output_type": "error",
     "traceback": [
      "\u001b[0;31m---------------------------------------------------------------------------\u001b[0m",
      "\u001b[0;31mCalledProcessError\u001b[0m                        Traceback (most recent call last)",
      "Cell \u001b[0;32mIn[3], line 29\u001b[0m\n\u001b[1;32m     26\u001b[0m \u001b[38;5;66;03m# Attach the calculator to the H2O molecule\u001b[39;00m\n\u001b[1;32m     27\u001b[0m si\u001b[38;5;241m.\u001b[39mcalc \u001b[38;5;241m=\u001b[39m calc\n\u001b[0;32m---> 29\u001b[0m \u001b[43msi\u001b[49m\u001b[38;5;241;43m.\u001b[39;49m\u001b[43mget_potential_energy\u001b[49m\u001b[43m(\u001b[49m\u001b[43m)\u001b[49m\n\u001b[1;32m     30\u001b[0m si_relaxed \u001b[38;5;241m=\u001b[39m read(\u001b[38;5;124m'\u001b[39m\u001b[38;5;124mespresso.pwo\u001b[39m\u001b[38;5;124m'\u001b[39m)\n\u001b[1;32m     32\u001b[0m get_ipython()\u001b[38;5;241m.\u001b[39msystem(\u001b[38;5;124m'\u001b[39m\u001b[38;5;124m cat espresso.pwo\u001b[39m\u001b[38;5;124m'\u001b[39m)\n",
      "File \u001b[0;32m~/opt/anaconda3/envs/aiida/lib/python3.9/site-packages/ase/atoms.py:755\u001b[0m, in \u001b[0;36mAtoms.get_potential_energy\u001b[0;34m(self, force_consistent, apply_constraint)\u001b[0m\n\u001b[1;32m    752\u001b[0m     energy \u001b[38;5;241m=\u001b[39m \u001b[38;5;28mself\u001b[39m\u001b[38;5;241m.\u001b[39m_calc\u001b[38;5;241m.\u001b[39mget_potential_energy(\n\u001b[1;32m    753\u001b[0m         \u001b[38;5;28mself\u001b[39m, force_consistent\u001b[38;5;241m=\u001b[39mforce_consistent)\n\u001b[1;32m    754\u001b[0m \u001b[38;5;28;01melse\u001b[39;00m:\n\u001b[0;32m--> 755\u001b[0m     energy \u001b[38;5;241m=\u001b[39m \u001b[38;5;28;43mself\u001b[39;49m\u001b[38;5;241;43m.\u001b[39;49m\u001b[43m_calc\u001b[49m\u001b[38;5;241;43m.\u001b[39;49m\u001b[43mget_potential_energy\u001b[49m\u001b[43m(\u001b[49m\u001b[38;5;28;43mself\u001b[39;49m\u001b[43m)\u001b[49m\n\u001b[1;32m    756\u001b[0m \u001b[38;5;28;01mif\u001b[39;00m apply_constraint:\n\u001b[1;32m    757\u001b[0m     \u001b[38;5;28;01mfor\u001b[39;00m constraint \u001b[38;5;129;01min\u001b[39;00m \u001b[38;5;28mself\u001b[39m\u001b[38;5;241m.\u001b[39mconstraints:\n",
      "File \u001b[0;32m~/opt/anaconda3/envs/aiida/lib/python3.9/site-packages/ase/calculators/abc.py:24\u001b[0m, in \u001b[0;36mGetPropertiesMixin.get_potential_energy\u001b[0;34m(self, atoms, force_consistent)\u001b[0m\n\u001b[1;32m     22\u001b[0m \u001b[38;5;28;01melse\u001b[39;00m:\n\u001b[1;32m     23\u001b[0m     name \u001b[38;5;241m=\u001b[39m \u001b[38;5;124m'\u001b[39m\u001b[38;5;124menergy\u001b[39m\u001b[38;5;124m'\u001b[39m\n\u001b[0;32m---> 24\u001b[0m \u001b[38;5;28;01mreturn\u001b[39;00m \u001b[38;5;28;43mself\u001b[39;49m\u001b[38;5;241;43m.\u001b[39;49m\u001b[43mget_property\u001b[49m\u001b[43m(\u001b[49m\u001b[43mname\u001b[49m\u001b[43m,\u001b[49m\u001b[43m \u001b[49m\u001b[43matoms\u001b[49m\u001b[43m)\u001b[49m\n",
      "File \u001b[0;32m~/opt/anaconda3/envs/aiida/lib/python3.9/site-packages/ase/calculators/calculator.py:538\u001b[0m, in \u001b[0;36mBaseCalculator.get_property\u001b[0;34m(self, name, atoms, allow_calculation)\u001b[0m\n\u001b[1;32m    535\u001b[0m     \u001b[38;5;28;01mif\u001b[39;00m \u001b[38;5;28mself\u001b[39m\u001b[38;5;241m.\u001b[39muse_cache:\n\u001b[1;32m    536\u001b[0m         \u001b[38;5;28mself\u001b[39m\u001b[38;5;241m.\u001b[39matoms \u001b[38;5;241m=\u001b[39m atoms\u001b[38;5;241m.\u001b[39mcopy()\n\u001b[0;32m--> 538\u001b[0m     \u001b[38;5;28;43mself\u001b[39;49m\u001b[38;5;241;43m.\u001b[39;49m\u001b[43mcalculate\u001b[49m\u001b[43m(\u001b[49m\u001b[43matoms\u001b[49m\u001b[43m,\u001b[49m\u001b[43m \u001b[49m\u001b[43m[\u001b[49m\u001b[43mname\u001b[49m\u001b[43m]\u001b[49m\u001b[43m,\u001b[49m\u001b[43m \u001b[49m\u001b[43msystem_changes\u001b[49m\u001b[43m)\u001b[49m\n\u001b[1;32m    540\u001b[0m \u001b[38;5;28;01mif\u001b[39;00m name \u001b[38;5;129;01mnot\u001b[39;00m \u001b[38;5;129;01min\u001b[39;00m \u001b[38;5;28mself\u001b[39m\u001b[38;5;241m.\u001b[39mresults:\n\u001b[1;32m    541\u001b[0m     \u001b[38;5;66;03m# For some reason the calculator was not able to do what we want,\u001b[39;00m\n\u001b[1;32m    542\u001b[0m     \u001b[38;5;66;03m# and that is OK.\u001b[39;00m\n\u001b[1;32m    543\u001b[0m     \u001b[38;5;28;01mraise\u001b[39;00m PropertyNotImplementedError(\n\u001b[1;32m    544\u001b[0m         \u001b[38;5;124m'\u001b[39m\u001b[38;5;132;01m{}\u001b[39;00m\u001b[38;5;124m not present in this \u001b[39m\u001b[38;5;124m'\u001b[39m \u001b[38;5;124m'\u001b[39m\u001b[38;5;124mcalculation\u001b[39m\u001b[38;5;124m'\u001b[39m\u001b[38;5;241m.\u001b[39mformat(name)\n\u001b[1;32m    545\u001b[0m     )\n",
      "File \u001b[0;32m~/opt/anaconda3/envs/aiida/lib/python3.9/site-packages/ase/calculators/genericfileio.py:322\u001b[0m, in \u001b[0;36mGenericFileIOCalculator.calculate\u001b[0;34m(self, atoms, properties, system_changes)\u001b[0m\n\u001b[1;32m    320\u001b[0m \u001b[38;5;28;01mdef\u001b[39;00m \u001b[38;5;21mcalculate\u001b[39m(\u001b[38;5;28mself\u001b[39m, atoms, properties, system_changes):\n\u001b[1;32m    321\u001b[0m     \u001b[38;5;28mself\u001b[39m\u001b[38;5;241m.\u001b[39mwrite_inputfiles(atoms, properties)\n\u001b[0;32m--> 322\u001b[0m     \u001b[38;5;28;43mself\u001b[39;49m\u001b[38;5;241;43m.\u001b[39;49m\u001b[43mtemplate\u001b[49m\u001b[38;5;241;43m.\u001b[39;49m\u001b[43mexecute\u001b[49m\u001b[43m(\u001b[49m\u001b[38;5;28;43mself\u001b[39;49m\u001b[38;5;241;43m.\u001b[39;49m\u001b[43mdirectory\u001b[49m\u001b[43m,\u001b[49m\u001b[43m \u001b[49m\u001b[38;5;28;43mself\u001b[39;49m\u001b[38;5;241;43m.\u001b[39;49m\u001b[43mprofile\u001b[49m\u001b[43m)\u001b[49m\n\u001b[1;32m    323\u001b[0m     \u001b[38;5;28mself\u001b[39m\u001b[38;5;241m.\u001b[39mresults \u001b[38;5;241m=\u001b[39m \u001b[38;5;28mself\u001b[39m\u001b[38;5;241m.\u001b[39mtemplate\u001b[38;5;241m.\u001b[39mread_results(\u001b[38;5;28mself\u001b[39m\u001b[38;5;241m.\u001b[39mdirectory)\n",
      "File \u001b[0;32m~/opt/anaconda3/envs/aiida/lib/python3.9/site-packages/ase/calculators/espresso.py:84\u001b[0m, in \u001b[0;36mEspressoTemplate.execute\u001b[0;34m(self, directory, profile)\u001b[0m\n\u001b[1;32m     83\u001b[0m \u001b[38;5;28;01mdef\u001b[39;00m \u001b[38;5;21mexecute\u001b[39m(\u001b[38;5;28mself\u001b[39m, directory, profile):\n\u001b[0;32m---> 84\u001b[0m     \u001b[43mprofile\u001b[49m\u001b[38;5;241;43m.\u001b[39;49m\u001b[43mrun\u001b[49m\u001b[43m(\u001b[49m\u001b[43mdirectory\u001b[49m\u001b[43m,\u001b[49m\u001b[43m \u001b[49m\u001b[38;5;28;43mself\u001b[39;49m\u001b[38;5;241;43m.\u001b[39;49m\u001b[43minputname\u001b[49m\u001b[43m,\u001b[49m\u001b[43m \u001b[49m\u001b[38;5;28;43mself\u001b[39;49m\u001b[38;5;241;43m.\u001b[39;49m\u001b[43moutputname\u001b[49m\u001b[43m,\u001b[49m\n\u001b[1;32m     85\u001b[0m \u001b[43m                \u001b[49m\u001b[43merrorfile\u001b[49m\u001b[38;5;241;43m=\u001b[39;49m\u001b[38;5;28;43mself\u001b[39;49m\u001b[38;5;241;43m.\u001b[39;49m\u001b[43merrorname\u001b[49m\u001b[43m)\u001b[49m\n",
      "File \u001b[0;32m~/opt/anaconda3/envs/aiida/lib/python3.9/site-packages/ase/calculators/genericfileio.py:93\u001b[0m, in \u001b[0;36mBaseProfile.run\u001b[0;34m(self, directory, inputfile, outputfile, errorfile, append)\u001b[0m\n\u001b[1;32m     91\u001b[0m \u001b[38;5;28;01melse\u001b[39;00m:\n\u001b[1;32m     92\u001b[0m     fd_err \u001b[38;5;241m=\u001b[39m \u001b[38;5;28;01mNone\u001b[39;00m\n\u001b[0;32m---> 93\u001b[0m \u001b[43mcheck_call\u001b[49m\u001b[43m(\u001b[49m\n\u001b[1;32m     94\u001b[0m \u001b[43m    \u001b[49m\u001b[43margv_command\u001b[49m\u001b[43m,\u001b[49m\n\u001b[1;32m     95\u001b[0m \u001b[43m    \u001b[49m\u001b[43mcwd\u001b[49m\u001b[38;5;241;43m=\u001b[39;49m\u001b[43mdirectory\u001b[49m\u001b[43m,\u001b[49m\n\u001b[1;32m     96\u001b[0m \u001b[43m    \u001b[49m\u001b[43mstdout\u001b[49m\u001b[38;5;241;43m=\u001b[39;49m\u001b[43mfd_out\u001b[49m\u001b[43m,\u001b[49m\n\u001b[1;32m     97\u001b[0m \u001b[43m    \u001b[49m\u001b[43mstderr\u001b[49m\u001b[38;5;241;43m=\u001b[39;49m\u001b[43mfd_err\u001b[49m\u001b[43m,\u001b[49m\n\u001b[1;32m     98\u001b[0m \u001b[43m    \u001b[49m\u001b[43menv\u001b[49m\u001b[38;5;241;43m=\u001b[39;49m\u001b[43mos\u001b[49m\u001b[38;5;241;43m.\u001b[39;49m\u001b[43menviron\u001b[49m\u001b[43m,\u001b[49m\n\u001b[1;32m     99\u001b[0m \u001b[43m\u001b[49m\u001b[43m)\u001b[49m\n",
      "File \u001b[0;32m~/opt/anaconda3/envs/aiida/lib/python3.9/subprocess.py:373\u001b[0m, in \u001b[0;36mcheck_call\u001b[0;34m(*popenargs, **kwargs)\u001b[0m\n\u001b[1;32m    371\u001b[0m     \u001b[38;5;28;01mif\u001b[39;00m cmd \u001b[38;5;129;01mis\u001b[39;00m \u001b[38;5;28;01mNone\u001b[39;00m:\n\u001b[1;32m    372\u001b[0m         cmd \u001b[38;5;241m=\u001b[39m popenargs[\u001b[38;5;241m0\u001b[39m]\n\u001b[0;32m--> 373\u001b[0m     \u001b[38;5;28;01mraise\u001b[39;00m CalledProcessError(retcode, cmd)\n\u001b[1;32m    374\u001b[0m \u001b[38;5;28;01mreturn\u001b[39;00m \u001b[38;5;241m0\u001b[39m\n",
      "\u001b[0;31mCalledProcessError\u001b[0m: Command '['pw.x', '-in', 'PREFIX.pwi', '>', 'PREFIX.pwo', '-in', 'espresso.pwi']' returned non-zero exit status 1."
     ]
    }
   ],
   "source": [
    "calc = Espresso(\n",
    "    profile=profile,\n",
    "    pseudopotentials={\n",
    "        'Si': 'Si.UPF',\n",
    "    },\n",
    "    input_data={\n",
    "        'control': {\n",
    "            'calculation': 'vc-relax',\n",
    "            'forc_conv_thr': 1.0e-5,\n",
    "            'verbosity': 'high',\n",
    "            'tstress': True,\n",
    "            'tprnfor': True,\n",
    "        },\n",
    "        'system': {\n",
    "            'ecutwfc': 30,\n",
    "            'ecutrho': 240,\n",
    "            'occupations': 'fixed',\n",
    "        },\n",
    "        'electrons': {\n",
    "            'conv_thr': 1.0e-10,\n",
    "        },\n",
    "    },\n",
    "    kpts=(4, 4, 4)\n",
    ")\n",
    "\n",
    "# Attach the calculator to the H2O molecule\n",
    "si.calc = calc\n",
    "\n",
    "si.get_potential_energy()\n",
    "si_relaxed = read('espresso.pwo')\n",
    "\n",
    "! cat espresso.pwo"
   ]
  },
  {
   "cell_type": "markdown",
   "metadata": {},
   "source": [
    "### Step 3: calculate phonons"
   ]
  },
  {
   "cell_type": "code",
   "execution_count": 33,
   "metadata": {},
   "outputs": [],
   "source": [
    "ph_inputs = \"\"\"\n",
    "&INPUTPH\n",
    "  tr2_ph=1.0e-15,\n",
    "  prefix='pwscf',\n",
    "  verbosity='high',\n",
    "  epsil=.true.\n",
    "  alpha_mix(1)=0.4\n",
    "  ldisp=.true\n",
    "  nq1=2\n",
    "  nq2=2\n",
    "  nq3=2\n",
    "/\n",
    "\"\"\"\n",
    "\n",
    "with open('ph_si.in', 'w+') as handle:\n",
    "    handle.write(ph_inputs)\n",
    "\n",
    "import subprocess\n",
    "\n",
    "command = [str(phx), \"-nk\", \"1\", \"-in\", \"ph_si.in\"]\n",
    "\n",
    "with open(\"ph_si.out\", \"w\") as outfile:\n",
    "  subprocess.run(command, stdout=outfile, stderr=subprocess.STDOUT)\n",
    "\n",
    "! cat ph_si.out"
   ]
  },
  {
   "cell_type": "markdown",
   "metadata": {},
   "source": [
    "### Step 4: diagonalize dynamical matrix"
   ]
  },
  {
   "cell_type": "code",
   "execution_count": 34,
   "metadata": {},
   "outputs": [],
   "source": [
    "dynmat_inputs = \"\"\"\n",
    "&INPUT\n",
    "  fildyn='matdyn',\n",
    "  asr='simple',\n",
    "  filout='dynmat_si.out'\n",
    "/\n",
    "\"\"\"\n",
    "\n",
    "with open('dynmat_si.in', 'w+') as handle:\n",
    "    handle.write(dynmat_inputs)\n",
    "\n",
    "import subprocess\n",
    "\n",
    "command = [str(dynmatx), \"-in\", \"dynmat_si.in\"]\n",
    "\n",
    "with open(\"dynmat_si.out\", \"w\") as outfile:\n",
    "  subprocess.run(command, stdout=outfile, stderr=subprocess.STDOUT)\n",
    "\n",
    "! cat dynmat_si.out"
   ]
  },
  {
   "cell_type": "markdown",
   "metadata": {},
   "source": [
    "### Step 5: calculate the force constants matrix\n",
    "\n",
    "We can go from Fourier space (dynamical matrix) to real space (force constants matrix)."
   ]
  },
  {
   "cell_type": "code",
   "execution_count": 42,
   "metadata": {},
   "outputs": [],
   "source": [
    "q2r_inputs = \"\"\"\n",
    "&INPUT\n",
    "  fildyn='matdyn'\n",
    "  flfrc='si.fc'\n",
    "/\n",
    "\"\"\"\n",
    "\n",
    "with open('q2r_si.in', 'w+') as handle:\n",
    "    handle.write(q2r_inputs)\n",
    "\n",
    "import subprocess\n",
    "\n",
    "command = [str(q2rx), \"-in\", \"q2r_si.in\"]\n",
    "\n",
    "with open(\"q2r_si.out\", \"w\") as outfile:\n",
    "  subprocess.run(command, stdout=outfile, stderr=subprocess.STDOUT)\n",
    "\n",
    "! cat q2r_si.out"
   ]
  },
  {
   "cell_type": "markdown",
   "metadata": {},
   "source": [
    "### Step 6: interpolate the force constants\n",
    "\n",
    "Having the force constants matrix, we can now interpolate it to plot the phonon dispersion."
   ]
  },
  {
   "cell_type": "code",
   "execution_count": 80,
   "metadata": {},
   "outputs": [
    {
     "name": "stdout",
     "output_type": "stream",
     "text": [
      "FCC(a=5.43)\n",
      "  Variant name: FCC\n",
      "  Special point names: GKLUWX\n",
      "  Default path: GXWKGLUWLK,UX\n",
      "\n",
      "  Special point coordinates:\n",
      "    G   0.0000  0.0000  0.0000\n",
      "    K   0.3750  0.3750  0.7500\n",
      "    L   0.5000  0.5000  0.5000\n",
      "    U   0.6250  0.2500  0.6250\n",
      "    W   0.5000  0.2500  0.7500\n",
      "    X   0.5000  0.0000  0.5000\n",
      "\n"
     ]
    }
   ],
   "source": [
    "print(si.cell.get_bravais_lattice().description())"
   ]
  },
  {
   "cell_type": "code",
   "execution_count": 156,
   "metadata": {},
   "outputs": [],
   "source": [
    "matdyn_inputs = \"\"\"\n",
    "&INPUT\n",
    "    asr='crystal',\n",
    "    flfrc='si.fc',\n",
    "    flfrq='si.freq',\n",
    "    q_in_band_form=.true.,\n",
    "    q_in_cryst_coord=.true.,\n",
    "/\n",
    "6\n",
    "    0.0000  0.0000  0.0000  100  ! Γ\n",
    "    0.5000  0.0000  0.5000  100  ! X\n",
    "    0.5000  0.2500  0.7500  100  ! W\n",
    "    0.5000  0.0000  0.5000  100  ! X\n",
    "    0.0000  0.0000  0.0000  100  ! Γ\n",
    "    0.5000  0.5000  0.5000  100  ! L\n",
    "\"\"\"\n",
    "\n",
    "with open('matdyn_si.in', 'w+') as handle:\n",
    "    handle.write(matdyn_inputs)\n",
    "\n",
    "import subprocess\n",
    "\n",
    "command = [str(matdynx), \"-in\", \"matdyn_si.in\"]\n",
    "\n",
    "with open(\"matdyn_si.out\", \"w\") as outfile:\n",
    "  subprocess.run(command, stdout=outfile, stderr=subprocess.STDOUT)\n",
    "\n",
    "! cat matdyn_si.out"
   ]
  },
  {
   "cell_type": "markdown",
   "metadata": {},
   "source": [
    "Write files in plottable format."
   ]
  },
  {
   "cell_type": "code",
   "execution_count": 161,
   "metadata": {},
   "outputs": [],
   "source": [
    "plot_inputs = \"\"\"\n",
    "si.freq\n",
    "-10 1000\n",
    "bands.dat\n",
    "bands.ps\n",
    "0\n",
    "10 10\n",
    "\"\"\"\n",
    "\n",
    "with open('plot_si.in', 'w+') as handle:\n",
    "    handle.write(plot_inputs)\n",
    "\n",
    "command = [str(plotbandx)]\n",
    "\n",
    "with open(\"plot_si.in\", \"r\") as infile, open(\"plot_si.out\", \"w\") as outfile:\n",
    "    subprocess.run(command, stdin=infile, stdout=outfile, stderr=subprocess.STDOUT)\n",
    "\n",
    "! cat plot_si.out"
   ]
  },
  {
   "cell_type": "markdown",
   "metadata": {},
   "source": [
    "Read the data and plot the phonon dispersion."
   ]
  },
  {
   "cell_type": "code",
   "execution_count": 4,
   "metadata": {},
   "outputs": [
    {
     "ename": "FileNotFoundError",
     "evalue": "[Errno 2] No such file or directory: 'bands.dat'",
     "output_type": "error",
     "traceback": [
      "\u001b[0;31m---------------------------------------------------------------------------\u001b[0m",
      "\u001b[0;31mFileNotFoundError\u001b[0m                         Traceback (most recent call last)",
      "Cell \u001b[0;32mIn[4], line 4\u001b[0m\n\u001b[1;32m      1\u001b[0m \u001b[38;5;28;01mimport\u001b[39;00m \u001b[38;5;21;01mnumpy\u001b[39;00m \u001b[38;5;28;01mas\u001b[39;00m \u001b[38;5;21;01mnp\u001b[39;00m\n\u001b[1;32m      2\u001b[0m \u001b[38;5;28;01mimport\u001b[39;00m \u001b[38;5;21;01mmatplotlib\u001b[39;00m\u001b[38;5;21;01m.\u001b[39;00m\u001b[38;5;21;01mpyplot\u001b[39;00m \u001b[38;5;28;01mas\u001b[39;00m \u001b[38;5;21;01mplt\u001b[39;00m\n\u001b[0;32m----> 4\u001b[0m \u001b[38;5;28;01mwith\u001b[39;00m \u001b[38;5;28;43mopen\u001b[39;49m\u001b[43m(\u001b[49m\u001b[38;5;124;43m'\u001b[39;49m\u001b[38;5;124;43mbands.dat\u001b[39;49m\u001b[38;5;124;43m'\u001b[39;49m\u001b[43m,\u001b[49m\u001b[43m \u001b[49m\u001b[38;5;124;43m'\u001b[39;49m\u001b[38;5;124;43mr\u001b[39;49m\u001b[38;5;124;43m'\u001b[39;49m\u001b[43m)\u001b[49m \u001b[38;5;28;01mas\u001b[39;00m f:\n\u001b[1;32m      5\u001b[0m     content \u001b[38;5;241m=\u001b[39m f\u001b[38;5;241m.\u001b[39mread()\n\u001b[1;32m      7\u001b[0m blocks \u001b[38;5;241m=\u001b[39m content\u001b[38;5;241m.\u001b[39mstrip()\u001b[38;5;241m.\u001b[39msplit(\u001b[38;5;124m'\u001b[39m\u001b[38;5;130;01m\\n\u001b[39;00m\u001b[38;5;130;01m\\n\u001b[39;00m\u001b[38;5;124m'\u001b[39m)\n",
      "File \u001b[0;32m~/opt/anaconda3/envs/aiida/lib/python3.9/site-packages/IPython/core/interactiveshell.py:310\u001b[0m, in \u001b[0;36m_modified_open\u001b[0;34m(file, *args, **kwargs)\u001b[0m\n\u001b[1;32m    303\u001b[0m \u001b[38;5;28;01mif\u001b[39;00m file \u001b[38;5;129;01min\u001b[39;00m {\u001b[38;5;241m0\u001b[39m, \u001b[38;5;241m1\u001b[39m, \u001b[38;5;241m2\u001b[39m}:\n\u001b[1;32m    304\u001b[0m     \u001b[38;5;28;01mraise\u001b[39;00m \u001b[38;5;167;01mValueError\u001b[39;00m(\n\u001b[1;32m    305\u001b[0m         \u001b[38;5;124mf\u001b[39m\u001b[38;5;124m\"\u001b[39m\u001b[38;5;124mIPython won\u001b[39m\u001b[38;5;124m'\u001b[39m\u001b[38;5;124mt let you open fd=\u001b[39m\u001b[38;5;132;01m{\u001b[39;00mfile\u001b[38;5;132;01m}\u001b[39;00m\u001b[38;5;124m by default \u001b[39m\u001b[38;5;124m\"\u001b[39m\n\u001b[1;32m    306\u001b[0m         \u001b[38;5;124m\"\u001b[39m\u001b[38;5;124mas it is likely to crash IPython. If you know what you are doing, \u001b[39m\u001b[38;5;124m\"\u001b[39m\n\u001b[1;32m    307\u001b[0m         \u001b[38;5;124m\"\u001b[39m\u001b[38;5;124myou can use builtins\u001b[39m\u001b[38;5;124m'\u001b[39m\u001b[38;5;124m open.\u001b[39m\u001b[38;5;124m\"\u001b[39m\n\u001b[1;32m    308\u001b[0m     )\n\u001b[0;32m--> 310\u001b[0m \u001b[38;5;28;01mreturn\u001b[39;00m \u001b[43mio_open\u001b[49m\u001b[43m(\u001b[49m\u001b[43mfile\u001b[49m\u001b[43m,\u001b[49m\u001b[43m \u001b[49m\u001b[38;5;241;43m*\u001b[39;49m\u001b[43margs\u001b[49m\u001b[43m,\u001b[49m\u001b[43m \u001b[49m\u001b[38;5;241;43m*\u001b[39;49m\u001b[38;5;241;43m*\u001b[39;49m\u001b[43mkwargs\u001b[49m\u001b[43m)\u001b[49m\n",
      "\u001b[0;31mFileNotFoundError\u001b[0m: [Errno 2] No such file or directory: 'bands.dat'"
     ]
    }
   ],
   "source": [
    "import numpy as np\n",
    "import matplotlib.pyplot as plt\n",
    "\n",
    "with open('bands.dat', 'r') as f:\n",
    "    content = f.read()\n",
    "\n",
    "blocks = content.strip().split('\\n\\n')\n",
    "\n",
    "for block in blocks:\n",
    "    data = np.loadtxt(block.strip().split('\\n'))\n",
    "    x = data[:, 0]\n",
    "    y = data[:, 1]\n",
    "    plt.plot(x, y, lw=1.5, c='C3')\n",
    "\n",
    "high_symmetry_points = [0.0000,0.7006,1.0509,1.4012,2.1018,2.7085]\n",
    "\n",
    "plt.ylim([0,540])\n",
    "plt.vlines(high_symmetry_points, *plt.ylim(), colors='gray', linestyles='-', linewidth=.8)\n",
    "plt.xticks(\n",
    "    high_symmetry_points, # you can find in the file `plot_si.out`\n",
    "    ['$\\Gamma$', 'X', 'W', 'X', '$\\Gamma$', 'L']\n",
    ") \n",
    "plt.xlabel('Wave Vector')\n",
    "plt.ylabel('Frequency ($\\mathrm{cm}^{-1}$)')\n",
    "plt.title('Phonon Dispersion of Si')\n",
    "plt.show()"
   ]
  },
  {
   "cell_type": "markdown",
   "metadata": {},
   "source": [
    "# AlAs: phonon dispersion of semiconductors\n",
    "\n",
    "Vibrational modes in semiconductors are affected by long-range interactions when the displacement pattern happens in a large supercell. The effect of these interactions are more and more pronounced close to the $\\Gamma$ point (i.e., modes in very large supercells). Due to this effect, vibrational frequencies of such polar _optical_ phonons are no more degenerate, and undergoe to what is called _LO-TO splitting_ (LO = longitudinal optical; TO = transversal optical)."
   ]
  },
  {
   "cell_type": "code",
   "execution_count": 196,
   "metadata": {},
   "outputs": [],
   "source": [
    "from ase.atoms import Atoms\n",
    "\n",
    "a = 2.875\n",
    "cell = [\n",
    "    [a,a,0],\n",
    "    [a,0,a],\n",
    "    [0,a,a],\n",
    "]\n",
    "gaas = Atoms(\n",
    "    symbols=['Al','As'],\n",
    "    scaled_positions=[[0,0,0],[1/4,1/4,1/4]],\n",
    "    cell=cell,\n",
    "    pbc=True,\n",
    ")"
   ]
  },
  {
   "cell_type": "code",
   "execution_count": 197,
   "metadata": {},
   "outputs": [],
   "source": [
    "calc = Espresso(\n",
    "    profile=profile,\n",
    "    pseudopotentials={\n",
    "        'Al': 'Al.UPF',\n",
    "        'As': 'As.UPF',\n",
    "    },\n",
    "    input_data={\n",
    "        'control': {\n",
    "            'calculation': 'vc-relax',\n",
    "            'forc_conv_thr': 1.0e-5,\n",
    "            'verbosity': 'high',\n",
    "            'tstress': True,\n",
    "            'tprnfor': True,\n",
    "        },\n",
    "        'system': {\n",
    "            'ecutwfc': 30,\n",
    "            'ecutrho': 240,\n",
    "            'occupations': 'fixed',\n",
    "        },\n",
    "        'electrons': {\n",
    "            'conv_thr': 1.0e-10,\n",
    "        },\n",
    "    },\n",
    "    kpts=(4, 4, 4)\n",
    ")\n",
    "\n",
    "# Attach the calculator to the H2O molecule\n",
    "gaas.calc = calc\n",
    "\n",
    "gaas.get_potential_energy()\n",
    "gaas_relaxed = read('espresso.pwo')"
   ]
  },
  {
   "cell_type": "code",
   "execution_count": 263,
   "metadata": {},
   "outputs": [],
   "source": [
    "# Run PH\n",
    "ph_inputs = \"\"\"\n",
    "&INPUTPH\n",
    "  tr2_ph=1.0e-15,\n",
    "  prefix='pwscf',\n",
    "  verbosity='high',\n",
    "  epsil=.false.\n",
    "  zeu=.false.\n",
    "  zue=.false.\n",
    "  alpha_mix(1)=0.4\n",
    "  trans=.true.\n",
    "  ldisp=.true.\n",
    "  nq1=2\n",
    "  nq2=2\n",
    "  nq3=2\n",
    "/\n",
    "\"\"\"\n",
    "\n",
    "with open('ph_alas.in', 'w+') as handle:\n",
    "    handle.write(ph_inputs)\n",
    "\n",
    "command = [str(phx), \"-nk\", \"1\", \"-in\", \"ph_alas.in\"]\n",
    "\n",
    "with open(\"ph_alas.out\", \"w\") as outfile:\n",
    "  subprocess.run(command, stdout=outfile, stderr=subprocess.STDOUT)"
   ]
  },
  {
   "cell_type": "code",
   "execution_count": 327,
   "metadata": {},
   "outputs": [],
   "source": [
    "# Run Q2R\n",
    "q2r_inputs = \"\"\"\n",
    "&INPUT\n",
    "  fildyn='matdyn'\n",
    "  flfrc='alas.fc'\n",
    "/\n",
    "\"\"\"\n",
    "\n",
    "with open('q2r_alas.in', 'w+') as handle:\n",
    "    handle.write(q2r_inputs)\n",
    "\n",
    "import subprocess\n",
    "\n",
    "command = [str(q2rx), \"-in\", \"q2r_alas.in\"]\n",
    "\n",
    "with open(\"q2r_alas.out\", \"w\") as outfile:\n",
    "  subprocess.run(command, stdout=outfile, stderr=subprocess.STDOUT)"
   ]
  },
  {
   "cell_type": "code",
   "execution_count": 328,
   "metadata": {},
   "outputs": [
    {
     "name": "stdout",
     "output_type": "stream",
     "text": [
      "FCC(a=5.75)\n",
      "  Variant name: FCC\n",
      "  Special point names: GKLUWX\n",
      "  Default path: GXWKGLUWLK,UX\n",
      "\n",
      "  Special point coordinates:\n",
      "    G   0.0000  0.0000  0.0000\n",
      "    K   0.3750  0.3750  0.7500\n",
      "    L   0.5000  0.5000  0.5000\n",
      "    U   0.6250  0.2500  0.6250\n",
      "    W   0.5000  0.2500  0.7500\n",
      "    X   0.5000  0.0000  0.5000\n",
      "\n"
     ]
    }
   ],
   "source": [
    "print(gaas.cell.get_bravais_lattice().description())"
   ]
  },
  {
   "cell_type": "code",
   "execution_count": 329,
   "metadata": {},
   "outputs": [],
   "source": [
    "# Run MATDYN\n",
    "matdyn_inputs = \"\"\"\n",
    "&INPUT\n",
    "    asr='crystal',\n",
    "    flfrc='alas.fc',\n",
    "    flfrq='alas.freq',\n",
    "    q_in_band_form=.true.,\n",
    "    q_in_cryst_coord=.true.,\n",
    "/\n",
    "6\n",
    "    0.0000  0.0000  0.0000  100  ! Γ\n",
    "    0.5000  0.0000  0.5000  100  ! X\n",
    "    0.5000  0.2500  0.7500  100  ! W\n",
    "    0.3750  0.3750  0.7500  100  ! K\n",
    "    0.0000  0.0000  0.0000  100  ! Γ\n",
    "    0.5000  0.5000  0.5000  100  ! L\n",
    "\"\"\"\n",
    "\n",
    "with open('matdyn_alas.in', 'w+') as handle:\n",
    "    handle.write(matdyn_inputs)\n",
    "\n",
    "command = [str(matdynx), \"-in\", \"matdyn_alas.in\"]\n",
    "\n",
    "with open(\"matdyn_alas.out\", \"w\") as outfile:\n",
    "  subprocess.run(command, stdout=outfile, stderr=subprocess.STDOUT)"
   ]
  },
  {
   "cell_type": "code",
   "execution_count": 330,
   "metadata": {},
   "outputs": [],
   "source": [
    "# Run PLOTBAND\n",
    "plot_inputs = \"\"\"\n",
    "gaas.freq\n",
    "-10 1000\n",
    "gaas_bands.dat\n",
    "gaas_bands.ps\n",
    "0\n",
    "10 10\n",
    "\"\"\"\n",
    "\n",
    "with open('plot_alas.in', 'w+') as handle:\n",
    "    handle.write(plot_inputs)\n",
    "\n",
    "command = [str(plotbandx)]\n",
    "\n",
    "with open(\"plot_alas.in\", \"r\") as infile, open(\"plot_alas.out\", \"w\") as outfile:\n",
    "    subprocess.run(command, stdin=infile, stdout=outfile, stderr=subprocess.STDOUT)"
   ]
  },
  {
   "cell_type": "code",
   "execution_count": 331,
   "metadata": {},
   "outputs": [
    {
     "data": {
      "image/png": "[encoded data removed]",
      "text/plain": [
       "<Figure size 640x480 with 1 Axes>"
      ]
     },
     "metadata": {},
     "output_type": "display_data"
    }
   ],
   "source": [
    "# Plot the phonon dispersion\n",
    "with open('alas_bands.dat', 'r') as f:\n",
    "    content = f.read()\n",
    "\n",
    "blocks = content.strip().split('\\n\\n')\n",
    "\n",
    "for block in blocks:\n",
    "    data = np.loadtxt(block.strip().split('\\n'))\n",
    "    x = data[:, 0]\n",
    "    y = data[:, 1]\n",
    "    plt.plot(x, y, lw=1.5, c='C3')\n",
    "\n",
    "high_symmetry_points = [0.0000, 0.7085, 1.0627, 1.3132, 2.6782, 2.0646]\n",
    "\n",
    "plt.ylim([0,540])\n",
    "plt.vlines(high_symmetry_points, *plt.ylim(), colors='gray', linestyles='-', linewidth=.8)\n",
    "plt.xticks(\n",
    "    high_symmetry_points, # you can find in the file `plot_si.out`\n",
    "    ['$\\Gamma$', 'X', 'W', 'K', '$\\Gamma$', 'L']\n",
    ") \n",
    "plt.xlabel('Wave Vector')\n",
    "plt.ylabel('Frequency ($\\mathrm{cm}^{-1}$)')\n",
    "plt.title('Phonon Dispersion of GaAs')\n",
    "plt.show()"
   ]
  }
 ],
 "metadata": {
  "kernelspec": {
   "display_name": "aiida",
   "language": "python",
   "name": "python3"
  },
  "language_info": {
   "codemirror_mode": {
    "name": "ipython",
    "version": 3
   },
   "file_extension": ".py",
   "mimetype": "text/x-python",
   "name": "python",
   "nbconvert_exporter": "python",
   "pygments_lexer": "ipython3",
   "version": "3.9.18"
  }
 },
 "nbformat": 4,
 "nbformat_minor": 2
}
