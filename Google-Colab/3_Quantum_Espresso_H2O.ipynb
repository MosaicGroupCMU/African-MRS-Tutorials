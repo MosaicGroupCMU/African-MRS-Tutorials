{
  "nbformat": 4,
  "nbformat_minor": 0,
  "metadata": {
    "colab": {
      "provenance": [],
      "gpuType": "T4",
      "include_colab_link": true
    },
    "kernelspec": {
      "name": "python3",
      "display_name": "Python 3"
    }
  },
  "cells": [
    {
      "cell_type": "markdown",
      "metadata": {
        "id": "view-in-github",
        "colab_type": "text"
      },
      "source": [
        "<a href=\"https://colab.research.google.com/github/MosaicGroupCMU/African-MRS-Tutorials/blob/main/Google-Colab/3_Quantum_Espresso_H2O.ipynb\" target=\"_parent\"><img src=\"https://colab.research.google.com/assets/colab-badge.svg\" alt=\"Open In Colab\"/></a>"
      ]
    },
    {
      "cell_type": "markdown",
      "source": [
        "# Introduction to geometry optimization of molecular water using Quantum ESPRESSO\n",
        "\n",
        "Contributors: [Seda Oturak](https://github.com/sedaoturak), [Ismaila Dabo](https://scholar.google.com/citations?user=rN299m0AAAAJ&hl=en), [Jessica Wen](https://github.com/JessicaWen-PhD), [Cierra Chandler](https://github.com/Cierra-Chandler), [Henry Eya](https://github.com/Henrynweya)\n",
        "\n"
      ],
      "metadata": {
        "id": "YRXrx6RMqg0r"
      }
    },
    {
      "cell_type": "markdown",
      "metadata": {
        "id": "IJD9ZrhUbG8g"
      },
      "source": [
        "# Step 1: Install libraries, environment, and Quantum ESPRESSO"
      ]
    },
    {
      "cell_type": "markdown",
      "source": [
        "This part installs libraries for numerical calculations and plotting."
      ],
      "metadata": {
        "id": "vqsBj38YseB6"
      }
    },
    {
      "cell_type": "code",
      "source": [
        "# load plotting libraries\n",
        "import matplotlib.pyplot as plt\n",
        "\n",
        "# load numerical libraries\n",
        "import numpy as np"
      ],
      "metadata": {
        "id": "ujaO0qfTsRsV"
      },
      "execution_count": null,
      "outputs": []
    },
    {
      "cell_type": "markdown",
      "source": [
        "Quantum ESPRESSO is a plane wave code, which uses Fourier transforms to solve equations in plane wave space. This part installs libraries for fast Fourier transforms (FFTs)."
      ],
      "metadata": {
        "id": "HHMMhkfL__p1"
      }
    },
    {
      "cell_type": "code",
      "metadata": {
        "id": "7imWdEV1V-Fg"
      },
      "source": [
        "# eliminate text output during installation\n",
        "%%capture\n",
        "\n",
        "# install mathematical libraries to peform fast Fourier transforms\n",
        "# (the exclamation mark means that the command is run under Linux)\n",
        "! apt-get install -y libfftw3-3 libfftw3-dev libfftw3-doc"
      ],
      "execution_count": null,
      "outputs": []
    },
    {
      "cell_type": "markdown",
      "source": [
        "The Atomic Simulation Environment (ASE) is a set of tools for running, visualizing, and analyzing simulations. This part installs ASE."
      ],
      "metadata": {
        "id": "E5v-b5UXKltX"
      }
    },
    {
      "cell_type": "code",
      "source": [
        "# eliminate text output during installation\n",
        "%%capture\n",
        "\n",
        "# install the Atomic simulation environment\n",
        "# ! apt install ase\n",
        "! pip install git+https://gitlab.com/ase/ase"
      ],
      "metadata": {
        "id": "STM7dA3yKJb2"
      },
      "execution_count": null,
      "outputs": []
    },
    {
      "cell_type": "markdown",
      "source": [
        "Compiling Quantum ESPRESSO from scratch would take a long time. This part uploads pre-compiled executable files (`.x` extension) and additional files containing the pseudopotentials."
      ],
      "metadata": {
        "id": "3oJbUd4y2Sww"
      }
    },
    {
      "cell_type": "code",
      "source": [
        "# eliminate text output during installation\n",
        "%%capture\n",
        "\n",
        "# navigate to main directory named '/content/'\n",
        "%cd /content/\n",
        "\n",
        "# download the pre-compiled files in compressed format (under Linux)\n",
        "#! wget 'https://docs.google.com/uc?export=download&id=1kw_CJMjP6ggDZXDNp5phAqCPpoe2WXCA' -O qe-lite.tgz\n",
        "!gdown 'https://drive.google.com/uc?export=download&id=13l-Kiyg-F6aYb5lF8M3RsE1hSnLRdGna' -O qe-lite.tgz\n",
        "\n",
        "# unpack the compressed files (under Linux)\n",
        "! tar -xvzf qe-lite.tgz\n",
        "\n",
        "# clean up some files\n",
        "! rm -rf sample_data qe-lite.tgz"
      ],
      "metadata": {
        "id": "vLD7ypmk2SVm"
      },
      "execution_count": null,
      "outputs": []
    },
    {
      "cell_type": "markdown",
      "source": [
        "# Step 2: Prepare Quantum ESPRESSO input file for SCF"
      ],
      "metadata": {
        "id": "4yG2DhuXKDeU"
      }
    },
    {
      "cell_type": "markdown",
      "source": [
        "The calculation is for a water molecule. The definition of the input parameters of the `pw.x` executable can be found at `www.quantum-espresso.org/Doc/INPUT_PW.html`.\n",
        "\n",
        "Things to note for molecules:\n",
        "1. The molecule should be put in a vacuum\n",
        "2. KPOINTS of 1 1 1 is used"
      ],
      "metadata": {
        "id": "fmd4tSeW9rxK"
      }
    },
    {
      "cell_type": "code",
      "source": [
        "# create calculation folder and navigate into it\n",
        "%mkdir -p /content/folder_name\n",
        "%cd /content/folder_name/\n",
        "\n",
        "# create input and write it into the file h20.scf.in\n",
        "qe_input = \"\"\"\n",
        "&control\n",
        "  prefix='water',\n",
        "  pseudo_dir = 'path_pseudopotentials',\n",
        "  outdir='/content/foler_name'\n",
        "/\n",
        "&system\n",
        "  ibrav = 0,\n",
        "  nat = 3,\n",
        "  ntyp = 2,\n",
        "  ecutwfc = 30.0,\n",
        "  ecutrho = 240.0,\n",
        "  occupations  = 'smearing'\n",
        "  degauss      = 0.001\n",
        "  smearing     = 'marzari-vanderbilt'\n",
        "/\n",
        "&electrons\n",
        "  conv_thr = 1e-8,\n",
        "/\n",
        "ATOMIC_SPECIES\n",
        "O atomic_mass of O psuedopotential of O\n",
        "H atomic_mass of H psuedopotential of H\n",
        "\n",
        "K_POINTS automatic\n",
        "1 1 1 0 0 0\n",
        "\n",
        "CELL_PARAMETERS angstrom\n",
        "10.00000000000000 0.00000000000000 0.00000000000000\n",
        "0.00000000000000 10.00000000000000 0.00000000000000\n",
        "0.00000000000000 0.00000000000000 10.00000000000000\n",
        "\n",
        "ATOMIC_POSITIONS angstrom\n",
        "O 0.0000000000 0.0000000000 0.2981545000\n",
        "H 0.0000000000 0.7632390000 -0.2981545000\n",
        "H 0.0000000000 -0.7632390000 -0.2981545000\n",
        "\n",
        "\"\"\"\n",
        "\n",
        "with open(\"h20.scf.in\", \"w\") as f:\n",
        "    f.write(qe_input)\n",
        "\n",
        "# print the content of the input file (under Linux)\n",
        "! cat h20.scf.in"
      ],
      "metadata": {
        "id": "tTUnqAgSKF0i"
      },
      "execution_count": null,
      "outputs": []
    },
    {
      "cell_type": "markdown",
      "source": [
        "Use ASE tools to extract information from Quantum ESPRESSO input and visualize the crystal."
      ],
      "metadata": {
        "id": "ruEqTitAWQ-j"
      }
    },
    {
      "cell_type": "code",
      "source": [
        "import ase.io.espresso\n",
        "from ase import Atoms\n",
        "from ase.visualize import view\n",
        "from ase.build import make_supercell\n",
        "from ase.build import bulk\n",
        "\n",
        "# extract unit cell information from input file using ASE\n",
        "input_file = ase.io.espresso.read_espresso_in('h20.scf.in')\n",
        "water = Atoms(input_file)\n",
        "\n",
        "# create a supercell (2 × 2 × 2) using ASE\n",
        "multiplier = np.identity(3) * 2\n",
        "water_supercell = make_supercell(water,multiplier)\n",
        "\n",
        "\"\"\"\n",
        "#For non-square array (for example 1 x 2 x 1), you can use the follwoing lines\n",
        "\n",
        "multiplier = np.array([\n",
        "    [3, 0, 0],  # x-dimension unchanged\n",
        "    [0, 2, 0],  # y-dimension scaled by 2\n",
        "    [0, 0, 2]   # z-dimension unchanged\n",
        "])\n",
        "water_supercell = make_supercell(water,multiplier)\n",
        "\"\"\"\n",
        "# visualize the supercell\n",
        "view(water_supercell, viewer='x3d')"
      ],
      "metadata": {
        "id": "oaciRbpOSxm3"
      },
      "execution_count": null,
      "outputs": []
    },
    {
      "cell_type": "markdown",
      "metadata": {
        "id": "RDx8cJlddYA6"
      },
      "source": [
        "# Step 3: Run Quantum ESPRESSO using input file"
      ]
    },
    {
      "cell_type": "code",
      "metadata": {
        "id": "WTOSK0QvZ0s8"
      },
      "source": [
        "# run the pw.x executable using si.scf.in to create si.scf.out\n",
        "! path_to_pw.x < h20.scf.in > h20.scf.out\n",
        "\n",
        "# print the content of the output file (under Linux)\n",
        "! cat h20.scf.out"
      ],
      "execution_count": null,
      "outputs": []
    },
    {
      "cell_type": "markdown",
      "source": [
        "#Step 4: Extract the total energy of the system"
      ],
      "metadata": {
        "id": "wfUn-ByGvEI8"
      }
    },
    {
      "cell_type": "code",
      "source": [
        "# First method: xtract total energies in rydberg during the self-consistent-field calculation (under Linux)\n",
        "! grep -e \"total energy  \" -e \"estimated\" h20.scf.out #NOTE: grep is a power comand that can seacrh and list the specified term in a file"
      ],
      "metadata": {
        "id": "nAwPVzJe9tdd"
      },
      "execution_count": null,
      "outputs": []
    },
    {
      "cell_type": "code",
      "source": [
        "# define physical constants for unit conversion\n",
        "from scipy.constants import physical_constants\n",
        "ha_in_ev = physical_constants[\"Hartree energy in eV\"][0]\n",
        "ry_in_ev = ha_in_ev / 2.\n",
        "\n",
        "# second method: extract total energy at the end of the self-consistent calculation (using ASE)\n",
        "output = ase.io.read(\"/content/water/h20.scf.out\")\n",
        "total_energy = output.get_total_energy()\n",
        "print(\"Energy = %.8f eV \" % total_energy)\n",
        "print(\"Energy = %.8f Ry \" % ( total_energy / ry_in_ev ) )"
      ],
      "metadata": {
        "id": "mH7bL06aJoQU"
      },
      "execution_count": null,
      "outputs": []
    }
  ]
}
