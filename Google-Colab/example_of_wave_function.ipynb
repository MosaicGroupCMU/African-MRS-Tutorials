{
  "nbformat": 4,
  "nbformat_minor": 0,
  "metadata": {
    "colab": {
      "provenance": [],
      "collapsed_sections": [
        "wVI6ftCIRCyk",
        "lFAuQsUpmZZs",
        "rJtRFnzCmWAd"
      ]
    },
    "kernelspec": {
      "name": "python3",
      "display_name": "Python 3"
    },
    "language_info": {
      "name": "python"
    }
  },
  "cells": [
    {
      "cell_type": "markdown",
      "source": [
        "# Example of a wave function: the Gaussian wave packet\n",
        "\n",
        "Contributors: [Ismaila Dabo](https://scholar.google.com/citations?user=rN299m0AAAAJ&hl=en)"
      ],
      "metadata": {
        "id": "xlnDve3HnfvP"
      }
    },
    {
      "cell_type": "code",
      "source": [
        "import numpy as np\n",
        "import matplotlib.pyplot as plt\n",
        "import tqdm\n",
        "\n",
        "\n",
        "# discretize space\n",
        "dx = 0.5\n",
        "x = np.arange(-250, 251, dx)\n",
        "nx = len(x)\n",
        "\n",
        "# discretize time\n",
        "dt = 0.25\n",
        "t = np.arange(0, 151, dt)\n",
        "nt = len(t)\n",
        "\n",
        "# initialize wave packet\n",
        "x0 = ____\n",
        "k0 = 1.0\n",
        "sigma0 = 10\n",
        "psi = ____\n",
        "\n",
        "# plot the wave packet\n",
        "fig, ax = plt.subplots()\n",
        "ax.plot(x, ____, label='Re $\\psi$')\n",
        "ax.plot(x, ____, label='Im $\\psi$')\n",
        "ax.plot(x, ____, label='$| \\psi |^2$')\n",
        "\n",
        "# configure the plot\n",
        "ax.set_xlim(0, 100)\n",
        "ax.set_xlabel('position (a.u.)')\n",
        "ax.set_ylabel('wavefunction')\n",
        "ax.legend()\n",
        "ax.grid()\n",
        "\n",
        "print(f'Integral: {dx*____}')"
      ],
      "metadata": {
        "id": "Od8sNWXJm558"
      },
      "execution_count": null,
      "outputs": []
    },
    {
      "cell_type": "markdown",
      "source": [
        "## solution"
      ],
      "metadata": {
        "id": "wVI6ftCIRCyk"
      }
    },
    {
      "cell_type": "code",
      "execution_count": null,
      "metadata": {
        "id": "mem9Giy6ul81"
      },
      "outputs": [],
      "source": [
        "import numpy as np\n",
        "import matplotlib.pyplot as plt\n",
        "import tqdm\n",
        "\n",
        "\n",
        "# discretize space\n",
        "dx = 0.5\n",
        "x = np.arange(-250, 251, dx)\n",
        "nx = len(x)\n",
        "\n",
        "# discretize time\n",
        "dt = 0.25\n",
        "t = np.arange(0, 151, dt)\n",
        "nt = len(t)\n",
        "\n",
        "# initialize wave packet\n",
        "x0 = 50\n",
        "k0 = 1.0\n",
        "sigma0 = 10\n",
        "psi = (2 * sigma0**2 * np.pi)**-0.25 * np.exp(-(x - x0)**2 / (4 * sigma0**2)) * np.exp(1j * k0 * x)\n",
        "\n",
        "# plot the wave packet\n",
        "fig, ax = plt.subplots()\n",
        "ax.plot(x, np.real(psi), label='Re $\\psi$')\n",
        "ax.plot(x, np.imag(psi), label='Im $\\psi$')\n",
        "ax.plot(x, np.abs(psi)**2, label='$| \\psi |^2$')\n",
        "\n",
        "# configure the plot\n",
        "ax.set_xlim(0, 100)\n",
        "ax.set_xlabel('position (a.u.)')\n",
        "ax.set_ylabel('wavefunction')\n",
        "ax.legend()\n",
        "ax.grid()\n",
        "\n",
        "print(f'Integral: {dx*np.sum(np.abs(psi)**2)}')"
      ]
    }
  ]
}